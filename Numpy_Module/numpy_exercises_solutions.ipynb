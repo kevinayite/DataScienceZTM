{
  "cells": [
    {
      "cell_type": "markdown",
      "metadata": {
        "id": "RbA9K082LULu"
      },
      "source": [
        "# NumPy Practice (solutions)\n",
        "\n",
        "This notebook offers a set of solutions to different tasks with NumPy.\n",
        "\n",
        "It should be noted there may be more than one different way to answer a question or complete an exercise.\n",
        "\n",
        "Exercises are based off (and directly taken from) the quick introduction to NumPy notebook.\n",
        "\n",
        "Different tasks will be detailed by comments or text.\n",
        "\n",
        "For further reference and resources, it's advised to check out the [NumPy documentation](https://numpy.org/devdocs/user/index.html)."
      ]
    },
    {
      "cell_type": "code",
      "execution_count": null,
      "metadata": {
        "id": "lWDldRxpLULy"
      },
      "outputs": [],
      "source": [
        "# Import NumPy as its abbreviation 'np'\n",
        "import numpy as np"
      ]
    },
    {
      "cell_type": "code",
      "execution_count": null,
      "metadata": {
        "id": "M0HKu6EHLULz"
      },
      "outputs": [],
      "source": [
        "# Create a 1-dimensional NumPy array using np.array()\n",
        "a1 = np.array([1, 2, 3])\n",
        "\n",
        "# Create a 2-dimensional NumPy array using np.array()\n",
        "a2 = np.array([[1, 2, 3],\n",
        "                [4, 5, 6]])\n",
        "\n",
        "# Create a 3-dimensional Numpy array using np.array()\n",
        "a3 = np.array([[[1, 2, 3],\n",
        "                [4, 5, 6],\n",
        "                [7, 8, 9]],\n",
        "                [[10, 11, 12],\n",
        "                 [13, 14, 15],\n",
        "                 [16, 17, 18]]])"
      ]
    },
    {
      "cell_type": "markdown",
      "metadata": {
        "id": "qJkh5PGlLULz"
      },
      "source": [
        "Now we've you've created 3 different arrays, let's find details about them.\n",
        "\n",
        "Find the shape, number of dimensions, data type, size and type of each array."
      ]
    },
    {
      "cell_type": "code",
      "execution_count": null,
      "metadata": {
        "id": "av5adXIdLUL0",
        "outputId": "c9983d7e-2fc4-456c-af9e-8cb408857363"
      },
      "outputs": [
        {
          "data": {
            "text/plain": [
              "((3,), 1, dtype('int64'), 3, numpy.ndarray)"
            ]
          },
          "execution_count": 3,
          "metadata": {},
          "output_type": "execute_result"
        }
      ],
      "source": [
        "# Attributes of 1-dimensional array\n",
        "a1.shape, a1.ndim, a1.dtype, a1.size, type(a1)"
      ]
    },
    {
      "cell_type": "code",
      "execution_count": null,
      "metadata": {
        "id": "Lsx7aRGaLUL1",
        "outputId": "dfc96643-fd77-48d8-cd9b-aa9647382a4e"
      },
      "outputs": [
        {
          "data": {
            "text/plain": [
              "((2, 3), 2, dtype('int64'), 6, numpy.ndarray)"
            ]
          },
          "execution_count": 4,
          "metadata": {},
          "output_type": "execute_result"
        }
      ],
      "source": [
        "# Attributes of 2-dimensional array\n",
        "a2.shape, a2.ndim, a2.dtype, a2.size, type(a2)"
      ]
    },
    {
      "cell_type": "code",
      "execution_count": null,
      "metadata": {
        "id": "VuTf0go1LUL1",
        "outputId": "38a77542-ac9c-4bb8-df3c-eabb7b7825de"
      },
      "outputs": [
        {
          "data": {
            "text/plain": [
              "((2, 3, 3), 3, dtype('int64'), 18, numpy.ndarray)"
            ]
          },
          "execution_count": 5,
          "metadata": {},
          "output_type": "execute_result"
        }
      ],
      "source": [
        "# Attributes of 3-dimensional array\n",
        "a3.shape, a3.ndim, a3.dtype, a3.size, type(a3)"
      ]
    },
    {
      "cell_type": "code",
      "execution_count": null,
      "metadata": {
        "id": "B8h8msOzLUL1",
        "outputId": "5f4d2a2c-4f8d-4ff1-98ac-b6941839b669"
      },
      "outputs": [
        {
          "data": {
            "text/html": [
              "<div>\n",
              "<style scoped>\n",
              "    .dataframe tbody tr th:only-of-type {\n",
              "        vertical-align: middle;\n",
              "    }\n",
              "\n",
              "    .dataframe tbody tr th {\n",
              "        vertical-align: top;\n",
              "    }\n",
              "\n",
              "    .dataframe thead th {\n",
              "        text-align: right;\n",
              "    }\n",
              "</style>\n",
              "<table border=\"1\" class=\"dataframe\">\n",
              "  <thead>\n",
              "    <tr style=\"text-align: right;\">\n",
              "      <th></th>\n",
              "      <th>0</th>\n",
              "      <th>1</th>\n",
              "      <th>2</th>\n",
              "    </tr>\n",
              "  </thead>\n",
              "  <tbody>\n",
              "    <tr>\n",
              "      <th>0</th>\n",
              "      <td>1</td>\n",
              "      <td>2</td>\n",
              "      <td>3</td>\n",
              "    </tr>\n",
              "    <tr>\n",
              "      <th>1</th>\n",
              "      <td>4</td>\n",
              "      <td>5</td>\n",
              "      <td>6</td>\n",
              "    </tr>\n",
              "  </tbody>\n",
              "</table>\n",
              "</div>"
            ],
            "text/plain": [
              "   0  1  2\n",
              "0  1  2  3\n",
              "1  4  5  6"
            ]
          },
          "execution_count": 6,
          "metadata": {},
          "output_type": "execute_result"
        }
      ],
      "source": [
        "# Import pandas and create a DataFrame out of one\n",
        "# of the arrays you've created\n",
        "import pandas as pd\n",
        "df = pd.DataFrame(a2)\n",
        "df"
      ]
    },
    {
      "cell_type": "code",
      "execution_count": null,
      "metadata": {
        "id": "vZdj2qiJLUL2",
        "outputId": "62770ce1-1f9e-4aaf-c5d9-c49d0775c4af"
      },
      "outputs": [
        {
          "data": {
            "text/plain": [
              "array([[1., 1.],\n",
              "       [1., 1.],\n",
              "       [1., 1.],\n",
              "       [1., 1.],\n",
              "       [1., 1.],\n",
              "       [1., 1.],\n",
              "       [1., 1.],\n",
              "       [1., 1.],\n",
              "       [1., 1.],\n",
              "       [1., 1.]])"
            ]
          },
          "execution_count": 7,
          "metadata": {},
          "output_type": "execute_result"
        }
      ],
      "source": [
        "# Create an array of shape (10, 2) with only ones\n",
        "ones = np.ones((10, 2))\n",
        "ones"
      ]
    },
    {
      "cell_type": "code",
      "execution_count": null,
      "metadata": {
        "id": "xFsfWCZyLUL2",
        "outputId": "5903985f-bcd6-43bf-c11b-c17fe8979293"
      },
      "outputs": [
        {
          "data": {
            "text/plain": [
              "array([[[0., 0., 0.],\n",
              "        [0., 0., 0.]],\n",
              "\n",
              "       [[0., 0., 0.],\n",
              "        [0., 0., 0.]],\n",
              "\n",
              "       [[0., 0., 0.],\n",
              "        [0., 0., 0.]],\n",
              "\n",
              "       [[0., 0., 0.],\n",
              "        [0., 0., 0.]],\n",
              "\n",
              "       [[0., 0., 0.],\n",
              "        [0., 0., 0.]],\n",
              "\n",
              "       [[0., 0., 0.],\n",
              "        [0., 0., 0.]],\n",
              "\n",
              "       [[0., 0., 0.],\n",
              "        [0., 0., 0.]]])"
            ]
          },
          "execution_count": 8,
          "metadata": {},
          "output_type": "execute_result"
        }
      ],
      "source": [
        "# Create an array of shape (7, 2, 3) of only zeros\n",
        "zeros = np.zeros((7, 2, 3))\n",
        "zeros"
      ]
    },
    {
      "cell_type": "code",
      "execution_count": null,
      "metadata": {
        "id": "HktXh5LJLUL2",
        "outputId": "f85d21c2-44ba-4342-d39e-2918edded6dc"
      },
      "outputs": [
        {
          "data": {
            "text/plain": [
              "array([ 0,  3,  6,  9, 12, 15, 18, 21, 24, 27, 30, 33, 36, 39, 42, 45, 48,\n",
              "       51, 54, 57, 60, 63, 66, 69, 72, 75, 78, 81, 84, 87, 90, 93, 96, 99])"
            ]
          },
          "execution_count": 9,
          "metadata": {},
          "output_type": "execute_result"
        }
      ],
      "source": [
        "# Create an array within a range of 0 and 100 with step 3\n",
        "range_array = np.arange(0, 100, 3)\n",
        "range_array"
      ]
    },
    {
      "cell_type": "code",
      "execution_count": null,
      "metadata": {
        "id": "jxKMPvtoLUL3",
        "outputId": "38d6e0e6-8408-46dd-a1af-2c7d2853d835"
      },
      "outputs": [
        {
          "data": {
            "text/plain": [
              "array([[8, 7],\n",
              "       [9, 9],\n",
              "       [1, 9],\n",
              "       [1, 5],\n",
              "       [8, 7],\n",
              "       [6, 6],\n",
              "       [0, 4]])"
            ]
          },
          "execution_count": 10,
          "metadata": {},
          "output_type": "execute_result"
        }
      ],
      "source": [
        "# Create a random array with numbers between 0 and 10 of size (7, 2)\n",
        "random_array = np.random.randint(10, size=(7, 2))\n",
        "random_array"
      ]
    },
    {
      "cell_type": "code",
      "execution_count": null,
      "metadata": {
        "id": "MxxB4ghcLUL3",
        "outputId": "d3251e05-b763-4da9-db78-b01cc1a06010"
      },
      "outputs": [
        {
          "data": {
            "text/plain": [
              "array([[0.75480126, 0.63027896, 0.00432216, 0.82660043, 0.76376716],\n",
              "       [0.85392685, 0.22136242, 0.51595776, 0.57397845, 0.87653345],\n",
              "       [0.21496518, 0.99913323, 0.29537964, 0.31380183, 0.59812565]])"
            ]
          },
          "execution_count": 11,
          "metadata": {},
          "output_type": "execute_result"
        }
      ],
      "source": [
        "# Create a random array of floats between 0 & 1 of shape (3, 5)\n",
        "np.random.random((3, 5))"
      ]
    },
    {
      "cell_type": "code",
      "execution_count": null,
      "metadata": {
        "id": "KHW63oB6LUL3",
        "outputId": "66687558-755f-43dd-c129-bea78b0a4c5f"
      },
      "outputs": [
        {
          "data": {
            "text/plain": [
              "array([[6, 3, 7, 4, 6, 9],\n",
              "       [2, 6, 7, 4, 3, 7],\n",
              "       [7, 2, 5, 4, 1, 7],\n",
              "       [5, 1, 4, 0, 9, 5]])"
            ]
          },
          "execution_count": 12,
          "metadata": {},
          "output_type": "execute_result"
        }
      ],
      "source": [
        "# Set the random seed to 42\n",
        "np.random.seed(42)\n",
        "\n",
        "# Create a random array of numbers between 0 & 10 of size (4, 6)\n",
        "np.random.randint(10, size=(4, 6))"
      ]
    },
    {
      "cell_type": "markdown",
      "metadata": {
        "id": "KgHLLa9tLUL4"
      },
      "source": [
        "Run the cell above again, what happens?\n",
        "\n",
        "Are the numbers in the array different or the same? Why do think this is?"
      ]
    },
    {
      "cell_type": "code",
      "execution_count": null,
      "metadata": {
        "id": "jo5a2L-RLUL4",
        "outputId": "ebe79bd6-75c7-4135-f6ed-7aebd420b6cf"
      },
      "outputs": [
        {
          "data": {
            "text/plain": [
              "array([1, 2, 3, 4, 5, 7, 9])"
            ]
          },
          "execution_count": 13,
          "metadata": {},
          "output_type": "execute_result"
        }
      ],
      "source": [
        "# Create an array of random numbers between 1 & 10 of size (3, 7)\n",
        "# and save it to a variable\n",
        "array = np.random.randint(1, 10, size=(3, 7))\n",
        "\n",
        "# Find the unique numbers in the array you just created\n",
        "np.unique(array)"
      ]
    },
    {
      "cell_type": "code",
      "execution_count": null,
      "metadata": {
        "id": "CEDXGpSJLUL4",
        "outputId": "e9fdb3c7-bacd-4e45-d4d6-84efc307dc57"
      },
      "outputs": [
        {
          "data": {
            "text/plain": [
              "array([9, 1, 3, 7, 4, 9, 3])"
            ]
          },
          "execution_count": 14,
          "metadata": {},
          "output_type": "execute_result"
        }
      ],
      "source": [
        "# Find the 0'th index of the latest array you created\n",
        "array[0]"
      ]
    },
    {
      "cell_type": "code",
      "execution_count": null,
      "metadata": {
        "id": "cKKKL5ohLUL4",
        "outputId": "84cbd1fe-e9aa-4862-db94-d0a23c0f2e28"
      },
      "outputs": [
        {
          "data": {
            "text/plain": [
              "array([[9, 1, 3, 7, 4, 9, 3],\n",
              "       [5, 3, 7, 5, 9, 7, 2]])"
            ]
          },
          "execution_count": 15,
          "metadata": {},
          "output_type": "execute_result"
        }
      ],
      "source": [
        "# Get the first 2 rows of latest array you created\n",
        "array[:2]"
      ]
    },
    {
      "cell_type": "code",
      "execution_count": null,
      "metadata": {
        "id": "M94pasKSLUL5",
        "outputId": "5a3f16f5-b8a0-42e0-8e43-670d78446d0f"
      },
      "outputs": [
        {
          "data": {
            "text/plain": [
              "array([[9, 1],\n",
              "       [5, 3]])"
            ]
          },
          "execution_count": 16,
          "metadata": {},
          "output_type": "execute_result"
        }
      ],
      "source": [
        "# Get the first 2 values of the first 2 rows of the latest array\n",
        "array[:2, :2]"
      ]
    },
    {
      "cell_type": "code",
      "execution_count": null,
      "metadata": {
        "id": "cb0fKBJRLUL5"
      },
      "outputs": [],
      "source": [
        "# Create a random array of numbers between 0 & 10 and an array of ones\n",
        "# both of size (3, 5), save them both to variables\n",
        "a4 = np.random.randint(10, size=(3, 5))\n",
        "ones = np.ones((3, 5))"
      ]
    },
    {
      "cell_type": "code",
      "execution_count": null,
      "metadata": {
        "id": "ovZK62qyLUL5",
        "outputId": "bb488eeb-4638-4c54-da7d-11d134273117"
      },
      "outputs": [
        {
          "data": {
            "text/plain": [
              "array([[ 7.,  8.,  3.,  1.,  4.],\n",
              "       [ 2.,  8.,  4.,  2.,  6.],\n",
              "       [ 6., 10.,  4.,  6.,  2.]])"
            ]
          },
          "execution_count": 18,
          "metadata": {},
          "output_type": "execute_result"
        }
      ],
      "source": [
        "# Add the two arrays together\n",
        "a4 + ones"
      ]
    },
    {
      "cell_type": "code",
      "execution_count": null,
      "metadata": {
        "id": "02qsNvabLUL5"
      },
      "outputs": [],
      "source": [
        "# Create another array of ones of shape (5, 3)\n",
        "ones = np.ones((5, 3))"
      ]
    },
    {
      "cell_type": "code",
      "execution_count": null,
      "metadata": {
        "id": "2Tvryd4jLUL6",
        "outputId": "f6fb01b0-14e5-4daa-90d1-7d507c1260d7"
      },
      "outputs": [
        {
          "ename": "ValueError",
          "evalue": "operands could not be broadcast together with shapes (3,5) (5,3) ",
          "output_type": "error",
          "traceback": [
            "\u001b[0;31m---------------------------------------------------------------------------\u001b[0m",
            "\u001b[0;31mValueError\u001b[0m                                Traceback (most recent call last)",
            "\u001b[0;32m<ipython-input-20-c7305efdb212>\u001b[0m in \u001b[0;36m<module>\u001b[0;34m\u001b[0m\n\u001b[1;32m      1\u001b[0m \u001b[0;31m# Try add the array of ones and the other most recent array together\u001b[0m\u001b[0;34m\u001b[0m\u001b[0;34m\u001b[0m\u001b[0;34m\u001b[0m\u001b[0m\n\u001b[0;32m----> 2\u001b[0;31m \u001b[0ma4\u001b[0m \u001b[0;34m+\u001b[0m \u001b[0mones\u001b[0m\u001b[0;34m\u001b[0m\u001b[0;34m\u001b[0m\u001b[0m\n\u001b[0m",
            "\u001b[0;31mValueError\u001b[0m: operands could not be broadcast together with shapes (3,5) (5,3) "
          ]
        }
      ],
      "source": [
        "# Try to add the array of ones and the other most recent array together\n",
        "a4 + ones"
      ]
    },
    {
      "cell_type": "markdown",
      "metadata": {
        "id": "D24w4YHaLUL6"
      },
      "source": [
        "When you try the last cell, it produces an error. Why do think this is?\n",
        "\n",
        "How would you fix it?"
      ]
    },
    {
      "cell_type": "code",
      "execution_count": null,
      "metadata": {
        "id": "W-jLwcMvLUL6"
      },
      "outputs": [],
      "source": [
        "# Create another array of ones of shape (3, 5)\n",
        "ones = np.ones((3, 5))"
      ]
    },
    {
      "cell_type": "code",
      "execution_count": null,
      "metadata": {
        "id": "wQVW985sLUL6",
        "outputId": "b850895f-1a97-4a9f-ecd8-b9c9b88824d2"
      },
      "outputs": [
        {
          "data": {
            "text/plain": [
              "array([[ 5.,  6.,  1., -1.,  2.],\n",
              "       [ 0.,  6.,  2.,  0.,  4.],\n",
              "       [ 4.,  8.,  2.,  4.,  0.]])"
            ]
          },
          "execution_count": 22,
          "metadata": {},
          "output_type": "execute_result"
        }
      ],
      "source": [
        "# Subtract the new array of ones from the other most recent array\n",
        "a4 - ones"
      ]
    },
    {
      "cell_type": "code",
      "execution_count": null,
      "metadata": {
        "id": "-JwJgPOmLUL6",
        "outputId": "c5ef7c26-6ee7-40ce-8ea5-c2d0097e801e"
      },
      "outputs": [
        {
          "data": {
            "text/plain": [
              "array([[6., 7., 2., 0., 3.],\n",
              "       [1., 7., 3., 1., 5.],\n",
              "       [5., 9., 3., 5., 1.]])"
            ]
          },
          "execution_count": 23,
          "metadata": {},
          "output_type": "execute_result"
        }
      ],
      "source": [
        "# Multiply the ones array with the latest array\n",
        "a4 * ones"
      ]
    },
    {
      "cell_type": "code",
      "execution_count": null,
      "metadata": {
        "id": "2mdyJQZdLUL7",
        "outputId": "8517c5d2-1245-4baa-e12d-f1d4e2bab5e0"
      },
      "outputs": [
        {
          "data": {
            "text/plain": [
              "array([[36, 49,  4,  0,  9],\n",
              "       [ 1, 49,  9,  1, 25],\n",
              "       [25, 81,  9, 25,  1]])"
            ]
          },
          "execution_count": 24,
          "metadata": {},
          "output_type": "execute_result"
        }
      ],
      "source": [
        "# Take the latest array to the power of 2 using '**'\n",
        "a4 ** 2"
      ]
    },
    {
      "cell_type": "code",
      "execution_count": null,
      "metadata": {
        "id": "OOTLzjmbLUL7",
        "outputId": "6d0d4072-1400-445d-f63b-ad3fd6d54245"
      },
      "outputs": [
        {
          "data": {
            "text/plain": [
              "array([[36, 49,  4,  0,  9],\n",
              "       [ 1, 49,  9,  1, 25],\n",
              "       [25, 81,  9, 25,  1]])"
            ]
          },
          "execution_count": 25,
          "metadata": {},
          "output_type": "execute_result"
        }
      ],
      "source": [
        "# Do the same thing with np.square()\n",
        "np.square(a4)"
      ]
    },
    {
      "cell_type": "code",
      "execution_count": null,
      "metadata": {
        "id": "PcK-OPdALUL7",
        "outputId": "2a00f787-691e-4ea6-f45b-cbcc647f1b2f"
      },
      "outputs": [
        {
          "data": {
            "text/plain": [
              "3.8666666666666667"
            ]
          },
          "execution_count": 26,
          "metadata": {},
          "output_type": "execute_result"
        }
      ],
      "source": [
        "# Find the mean of the latest array using np.mean()\n",
        "np.mean(a4)"
      ]
    },
    {
      "cell_type": "code",
      "execution_count": null,
      "metadata": {
        "id": "8GXxv1GiLUL7",
        "outputId": "dd7e56fa-4975-4f1e-e04c-7abf97b103ed"
      },
      "outputs": [
        {
          "data": {
            "text/plain": [
              "9"
            ]
          },
          "execution_count": 27,
          "metadata": {},
          "output_type": "execute_result"
        }
      ],
      "source": [
        "# Find the maximum of the latest array using np.max()\n",
        "np.max(a4)"
      ]
    },
    {
      "cell_type": "code",
      "execution_count": null,
      "metadata": {
        "id": "F7_Gft6zLUL7",
        "outputId": "5b19ec89-0ad3-45f5-9af2-ebfa685e08e2"
      },
      "outputs": [
        {
          "data": {
            "text/plain": [
              "0"
            ]
          },
          "execution_count": 28,
          "metadata": {},
          "output_type": "execute_result"
        }
      ],
      "source": [
        "# Find the minimum of the latest array using np.min()\n",
        "np.min(a4)"
      ]
    },
    {
      "cell_type": "code",
      "execution_count": null,
      "metadata": {
        "id": "ZhEnuURWLUL8",
        "outputId": "0710fda2-a6e8-4cec-d97c-c9e6eda28c95"
      },
      "outputs": [
        {
          "data": {
            "text/plain": [
              "2.578543947441829"
            ]
          },
          "execution_count": 29,
          "metadata": {},
          "output_type": "execute_result"
        }
      ],
      "source": [
        "# Find the standard deviation of the latest array\n",
        "np.std(a4)"
      ]
    },
    {
      "cell_type": "code",
      "execution_count": null,
      "metadata": {
        "id": "F-hKgiSfLUL8",
        "outputId": "9b5eb6a3-333d-4e57-a143-42297c8e53c5"
      },
      "outputs": [
        {
          "data": {
            "text/plain": [
              "6.648888888888889"
            ]
          },
          "execution_count": 30,
          "metadata": {},
          "output_type": "execute_result"
        }
      ],
      "source": [
        "# Find the variance of the latest array\n",
        "np.var(a4)"
      ]
    },
    {
      "cell_type": "code",
      "execution_count": null,
      "metadata": {
        "id": "dYL3EJ71LUL8",
        "outputId": "f46f1faf-4eeb-4ad8-8224-37b99693c8c1"
      },
      "outputs": [
        {
          "data": {
            "text/plain": [
              "array([[[6],\n",
              "        [7],\n",
              "        [2],\n",
              "        [0],\n",
              "        [3]],\n",
              "\n",
              "       [[1],\n",
              "        [7],\n",
              "        [3],\n",
              "        [1],\n",
              "        [5]],\n",
              "\n",
              "       [[5],\n",
              "        [9],\n",
              "        [3],\n",
              "        [5],\n",
              "        [1]]])"
            ]
          },
          "execution_count": 31,
          "metadata": {},
          "output_type": "execute_result"
        }
      ],
      "source": [
        "# Reshape the latest array to (3, 5, 1)\n",
        "a4.reshape(3, 5, 1)"
      ]
    },
    {
      "cell_type": "code",
      "execution_count": null,
      "metadata": {
        "id": "uZeTYI41LUL9",
        "outputId": "329d3859-ae6a-44c8-ec33-1218c5a8e52c"
      },
      "outputs": [
        {
          "data": {
            "text/plain": [
              "array([[6, 1, 5],\n",
              "       [7, 7, 9],\n",
              "       [2, 3, 3],\n",
              "       [0, 1, 5],\n",
              "       [3, 5, 1]])"
            ]
          },
          "execution_count": 32,
          "metadata": {},
          "output_type": "execute_result"
        }
      ],
      "source": [
        "# Transpose the latest array\n",
        "a4.T"
      ]
    },
    {
      "cell_type": "markdown",
      "metadata": {
        "id": "79LeAE6kLUL9"
      },
      "source": [
        "What does the transpose do?"
      ]
    },
    {
      "cell_type": "code",
      "execution_count": null,
      "metadata": {
        "id": "2yxM0YfZLUL9"
      },
      "outputs": [],
      "source": [
        "# Create two arrays of random integers between 0 to 10\n",
        "# one of size (3, 3) the other of size (3, 2)\n",
        "mat1 = np.random.randint(10, size=(3, 3))\n",
        "mat2 = np.random.randint(10, size=(3, 2))"
      ]
    },
    {
      "cell_type": "code",
      "execution_count": null,
      "metadata": {
        "id": "seQyo7ncLUL9",
        "outputId": "8aacd551-cb65-455d-cd96-d1f50bc3c6b7"
      },
      "outputs": [
        {
          "data": {
            "text/plain": [
              "array([[ 88, 117],\n",
              "       [100, 123],\n",
              "       [ 89, 127]])"
            ]
          },
          "execution_count": 34,
          "metadata": {},
          "output_type": "execute_result"
        }
      ],
      "source": [
        "# Perform a dot product on the two newest arrays you created\n",
        "np.dot(mat1, mat2)"
      ]
    },
    {
      "cell_type": "code",
      "execution_count": null,
      "metadata": {
        "id": "-ClSLW74LUMD"
      },
      "outputs": [],
      "source": [
        "# Create two arrays of random integers between 0 to 10\n",
        "# both of size (4, 3)\n",
        "mat3 = np.random.randint(10, size=(4, 3))\n",
        "mat4 = np.random.randint(10, size=(4, 3))"
      ]
    },
    {
      "cell_type": "code",
      "execution_count": null,
      "metadata": {
        "id": "DabL2t2oLUME",
        "outputId": "a972371b-cd8f-491b-d289-b05c3417b821"
      },
      "outputs": [
        {
          "ename": "ValueError",
          "evalue": "shapes (4,3) and (4,3) not aligned: 3 (dim 1) != 4 (dim 0)",
          "output_type": "error",
          "traceback": [
            "\u001b[0;31m---------------------------------------------------------------------------\u001b[0m",
            "\u001b[0;31mValueError\u001b[0m                                Traceback (most recent call last)",
            "\u001b[0;32m<ipython-input-36-ee8f632a580a>\u001b[0m in \u001b[0;36m<module>\u001b[0;34m\u001b[0m\n\u001b[1;32m      1\u001b[0m \u001b[0;31m# Perform a dot product on the two newest arrays you created\u001b[0m\u001b[0;34m\u001b[0m\u001b[0;34m\u001b[0m\u001b[0;34m\u001b[0m\u001b[0m\n\u001b[0;32m----> 2\u001b[0;31m \u001b[0mnp\u001b[0m\u001b[0;34m.\u001b[0m\u001b[0mdot\u001b[0m\u001b[0;34m(\u001b[0m\u001b[0mmat3\u001b[0m\u001b[0;34m,\u001b[0m \u001b[0mmat4\u001b[0m\u001b[0;34m)\u001b[0m\u001b[0;34m\u001b[0m\u001b[0;34m\u001b[0m\u001b[0m\n\u001b[0m",
            "\u001b[0;32m<__array_function__ internals>\u001b[0m in \u001b[0;36mdot\u001b[0;34m(*args, **kwargs)\u001b[0m\n",
            "\u001b[0;31mValueError\u001b[0m: shapes (4,3) and (4,3) not aligned: 3 (dim 1) != 4 (dim 0)"
          ]
        }
      ],
      "source": [
        "# Perform a dot product on the two newest arrays you created\n",
        "np.dot(mat3, mat4)"
      ]
    },
    {
      "cell_type": "markdown",
      "metadata": {
        "id": "fChecpkfLUME"
      },
      "source": [
        "It doesn't work. How would you fix it?"
      ]
    },
    {
      "cell_type": "code",
      "execution_count": null,
      "metadata": {
        "id": "rrLppKLGLUME",
        "outputId": "07336dd8-0c49-43c3-fe9f-517453796daf"
      },
      "outputs": [
        {
          "data": {
            "text/plain": [
              "array([[128,  90, 128],\n",
              "       [184,  91, 151],\n",
              "       [ 42,  14,  40]])"
            ]
          },
          "execution_count": 37,
          "metadata": {},
          "output_type": "execute_result"
        }
      ],
      "source": [
        "# Take the latest two arrays, perform a transpose on one of them and then perform\n",
        "# a dot product on them both\n",
        "np.dot(mat3.T, mat4)"
      ]
    },
    {
      "cell_type": "markdown",
      "metadata": {
        "id": "K7cmc4-6LUME"
      },
      "source": [
        "Notice how performing a transpose allows the dot product to happen.\n",
        "\n",
        "Why is this?\n",
        "\n",
        "Checking out the documentation on [`np.dot()`](https://docs.scipy.org/doc/numpy/reference/generated/numpy.dot.html) may help, as well as reading [Math is Fun's guide on the dot product](https://www.mathsisfun.com/algebra/vectors-dot-product.html).\n",
        "\n",
        "Let's now compare arrays."
      ]
    },
    {
      "cell_type": "code",
      "execution_count": null,
      "metadata": {
        "id": "eWhdmAlxLUMF"
      },
      "outputs": [],
      "source": [
        "# Create two arrays of random integers between 0 & 10 of the same shape\n",
        "# and save them to variables\n",
        "mat5 = np.random.randint(10, size=(4, 2))\n",
        "mat6 = np.random.randint(10, size=(4, 2))"
      ]
    },
    {
      "cell_type": "code",
      "execution_count": null,
      "metadata": {
        "id": "MoADIo7nLUMF",
        "outputId": "159a2e76-8405-46b0-d87e-b4c75f8827d5"
      },
      "outputs": [
        {
          "data": {
            "text/plain": [
              "array([[ True,  True],\n",
              "       [ True,  True],\n",
              "       [ True,  True],\n",
              "       [False, False]])"
            ]
          },
          "execution_count": 39,
          "metadata": {},
          "output_type": "execute_result"
        }
      ],
      "source": [
        "# Compare the two arrays with '>'\n",
        "mat5 > mat6"
      ]
    },
    {
      "cell_type": "markdown",
      "metadata": {
        "id": "mJmaYAobLUMF"
      },
      "source": [
        "What happens when you compare the arrays with `>`?"
      ]
    },
    {
      "cell_type": "code",
      "execution_count": null,
      "metadata": {
        "id": "VuQ5yFxMLUMF",
        "outputId": "4a48f3b8-2d5e-4a24-cb18-edfc5c39ceba"
      },
      "outputs": [
        {
          "data": {
            "text/plain": [
              "array([[ True,  True],\n",
              "       [ True,  True],\n",
              "       [ True,  True],\n",
              "       [False, False]])"
            ]
          },
          "execution_count": 40,
          "metadata": {},
          "output_type": "execute_result"
        }
      ],
      "source": [
        "# Compare the two arrays with '>='\n",
        "mat5 >= mat6"
      ]
    },
    {
      "cell_type": "code",
      "execution_count": null,
      "metadata": {
        "id": "WVcth0CsLUMG",
        "outputId": "dd32458a-4abb-41b5-ac74-c133047e19d9"
      },
      "outputs": [
        {
          "data": {
            "text/plain": [
              "array([[False, False],\n",
              "       [False, False],\n",
              "       [False, False],\n",
              "       [False, False]])"
            ]
          },
          "execution_count": 41,
          "metadata": {},
          "output_type": "execute_result"
        }
      ],
      "source": [
        "# Find which elements of the first array are greater than 7\n",
        "mat5 > 7"
      ]
    },
    {
      "cell_type": "code",
      "execution_count": null,
      "metadata": {
        "id": "S-Xo0DoZLUMG",
        "outputId": "3911a233-43c5-4459-bb3f-e674fdfacde8"
      },
      "outputs": [
        {
          "data": {
            "text/plain": [
              "array([[False, False],\n",
              "       [False, False],\n",
              "       [False, False],\n",
              "       [False, False]])"
            ]
          },
          "execution_count": 42,
          "metadata": {},
          "output_type": "execute_result"
        }
      ],
      "source": [
        "# Which parts of each array are equal? (try using '==')\n",
        "mat5 == mat6"
      ]
    },
    {
      "cell_type": "code",
      "execution_count": null,
      "metadata": {
        "id": "M12jUQiYLUMG",
        "outputId": "3f0b9b32-6d6f-4ad1-90c5-9851bc4adf98"
      },
      "outputs": [
        {
          "data": {
            "text/plain": [
              "array([[6, 6],\n",
              "       [4, 7],\n",
              "       [2, 7],\n",
              "       [2, 5]])"
            ]
          },
          "execution_count": 43,
          "metadata": {},
          "output_type": "execute_result"
        }
      ],
      "source": [
        "# Sort one of the arrays you just created in ascending order\n",
        "np.sort(mat5)"
      ]
    },
    {
      "cell_type": "code",
      "execution_count": null,
      "metadata": {
        "id": "YQz_7abgLUMG",
        "outputId": "aed5bcc1-1d4d-4913-fac6-b49d54470c71"
      },
      "outputs": [
        {
          "data": {
            "text/plain": [
              "array([[0, 1],\n",
              "       [1, 0],\n",
              "       [0, 1],\n",
              "       [1, 0]])"
            ]
          },
          "execution_count": 44,
          "metadata": {},
          "output_type": "execute_result"
        }
      ],
      "source": [
        "# Sort the indexes of one of the arrays you just created\n",
        "np.argsort(mat6)"
      ]
    },
    {
      "cell_type": "code",
      "execution_count": null,
      "metadata": {
        "id": "DRF_7_6OLUMH",
        "outputId": "1e56ef9a-3172-4174-8146-194079c863f4"
      },
      "outputs": [
        {
          "data": {
            "text/plain": [
              "2"
            ]
          },
          "execution_count": 45,
          "metadata": {},
          "output_type": "execute_result"
        }
      ],
      "source": [
        "# Find the index with the maximum value in one of the arrays you've created\n",
        "np.argmax(mat5)"
      ]
    },
    {
      "cell_type": "code",
      "execution_count": null,
      "metadata": {
        "id": "J0yVvNk9LUMH",
        "outputId": "5d0948d8-9325-4889-edb5-2db5bc754f80"
      },
      "outputs": [
        {
          "data": {
            "text/plain": [
              "0"
            ]
          },
          "execution_count": 46,
          "metadata": {},
          "output_type": "execute_result"
        }
      ],
      "source": [
        "# Find the index with the minimum value in one of the arrays you've created\n",
        "np.argmin(mat6)"
      ]
    },
    {
      "cell_type": "code",
      "execution_count": null,
      "metadata": {
        "id": "L_1RJYXALUMH",
        "outputId": "2cad84ac-7dde-48b4-bb85-85ee459c0d99"
      },
      "outputs": [
        {
          "data": {
            "text/plain": [
              "array([0, 0, 1, 0])"
            ]
          },
          "execution_count": 47,
          "metadata": {},
          "output_type": "execute_result"
        }
      ],
      "source": [
        "# Find the indexes with the maximum values down the 1st axis (axis=1)\n",
        "# of one of the arrays you created\n",
        "np.argmax(mat5, axis=1)"
      ]
    },
    {
      "cell_type": "code",
      "execution_count": null,
      "metadata": {
        "id": "3KaKekwYLUMH",
        "outputId": "f8e8ac7f-eca4-4eda-d2ac-1cf7df499ad9"
      },
      "outputs": [
        {
          "data": {
            "text/plain": [
              "array([0, 0])"
            ]
          },
          "execution_count": 48,
          "metadata": {},
          "output_type": "execute_result"
        }
      ],
      "source": [
        "# Find the indexes with the minimum values across the 0th axis (axis=0)\n",
        "# of one of the arrays you created\n",
        "np.argmin(mat6, axis=0)"
      ]
    },
    {
      "cell_type": "code",
      "execution_count": null,
      "metadata": {
        "id": "ExGmIwnsLUMI",
        "outputId": "7a79eb99-cbd6-4082-ca50-d896c4b118f8"
      },
      "outputs": [
        {
          "data": {
            "text/plain": [
              "array([[-0.03582604,  1.56464366, -2.6197451 ,  0.8219025 ,  0.08704707],\n",
              "       [-0.29900735,  0.09176078, -1.98756891, -0.21967189,  0.35711257],\n",
              "       [ 1.47789404, -0.51827022, -0.8084936 , -0.50175704,  0.91540212]])"
            ]
          },
          "execution_count": 49,
          "metadata": {},
          "output_type": "execute_result"
        }
      ],
      "source": [
        "# Create an array of normally distributed random numbers\n",
        "np.random.randn(3, 5)"
      ]
    },
    {
      "cell_type": "code",
      "execution_count": null,
      "metadata": {
        "id": "IEqteSLHLUMI",
        "outputId": "bfe3142b-83d9-4fd7-cd59-5d973a38760b"
      },
      "outputs": [
        {
          "data": {
            "text/plain": [
              "array([  1.,  12.,  23.,  34.,  45.,  56.,  67.,  78.,  89., 100.])"
            ]
          },
          "execution_count": 50,
          "metadata": {},
          "output_type": "execute_result"
        }
      ],
      "source": [
        "# Create an array with 10 evenly spaced numbers between 1 and 100\n",
        "np.linspace(1, 100, 10)"
      ]
    },
    {
      "cell_type": "markdown",
      "metadata": {
        "id": "mi5Id-JkLUMI"
      },
      "source": [
        "## Extensions\n",
        "\n",
        "For more exercises, check out the [NumPy quickstart tutorial](https://numpy.org/doc/stable/user/quickstart.html). A good practice would be to read through it and for the parts you find interesting, add them into the end of this notebook.\n",
        "\n",
        "Pay particular attention to the section on broadcasting. And most importantly, get hands-on with the code as much as possible. If in dobut, run the code, see what it does.\n",
        "\n",
        "The next place you could go is the [Stack Overflow page for the top questions and answers for NumPy](https://stackoverflow.com/questions/tagged/numpy?sort=MostVotes&edited=true). Often, you'll find some of the most common and useful NumPy functions here. Don't forget to play around with the filters! You'll likely find something helpful here.\n",
        "\n",
        "Finally, as always, remember, the best way to learn something new is to try it. And try it relentlessly. If you get interested in some kind of NumPy function, asking yourself, \"I wonder if NumPy could do that?\", go and find out."
      ]
    }
  ],
  "metadata": {
    "kernelspec": {
      "display_name": "Python 3",
      "language": "python",
      "name": "python3"
    },
    "language_info": {
      "codemirror_mode": {
        "name": "ipython",
        "version": 3
      },
      "file_extension": ".py",
      "mimetype": "text/x-python",
      "name": "python",
      "nbconvert_exporter": "python",
      "pygments_lexer": "ipython3",
      "version": "3.8.3"
    },
    "colab": {
      "provenance": []
    }
  },
  "nbformat": 4,
  "nbformat_minor": 0
}