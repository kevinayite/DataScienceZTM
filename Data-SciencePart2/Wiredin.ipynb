{
 "cells": [
  {
   "cell_type": "code",
   "execution_count": 1,
   "id": "bd7904ef-3c12-48c6-ab64-e00dfce8144d",
   "metadata": {},
   "outputs": [
    {
     "name": "stdout",
     "output_type": "stream",
     "text": [
      "Start 'rock-paper-scissors' game\n",
      "Input your hand choice\n"
     ]
    },
    {
     "name": "stdin",
     "output_type": "stream",
     "text": [
      "0:rock, 1:scissors, 2:paper  2\n"
     ]
    },
    {
     "name": "stdout",
     "output_type": "stream",
     "text": [
      "Win\n"
     ]
    }
   ],
   "source": [
    "import random\n",
    "\n",
    "print('Start \\'rock-paper-scissors\\' game')\n",
    "\n",
    "print('Input your hand choice')\n",
    "your_hand = int(input('0:rock, 1:scissors, 2:paper '))\n",
    "# your_hand = 2\n",
    "# computer_hand = random.randint(0, 2)\n",
    "computer_hand = 0\n",
    "\n",
    "if your_hand == 0:\n",
    "    if computer_hand == 0:\n",
    "        print('Draw')\n",
    "    elif computer_hand == 1:\n",
    "        print('Win')\n",
    "elif your_hand == 1:\n",
    "    if computer_hand == 0:\n",
    "        print('Lose')\n",
    "    elif computer_hand == 1:\n",
    "        print('Draw')\n",
    "elif your_hand == 2:        \n",
    "  if computer_hand == 0:\n",
    "    print('Win')"
   ]
  },
  {
   "cell_type": "code",
   "execution_count": 19,
   "id": "d063fe50-aeb2-4d9d-9b11-38792d9c8a58",
   "metadata": {},
   "outputs": [
    {
     "name": "stdout",
     "output_type": "stream",
     "text": [
      "Start 'rock-paper-scissors'\n",
      "Input your hand\n"
     ]
    },
    {
     "name": "stdin",
     "output_type": "stream",
     "text": [
      "0:rock, 1:scissors, 2:paper 0\n"
     ]
    },
    {
     "name": "stdout",
     "output_type": "stream",
     "text": [
      "Draw\n"
     ]
    }
   ],
   "source": [
    "import random\n",
    "\n",
    "print('Start \\'rock-paper-scissors\\'')\n",
    "\n",
    "print('Input your hand')\n",
    "your_hand = int(input('0:rock, 1:scissors, 2:paper'))\n",
    "computer_hand = random.randint(0, 2)\n",
    "your_hand = computer_hand\n",
    "if your_hand == computer_hand:\n",
    "    print('Draw')\n",
    "elif (your_hand == 1 and computer_hand ==0) or (your_hand ==2 and computer_hand==0) or (your_hand ==0 and computer_hand):\n",
    "    print('Lose')\n",
    "else:\n",
    "    print('Win')\n"
   ]
  },
  {
   "cell_type": "code",
   "execution_count": null,
   "id": "256fdcf2-1ee8-4b80-a602-77222965cec2",
   "metadata": {},
   "outputs": [],
   "source": []
  }
 ],
 "metadata": {
  "kernelspec": {
   "display_name": "Python 3 (ipykernel)",
   "language": "python",
   "name": "python3"
  },
  "language_info": {
   "codemirror_mode": {
    "name": "ipython",
    "version": 3
   },
   "file_extension": ".py",
   "mimetype": "text/x-python",
   "name": "python",
   "nbconvert_exporter": "python",
   "pygments_lexer": "ipython3",
   "version": "3.12.3"
  }
 },
 "nbformat": 4,
 "nbformat_minor": 5
}
