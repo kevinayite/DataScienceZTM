{
 "cells": [
  {
   "cell_type": "code",
   "execution_count": 1,
   "id": "764636de-40af-472e-a371-3379b10adac0",
   "metadata": {},
   "outputs": [
    {
     "name": "stdout",
     "output_type": "stream",
     "text": [
      "TomandJaneare friends.\n"
     ]
    }
   ],
   "source": [
    "name1 = 'Tom'\n",
    "name2 = 'Jane'\n",
    "print(name1 + 'and' + name2 + 'are friends.')"
   ]
  },
  {
   "cell_type": "code",
   "execution_count": 2,
   "id": "d26698e6-60e0-48e8-bee2-5d02f4a9b80f",
   "metadata": {},
   "outputs": [
    {
     "name": "stdout",
     "output_type": "stream",
     "text": [
      "Tom and Jane are friends.\n"
     ]
    }
   ],
   "source": [
    "name1 = 'Tom'\n",
    "name2 = 'Jane'\n",
    "print('{} and {} are friends.'.format(name1,name2))"
   ]
  },
  {
   "cell_type": "code",
   "execution_count": 3,
   "id": "83f399b4-da49-4974-8510-0260ef24fe9b",
   "metadata": {},
   "outputs": [
    {
     "name": "stdout",
     "output_type": "stream",
     "text": [
      "I bet 30 coin(s) to 3.\n"
     ]
    }
   ],
   "source": [
    "name = 'I'\n",
    "bet_coin = 30\n",
    "bet_cell = 3\n",
    "\n",
    "# print(name + ' bet ' + str(bet_coin) + ' coin(s) to ' + str(bet_cell) + '.')\n",
    "print('{} bet {} coin(s) to {}.'.format(name, bet_coin,bet_cell))"
   ]
  },
  {
   "cell_type": "code",
   "execution_count": 4,
   "id": "914e6f06-a7b7-4582-aa99-c3a6da01cb0a",
   "metadata": {},
   "outputs": [
    {
     "name": "stdout",
     "output_type": "stream",
     "text": [
      "3.12.4 | packaged by Anaconda, Inc. | (main, Jun 18 2024, 15:03:56) [MSC v.1929 64 bit (AMD64)]\n"
     ]
    }
   ],
   "source": [
    "import sys\n",
    "print(sys.version)\n"
   ]
  },
  {
   "cell_type": "code",
   "execution_count": 5,
   "id": "10bcab22-0691-4ea3-94ff-eb2be8093aed",
   "metadata": {},
   "outputs": [
    {
     "name": "stdout",
     "output_type": "stream",
     "text": [
      "3.12.4\n"
     ]
    }
   ],
   "source": [
    "import platform\n",
    "print(platform.python_version())\n"
   ]
  },
  {
   "cell_type": "code",
   "execution_count": 6,
   "id": "adaa22be-b401-4a53-947a-c71b7e135bb8",
   "metadata": {},
   "outputs": [
    {
     "name": "stdout",
     "output_type": "stream",
     "text": [
      "I bet 30 coin(s) to 3\n"
     ]
    }
   ],
   "source": [
    "# print(name + ‘ bet ’ + str(bet_coin) + ‘coin(s) to ’ + str(bet_cell) \n",
    "# + ‘.’\n",
    "\n",
    "print(f\"{name} bet {bet_coin} coin(s) to {bet_cell}\")"
   ]
  },
  {
   "cell_type": "code",
   "execution_count": 7,
   "id": "4260e155-a3c1-4f34-b351-22caf99dfc88",
   "metadata": {},
   "outputs": [
    {
     "name": "stdout",
     "output_type": "stream",
     "text": [
      "1: Tom\n",
      "2: Jane\n",
      "3: Brian\n",
      "4: Carol\n",
      "5: Jack\n"
     ]
    }
   ],
   "source": [
    "friends = ['Tom', 'Jane', 'Brian', 'Carol', 'Jack']\n",
    "i = 1\n",
    "for friend in friends:\n",
    "  print(f\"{i}: {friend}\")\n",
    "  i += 1"
   ]
  },
  {
   "cell_type": "code",
   "execution_count": 8,
   "id": "3d2538e3-9c95-48d1-92f0-68790e039a85",
   "metadata": {},
   "outputs": [
    {
     "name": "stdout",
     "output_type": "stream",
     "text": [
      "1:Tom\n",
      "2:Jane\n",
      "3:Brian\n",
      "4:Carol\n",
      "5:Jack\n"
     ]
    }
   ],
   "source": [
    "# friends = ['Tom', 'Jane', 'Brian', 'Carol', 'Jack']\n",
    "# i = 0\n",
    "# for friend in friends:\n",
    "# print(f”{i}:{friend}”)\n",
    "# i += 1\n",
    "\n",
    "\n",
    "friends = ['Tom', 'Jane', 'Brian', 'Carol', 'Jack']\n",
    "i = 1\n",
    "for i, friend in enumerate(friends):\n",
    "    i +=1\n",
    "    print(f\"{i}:{friend}\")\n",
    "    \n"
   ]
  },
  {
   "cell_type": "code",
   "execution_count": 9,
   "id": "38028f1c-115f-4328-8211-96942a66e4de",
   "metadata": {},
   "outputs": [
    {
     "name": "stdout",
     "output_type": "stream",
     "text": [
      "1: Tom\n",
      "2: Jane\n",
      "3: Brian\n",
      "4: Carol\n",
      "5: Jack\n"
     ]
    }
   ],
   "source": [
    "friends = ['Tom', 'Jane', 'Brian', 'Carol', 'Jack']\n",
    "for i, friend in enumerate(friends):\n",
    "  print(f\"{i + 1}: {friend}\") # here they are adding it directly in the printing statement"
   ]
  },
  {
   "cell_type": "markdown",
   "id": "1af46295-14e3-422a-9304-71a37c82f35c",
   "metadata": {},
   "source": [
    "Certainly! Let's break down the loop in detail:\r\n",
    "\r\n",
    "### Code Analysis\r\n",
    "\r\n",
    "```python\r\n",
    "friends = ['Tom', 'Jane', 'Brian', 'Carol', 'Jack']\r\n",
    "for i, friend in enumerate(friends):\r\n",
    "  print(f\"{i + 1}: {friend}\")\r\n",
    "```\r\n",
    "\r\n",
    "### Explanation\r\n",
    "\r\n",
    "1. **List Definition**:\r\n",
    "   ```python\r\n",
    "   friends = ['Tom', 'Jane', 'Brian', 'Carol', 'Jack']\r\n",
    "   ```\r\n",
    "   Here, you define a list called `friends` that contains five strings: `'Tom'`, `'Jane'`, `'Brian'`, `'Carol'`, and `'Jack'`.\r\n",
    "\r\n",
    "2. **`enumerate` Function**:\r\n",
    "   ```python\r\n",
    "   for i, friend in enumerate(friends):\r\n",
    "   ```\r\n",
    "   - `enumerate(friends)` generates pairs of an index and the corresponding value from the `friends` list.\r\n",
    "   - The `enumerate` function returns an iterator that produces tuples. Each tuple contains:\r\n",
    "     - An index (starting from 0 by default)\r\n",
    "     - The corresponding item from the list\r\n",
    "\r\n",
    "3. **Loop Variables**:\r\n",
    "   - `i` will hold the current index of the item in the `friends` list.\r\n",
    "   - `friend` will hold the current item (friend's name) from the list.\r\n",
    "\r\n",
    "4. **Loop Iteration**:\r\n",
    "   The `for` loop iterates through each tuple produced by `enumerate(friends)`:\r\n",
    "   - **First Iteration**: `i = 0`, `friend = 'Tom'`\r\n",
    "     - `print(f\"{i + 1}: {friend}\")` evaluates to `print(\"1: Tom\")`\r\n",
    "   - **Second Iteration**: `i = 1`, `friend = 'Jane'`\r\n",
    "     - `print(f\"{i + 1}: {friend}\")` evaluates to `print(\"2: Jane\")`\r\n",
    "   - **Third Iteration**: `i = 2`, `friend = 'Brian'`\r\n",
    "     - `print(f\"{i + 1}: {friend}\")` evaluates to `print(\"3: Brian\")`\r\n",
    "   - **Fourth Iteration**: `i = 3`, `friend = 'Carol'`\r\n",
    "     - `print(f\"{i + 1}: {friend}\")` evaluates to `print(\"4: Carol\")`\r\n",
    "   - **Fifth Iteration**: `i = 4`, `friend = 'Jack'`\r\n",
    "     - `print(f\"{i + 1}: {friend}\")` evaluates to `print(\"5: Jack\")`\r\n",
    "\r\n",
    "5. **Output**:\r\n",
    "   Each iteration prints the index (starting from 1) and the friend's name, formatted as `\"{index}: {friend}\"`. \r\n",
    "\r\n",
    "### Summary\r\n",
    "\r\n",
    "- The `enumerate` function provides an index and value for each element in the `friends` list.\r\n",
    "- The loop iterates over each index-value pair.\r\n",
    "- For each pair, it prints the index (adjusted to be 1-based by adding 1) and the corresponding friend's name.\r\n",
    "\r\n",
    "This loop effectively produces a numbered list of the friends, starting from 1, which makes it easy to see the position of each item in the list."
   ]
  },
  {
   "cell_type": "markdown",
   "id": "32753dc3-eced-4a52-ae21-fbae9cb3c524",
   "metadata": {},
   "source": [
    "import requests\n",
    "\n",
    "url = 'https://bbc.com/news/world/'\n",
    "\n",
    "\n",
    "requests.get(url)\n",
    "requests.get()\n",
    "response.text\n",
    "\n",
    "\n",
    "\n"
   ]
  },
  {
   "cell_type": "markdown",
   "id": "fd0c257f-1158-445f-9ca2-c240b18df2f6",
   "metadata": {},
   "source": [
    "It looks like you’re working with Python and trying to use the `requests` library to make an HTTP request. However, there are some issues in your code. Let’s go through it step by step and correct the errors:\n",
    "\n",
    "### Issues in the Code\n",
    "\n",
    "1. **Unnecessary `requests.get()` Call**:\n",
    "   - The line `requests.get()` on its own is incorrect because the `get()` method requires a URL argument. This line will cause a `TypeError` because you haven’t provided the URL.\n",
    "\n",
    "2. **Storing the Response**:\n",
    "   - You need to store the result of `requests.get(url)` in a variable, typically named something like `response`, so you can access its content.\n",
    "\n",
    "3. **Accessing the Content**:\n",
    "   - After storing the response, you should use `response.text` or `response.content` to access the HTML content of the page.\n",
    "\n",
    "### Corrected Code\n",
    "\n",
    "Here’s a corrected version of your code:\n",
    "\n",
    "```python\n",
    "import requests\n",
    "\n",
    "url = 'https://bbc.com/news/world/'\n",
    "\n",
    "# Make the GET request and store the response\n",
    "response = requests.get(url)\n",
    "\n",
    "# Print the status code to check if the request was successful\n",
    "print(response.status_code)\n",
    "\n",
    "# Print the content of the response (HTML of the web page)\n",
    "print(response.text)\n",
    "```\n",
    "\n",
    "### Explanation\n",
    "\n",
    "1. **Import the Library**:\n",
    "   ```python\n",
    "   import requests\n",
    "   ```\n",
    "   - This imports the `requests` library, which is used to make HTTP requests.\n",
    "\n",
    "2. **Define the URL**:\n",
    "   ```python\n",
    "   url = 'https://bbc.com/news/world/'\n",
    "   ```\n",
    "   - This is the URL of the web page you want to scrape.\n",
    "\n",
    "3. **Send the HTTP GET Request**:\n",
    "   ```python\n",
    "   response = requests.get(url)\n",
    "   ```\n",
    "   - `requests.get(url)` sends an HTTP GET request to the specified URL.\n",
    "   - The response object is stored in the variable `response`.\n",
    "\n",
    "4. **Check the Status Code**:\n",
    "   ```python\n",
    "   print(response.status_code)\n",
    "   ```\n",
    "   - This prints the HTTP status code of the response (e.g., 200 for a successful request).\n",
    "\n",
    "5. **Print the Response Content**:\n",
    "   ```python\n",
    "   print(response.text)\n",
    "   ```\n",
    "   - This prints the HTML content of the web page.\n",
    "\n",
    "### Additional Tips\n",
    "\n",
    "- **Error Handling**: It's a good idea to add error handling to manage scenarios where the request might fail. For example:\n",
    "  ```python\n",
    "  if response.status_code == 200:\n",
    "      print(response.text)\n",
    "  else:\n",
    "      print(f\"Failed to retrieve content. Status code: {response.status_code}\")\n",
    "  ```\n",
    "\n",
    "- **Inspecting Response**: You can also inspect other attributes of the response object, such as `response.headers` to view HTTP headers or `response.json()` if the response is in JSON format.\n",
    "\n",
    "By following these corrections and tips, you should be able to make HTTP requests and handle responses effectively in Python."
   ]
  },
  {
   "cell_type": "markdown",
   "id": "727536c5-c69b-4210-8fd4-01e4ea1c9e64",
   "metadata": {},
   "source": [
    "Web scraping, also known as web harvesting or web data extraction, is the process of automatically extracting data from websites. This is typically done by programs or scripts that can access web pages, parse their content, and extract useful information for further analysis or storage. Here’s a more detailed look at web scraping:\n",
    "\n",
    "### How Web Scraping Works\n",
    "\n",
    "1. **Accessing the Web Page**:\n",
    "   - **HTTP Requests**: The scraping tool sends an HTTP request to a website's server to retrieve the web page's content. This is usually done using libraries or tools that can make HTTP requests, such as Python's `requests` library or tools like `cURL`.\n",
    "\n",
    "2. **Parsing the Content**:\n",
    "   - **HTML Parsing**: Once the HTML content of the web page is retrieved, it needs to be parsed to extract the data. This involves analyzing the HTML structure to find the elements that contain the desired information.\n",
    "   - **Parsing Libraries**: Libraries like Beautiful Soup, lxml, or Scrapy (in Python) can be used to parse HTML and XML content. They help navigate the HTML structure and extract data based on tags, classes, IDs, or other attributes.\n",
    "\n",
    "3. **Extracting Data**:\n",
    "   - **Data Extraction**: After parsing, the data is extracted from the relevant HTML elements. For example, you might extract product names and prices from an e-commerce site.\n",
    "   - **Data Cleaning**: The extracted data may need to be cleaned or formatted to make it useful for further processing or analysis.\n",
    "\n",
    "4. **Storing Data**:\n",
    "   - **Data Storage**: The extracted data can be stored in various formats, such as CSV files, databases (SQL or NoSQL), or JSON files, depending on the needs of the project.\n",
    "\n",
    "### Tools and Libraries for Web Scraping\n",
    "\n",
    "- **Python Libraries**: \n",
    "  - **Beautiful Soup**: Simplifies HTML parsing and navigation.\n",
    "  - **lxml**: A high-performance library for parsing XML and HTML.\n",
    "  - **Scrapy**: A comprehensive web scraping framework that includes tools for making requests, parsing responses, and storing data.\n",
    "  - **Selenium**: Useful for scraping dynamic content generated by JavaScript.\n",
    "\n",
    "- **Other Languages**: Web scraping is not limited to Python. Other languages and tools like Ruby's Nokogiri, PHP's Simple HTML DOM Parser, or JavaScript with Puppeteer can also be used.\n",
    "\n",
    "### Use Cases\n",
    "\n",
    "- **Data Collection**: For research, market analysis, or competitive intelligence.\n",
    "- **Price Comparison**: Aggregating prices from multiple e-commerce sites.\n",
    "- **Content Aggregation**: Collecting news articles or blog posts from various sources.\n",
    "- **Job Listings**: Gathering job postings from job boards or company websites.\n",
    "\n",
    "### Ethical and Legal Considerations\n",
    "\n",
    "- **Website Terms of Service**: Many websites have terms of service that prohibit scraping. Always check and adhere to these terms.\n",
    "- **Robots.txt**: Websites often use a `robots.txt` file to specify which parts of their site can be accessed by automated tools.\n",
    "- **Rate Limiting**: Avoid overloading servers with too many requests in a short time, which can disrupt the website's normal operation.\n",
    "\n",
    "Web scraping is a powerful technique for collecting data from the web, but it’s important to use it responsibly and within legal boundaries."
   ]
  },
  {
   "cell_type": "code",
   "execution_count": null,
   "id": "a57b1dba-1bb5-4368-9cda-14c73be1e222",
   "metadata": {},
   "outputs": [],
   "source": [
    "import requests\n",
    "\n",
    "url = 'https://bbc.com/news/world/'\n",
    "\n",
    "# Make the GET request and store the response\n",
    "response = requests.get(url)\n",
    "\n",
    "# Print the status code to check if the request was successful\n",
    "# print(response.status_code)\n",
    "\n",
    "# Print the content of the response (HTML of the web page)\n",
    "print(response.text)\n"
   ]
  },
  {
   "cell_type": "code",
   "execution_count": 11,
   "id": "84c0fbee-4efc-4f43-a7b1-20629512621c",
   "metadata": {},
   "outputs": [
    {
     "name": "stdout",
     "output_type": "stream",
     "text": [
      "5.2.1\n"
     ]
    }
   ],
   "source": [
    "import lxml\n",
    "print(lxml.__version__)\n"
   ]
  },
  {
   "cell_type": "code",
   "execution_count": 15,
   "id": "5f737aca-5c79-4dcd-bd33-f8c74081359f",
   "metadata": {},
   "outputs": [
    {
     "name": "stdout",
     "output_type": "stream",
     "text": [
      "[]\n"
     ]
    }
   ],
   "source": [
    "import requests\n",
    "from bs4 import BeautifulSoup\n",
    "import lxml\n",
    "\n",
    "url = 'https://bbc.com/news/world/'\n",
    "\n",
    "response = requests.get(url)\n",
    "soup = BeautifulSoup(response.text, 'lxml')\n",
    "\n",
    "titles = soup.find_all('h3', class_='gs-c-promo-heading__title gel-pica-bold nw-o-link-split__text')\n",
    "\n",
    "print(titles)"
   ]
  },
  {
   "cell_type": "markdown",
   "id": "b2fdcb4a-69da-46ca-8e53-bc742849660c",
   "metadata": {},
   "source": [
    "It looks like you’re trying to use BeautifulSoup to parse HTML content and extract specific elements from a BBC news page. However, there are several issues in your code snippet. Let's break down and correct them:\r\n",
    "\r\n",
    "### Issues in the Code\r\n",
    "\r\n",
    "1. **BeautifulSoup Initialization**:\r\n",
    "   - `BeautifulSoup(response, 'lxml')` should be `BeautifulSoup(response.text, 'lxml')` because `response` is a `Response` object, not the raw HTML text.\r\n",
    "\r\n",
    "2. **Using `element`**:\r\n",
    "   - It seems `element` is not defined. You should be working directly with the `BeautifulSoup` object.\r\n",
    "\r\n",
    "3. **Incorrect `class_` Argument**:\r\n",
    "   - The class names should be provided as a string to `class_`, and there should be no invalid characters or line breaks.\r\n",
    "\r\n",
    "4. **SyntaxError**:\r\n",
    "   - The error `SyntaxError: invalid non-printable character U+0002` suggests there might be invisible characters or copy-paste issues. Ensure your code is clean and free from such characters.\r\n",
    "\r\n",
    "### Corrected Code\r\n",
    "\r\n",
    "Here’s a revised version of your code:\r\n",
    "\r\n",
    "```python\r\n",
    "import requests\r\n",
    "from bs4 import BeautifulSoup\r\n",
    "\r\n",
    "# Define the URL\r\n",
    "url = 'https://bbc.com/news/world/'\r\n",
    "\r\n",
    "# Send a GET request to the URL\r\n",
    "response = requests.get(url)\r\n",
    "\r\n",
    "# Parse the HTML content using BeautifulSoup\r\n",
    "soup = BeautifulSoup(response.text, 'lxml')\r\n",
    "\r\n",
    "# Find all <h3> elements with the specified class\r\n",
    "output = soup.find_all('h3', class_='gs-c-promo-heading__title gel-pica-bold nw-o-link-split__text')\r\n",
    "\r\n",
    "# Print the results\r\n",
    "for element in output:\r\n",
    "    print(element.text)\r\n",
    "```\r\n",
    "\r\n",
    "### Explanation\r\n",
    "\r\n",
    "1. **Import Libraries**:\r\n",
    "   ```python\r\n",
    "   import requests\r\n",
    "   from bs4 import BeautifulSoup\r\n",
    "   ```\r\n",
    "   - Imports `requests` for HTTP requests and `BeautifulSoup` for parsing HTML.\r\n",
    "\r\n",
    "2. **Send HTTP Request**:\r\n",
    "   ```python\r\n",
    "   response = requests.get(url)\r\n",
    "   ```\r\n",
    "   - Fetches the HTML content of the web page.\r\n",
    "\r\n",
    "3. **Parse HTML Content**:\r\n",
    "   ```python\r\n",
    "   soup = BeautifulSoup(response.text, 'lxml')\r\n",
    "   ```\r\n",
    "   - Initializes a `BeautifulSoup` object with the HTML content and specifies the parser (`lxml`).\r\n",
    "\r\n",
    "4. **Find Elements**:\r\n",
    "   ```python\r\n",
    "   output = soup.find_all('h3', class_='gs-c-promo-heading__title gel-pica-bold nw-o-link-split__text')\r\n",
    "   ```\r\n",
    "   - Finds all `<h3>` elements with the specified class names. Ensure the class names match exactly with those used on the website.\r\n",
    "\r\n",
    "5. **Print the Results**:\r\n",
    "   ```python\r\n",
    "   for element in output:\r\n",
    "       print(element.text)\r\n",
    "   ```\r\n",
    "   - Iterates over the found elements and prints their text content.\r\n",
    "\r\n",
    "### Tips\r\n",
    "\r\n",
    "- **Inspecting HTML Structure**: Use your browser’s Developer Tools (usually accessed with F12) to inspect the HTML structure and verify the class names and tags.\r\n",
    "- **Error Handling**: Add error handling to manage potential issues with network requests or HTML parsing.\r\n",
    "- **Avoid Hardcoding**: If you’re scraping a website frequently, consider implementing mechanisms to adapt to changes in the website’s structure.\r\n",
    "\r\n",
    "By following these corrections, you should be able to scrape and extract the desired information from the BBC news page effectively."
   ]
  },
  {
   "cell_type": "code",
   "execution_count": 18,
   "id": "dc36d98c-6c42-4ebf-b475-28ce72b50064",
   "metadata": {},
   "outputs": [],
   "source": [
    "import requests\n",
    "from bs4 import BeautifulSoup\n",
    "import lxml\n",
    "\n",
    "url = 'https://bbc.com/news/world/'\n",
    "\n",
    "response = requests.get(url)\n",
    "soup = BeautifulSoup(response.text, 'lxml')\n",
    "\n",
    "titles = soup.find_all('h3', class_='gs-c-promo-heading__title gel-pica-bold nw-o-link-split__text')\n",
    "for title in titles:\n",
    "    print(title.getText())\n",
    "# print(titles)"
   ]
  },
  {
   "cell_type": "code",
   "execution_count": 19,
   "id": "530ed675-399c-4576-bc49-d71e6ec796f6",
   "metadata": {},
   "outputs": [],
   "source": [
    "import requests\n",
    "from bs4 import BeautifulSoup\n",
    "\n",
    "url = 'https://bbc.com/news/world/'\n",
    "\n",
    "response = requests.get(url)\n",
    "soup = BeautifulSoup(response.text, 'lxml')\n",
    "\n",
    "titles = soup.find_all('h3', class_='gs-c-promo-heading__title gel-pica-bold nw-o-link-split__text')\n",
    "\n",
    "for title in titles:\n",
    "  print(title.getText())"
   ]
  },
  {
   "cell_type": "code",
   "execution_count": 21,
   "id": "c8337fc6-588a-4717-8aee-f075ea72e163",
   "metadata": {},
   "outputs": [
    {
     "name": "stdout",
     "output_type": "stream",
     "text": [
      "Rock-paper-scissors start\n",
      "Please enter your hand\n"
     ]
    },
    {
     "name": "stdin",
     "output_type": "stream",
     "text": [
      "0:Rock, 1:Scissors, 2:Paper  2\n"
     ]
    },
    {
     "name": "stdout",
     "output_type": "stream",
     "text": [
      "My hand is Paper\n",
      "Opponent's hand is Paper\n",
      "draw\n",
      "Please enter your hand\n"
     ]
    },
    {
     "name": "stdin",
     "output_type": "stream",
     "text": [
      "0:Rock, 1:Scissors, 2:Paper  2\n"
     ]
    },
    {
     "name": "stdout",
     "output_type": "stream",
     "text": [
      "My hand is Paper\n",
      "Opponent's hand is Rock\n",
      "win\n"
     ]
    }
   ],
   "source": [
    "import random\n",
    "import numpy as np\n",
    "hands = np.array(['Rock', 'Scissors', 'Paper'])\n",
    "results = {'win': 'win', 'lose': 'lose', 'draw': 'draw'}\n",
    "\n",
    "def start_message():\n",
    "    print('Rock-paper-scissors start')\n",
    "\n",
    "def is_hand(string):\n",
    "    if string.isdigit():    #string.isdigit() checks if the string consists only of digits (0-9). This ensures that the string is a numerical value. \n",
    "        number = int(string)\n",
    "        if number >= 0 and number <= 2:\n",
    "            return True\n",
    "        else:\n",
    "            return False\n",
    "    else:\n",
    "        return False\n",
    "\n",
    "def get_my_hand():\n",
    "    print('Please enter your hand')\n",
    "    input_message = ''\n",
    "    index = 0\n",
    "    for hand in hands:\n",
    "        input_message += str(index) + ':' + hand\n",
    "        if index < 2:\n",
    "            input_message += ', '\n",
    "        index += 1\n",
    "    return input(input_message + ' ')\n",
    "\n",
    "def get_you_hand():\n",
    "    return random.randint(0, 2)\n",
    "\n",
    "def get_hand_name(hand_number):\n",
    "    return hands[hand_number]\n",
    "\n",
    "def view_hand(my_hand, you_hand):\n",
    "    print('My hand is ' + get_hand_name(my_hand))\n",
    "    print('Opponent\\'s hand is ' + get_hand_name(you_hand))\n",
    "\n",
    "def get_result(hand_diff):\n",
    "    if hand_diff == 0:\n",
    "        return 'draw'\n",
    "    elif hand_diff == -1 or hand_diff == 2:\n",
    "        return 'win'\n",
    "    else:\n",
    "        return 'lose'\n",
    "\n",
    "def view_result(result):\n",
    "    print(results[result])\n",
    "\n",
    "def play():\n",
    "    my_hand = get_my_hand()\n",
    "    while not is_hand(my_hand):\n",
    "        my_hand = get_my_hand()\n",
    "\n",
    "    my_hand = int(my_hand)\n",
    "    you_hand = get_you_hand()\n",
    "    hand_diff = my_hand - you_hand\n",
    "\n",
    "    view_hand(my_hand, you_hand)\n",
    "    result = get_result(hand_diff)\n",
    "    view_result(result)\n",
    "    if result == 'draw':\n",
    "        play()\n",
    "\n",
    "start_message()\n",
    "play()\n"
   ]
  },
  {
   "cell_type": "code",
   "execution_count": null,
   "id": "a9fdd2c9-2dde-4eb3-984c-10c1cb8488f5",
   "metadata": {},
   "outputs": [],
   "source": [
    "from google.colab import files\n",
    "\n",
    "uploaded_file = files.upload()\n",
    "uploaded_file_name = next(iter(uploaded_file))\n",
    "\n",
    "import cv2\n",
    "import matplotlib.pyplot as plt\n",
    "\n",
    "img = cv2.imread(uploaded_file_name)\n",
    "img = cv2.cvtColor(img, cv2.COLOR_BGR2RGB)\n",
    "\n",
    "plt.imshow(img)"
   ]
  },
  {
   "cell_type": "markdown",
   "id": "62a074c5-49cb-4c40-81e4-e870dea71608",
   "metadata": {},
   "source": [
    "Sure! Let's break down the code snippet step by step:\r\n",
    "\r\n",
    "### 1. Uploading Files in Google Colab\r\n",
    "\r\n",
    "```python\r\n",
    "from google.colab import files\r\n",
    "\r\n",
    "uploaded_file = files.upload()\r\n",
    "uploaded_file_name = next(iter(uploaded_file))\r\n",
    "```\r\n",
    "\r\n",
    "- **`from google.colab import files`**: This imports the `files` module from Google Colab. The `files` module provides utilities to handle file uploads and downloads in the Colab environment.\r\n",
    "\r\n",
    "- **`uploaded_file = files.upload()`**: This opens a file upload dialog in the Colab interface, allowing you to upload files from your local machine. The `files.upload()` function returns a dictionary where the keys are the names of the uploaded files and the values are the file content in bytes.\r\n",
    "\r\n",
    "- **`uploaded_file_name = next(iter(uploaded_file))`**: This line retrieves the name of the first (and possibly only) uploaded file. Here’s how it works:\r\n",
    "  - `iter(uploaded_file)` creates an iterator over the dictionary's keys.\r\n",
    "  - `next(...)` retrieves the first item from this iterator, which is the filename of the uploaded file.\r\n",
    "\r\n",
    "### 2. Reading and Displaying the Image\r\n",
    "\r\n",
    "```python\r\n",
    "import cv2\r\n",
    "import matplotlib.pyplot as plt\r\n",
    "\r\n",
    "img = cv2.imread(uploaded_file_name)\r\n",
    "img = cv2.cvtColor(img, cv2.COLOR_BGR2RGB)\r\n",
    "\r\n",
    "plt.imshow(img)\r\n",
    "```\r\n",
    "\r\n",
    "- **`import cv2`**: This imports the OpenCV library, which is commonly used for image processing tasks.\r\n",
    "\r\n",
    "- **`import matplotlib.pyplot as plt`**: This imports the `pyplot` module from the `matplotlib` library, which is used for plotting and displaying images.\r\n",
    "\r\n",
    "- **`img = cv2.imread(uploaded_file_name)`**: This reads the image file into a variable called `img` using OpenCV's `imread` function. The image is read in the BGR (Blue, Green, Red) color format by default.\r\n",
    "\r\n",
    "- **`img = cv2.cvtColor(img, cv2.COLOR_BGR2RGB)`**: This converts the image from BGR to RGB color format. OpenCV uses BGR by default, but most image display libraries, including `matplotlib`, use RGB format. This conversion ensures that colors are displayed correctly when using `matplotlib`.\r\n",
    "\r\n",
    "- **`plt.imshow(img)`**: This displays the image using `matplotlib`. The `imshow` function is used to render images, and since the image has been converted to RGB format, it will appear with the correct colors.\r\n",
    "\r\n",
    "### Summary\r\n",
    "\r\n",
    "In essence, this code snippet allows you to upload an image file in a Google Colab notebook, reads it using OpenCV, converts the image from BGR to RGB color format, and then displays it using `matplotlib`. This is a common workflow for handling and visualizing images in Python."
   ]
  },
  {
   "cell_type": "markdown",
   "id": "2bd4a648-e7bd-4722-8585-40d8d277b419",
   "metadata": {},
   "source": [
    "The Pillow library in Python is a powerful and easy-to-use library for image processing. It is an actively maintained fork of the Python Imaging Library (PIL), which is no longer maintained. Pillow provides a wide range of functionalities for opening, manipulating, and saving many different image file formats.\r\n",
    "\r\n",
    "### Key Features and Purposes of Pillow:\r\n",
    "\r\n",
    "1. **Image Opening and Saving**:\r\n",
    "   - **Open Images**: You can open and load images from files, URLs, or other sources.\r\n",
    "   - **Save Images**: Save images to various formats, including PNG, JPEG, BMP, GIF, and TIFF.\r\n",
    "\r\n",
    "2. **Image Manipulation**:\r\n",
    "   - **Resizing and Cropping**: Resize or crop images to specific dimensions.\r\n",
    "   - **Rotating and Flipping**: Rotate or flip images to achieve the desired orientation.\r\n",
    "   - **Transformations**: Apply transformations like scaling, skewing, and affine transformations.\r\n",
    "\r\n",
    "3. **Image Enhancement**:\r\n",
    "   - **Adjusting Colors**: Modify the color balance, contrast, brightness, and sharpness of images.\r\n",
    "   - **Filters**: Apply various filters for effects such as blurring, sharpening, and edge detection.\r\n",
    "\r\n",
    "4. **Drawing and Text**:\r\n",
    "   - **Drawing Shapes**: Draw shapes such as lines, rectangles, and ellipses on images.\r\n",
    "   - **Adding Text**: Add text to images with various fonts, sizes, and colors.\r\n",
    "\r\n",
    "5. **Image Conversion**:\r\n",
    "   - **Format Conversion**: Convert images between different formats (e.g., from PNG to JPEG).\r\n",
    "   - **Color Conversion**: Convert images between different color modes (e.g., RGB to grayscale).\r\n",
    "\r\n",
    "6. **Handling Metadata**:\r\n",
    "   - **Exif Data**: Read and modify metadata associated with images, such as EXIF data for photographs.\r\n",
    "\r\n",
    "7. **Image Filtering**:\r\n",
    "   - **Image Filtering**: Apply various filters and effects to enhance or modify images.\r\n",
    "\r\n",
    "### Basic Usage Example\r\n",
    "\r\n",
    "Here’s a simple example of how to use Pillow to open, manipulate, and save an image:\r\n",
    "\r\n",
    "```python\r\n",
    "from PIL import Image, ImageDraw, ImageFont, ImageFilter\r\n",
    "\r\n",
    "# Open an image file\r\n",
    "img = Image.open('example.jpg')\r\n",
    "\r\n",
    "# Apply a filter to the image\r\n",
    "img = img.filter(ImageFilter.BLUR)\r\n",
    "\r\n",
    "# Resize the image\r\n",
    "img = img.resize((800, 600))\r\n",
    "\r\n",
    "# Draw on the image\r\n",
    "draw = ImageDraw.Draw(img)\r\n",
    "font = ImageFont.load_default()\r\n",
    "draw.text((10, 10), \"Hello, Pillow!\", font=font, fill=(255, 255, 255))\r\n",
    "\r\n",
    "# Save the modified image\r\n",
    "img.save('modified_example.jpg')\r\n",
    "\r\n",
    "# Display the image\r\n",
    "img.show()\r\n",
    "```\r\n",
    "\r\n",
    "### Summary\r\n",
    "\r\n",
    "Pillow is a versatile and essential library for image processing in Python. It simplifies many common tasks such as opening, modifying, and saving images, making it an invaluable tool for developers working with image data."
   ]
  },
  {
   "cell_type": "code",
   "execution_count": 25,
   "id": "bdd2d55d-388e-4c62-8c5a-b5bb47cdf65c",
   "metadata": {
    "scrolled": true
   },
   "outputs": [
    {
     "data": {
      "image/png": "[encoded data removed]",
      "text/plain": [
       "<Figure size 640x480 with 1 Axes>"
      ]
     },
     "metadata": {},
     "output_type": "display_data"
    }
   ],
   "source": [
    "import matplotlib.pyplot as plt\n",
    "import matplotlib.image as mpimg\n",
    "\n",
    "# Read the image file\n",
    "image = mpimg.imread('cat.jpg')\n",
    "\n",
    "# Display the image\n",
    "plt.imshow(image)\n",
    "# plt.axis('off')  # Hide axes\n",
    "plt.show()\n"
   ]
  },
  {
   "cell_type": "code",
   "execution_count": null,
   "id": "7bd7b9a6-cea4-4f4d-bd93-ee334f40a43c",
   "metadata": {},
   "outputs": [],
   "source": []
  }
 ],
 "metadata": {
  "kernelspec": {
   "display_name": "Python 3 (ipykernel)",
   "language": "python",
   "name": "python3"
  },
  "language_info": {
   "codemirror_mode": {
    "name": "ipython",
    "version": 3
   },
   "file_extension": ".py",
   "mimetype": "text/x-python",
   "name": "python",
   "nbconvert_exporter": "python",
   "pygments_lexer": "ipython3",
   "version": "3.12.4"
  }
 },
 "nbformat": 4,
 "nbformat_minor": 5
}
