{
 "cells": [
  {
   "cell_type": "markdown",
   "id": "f37e9ace-5aaf-49c5-9a0d-bf1310d47995",
   "metadata": {},
   "source": [
    "https://realpython.com/python3-object-oriented-programming/#classes-vs-instances"
   ]
  },
  {
   "cell_type": "code",
   "execution_count": 12,
   "id": "21703726-ceb1-430f-8c8d-1ba51289447b",
   "metadata": {},
   "outputs": [
    {
     "name": "stdout",
     "output_type": "stream",
     "text": [
      "Area is 12\n",
      "Volume is 60\n",
      "Area is 3000\n",
      "Volume is 210000\n",
      "Area is 147852\n",
      "Volume is 82057860\n"
     ]
    }
   ],
   "source": [
    "squares = []\n",
    "\n",
    "class Rectangle:\n",
    "    def __init__(self, vertical, horizontal, height):\n",
    "        self.vertical = vertical\n",
    "        self.horizontal = horizontal\n",
    "        self.height = height\n",
    "    \n",
    "    def calc_area(self):\n",
    "        area = self.vertical * self.horizontal\n",
    "        return area\n",
    "\n",
    "class Rectangular(Rectangle):\n",
    "    def __init__(self, vertical, horizontal, height):\n",
    "        super().__init__(vertical, horizontal, height)\n",
    "\n",
    "    def calc_volume(self):\n",
    "        area = self.calc_area()\n",
    "        volume = area * self.height\n",
    "        print(f\"Area is {area}\")\n",
    "        print(f\"Volume is {volume}\")\n",
    "\n",
    "def create_instances():\n",
    "    global squares\n",
    "    square1 = Rectangle(3, 4, 5)\n",
    "    square2 = Rectangle(50, 60, 70)\n",
    "    square3 = Rectangle(333, 444, 555)\n",
    "    squares = [square1, square2, square3]\n",
    "    \n",
    "def play():\n",
    "    create_instances()\n",
    "    for square in squares:\n",
    "        square.calc_area()\n",
    "        rectangular = Rectangular(square.vertical, square.horizontal, square.height)\n",
    "        rectangular.calc_volume()\n",
    "\n",
    "play()\n"
   ]
  },
  {
   "cell_type": "code",
   "execution_count": null,
   "id": "28ee71d5-05a7-4abb-a2ae-2d1b7538da19",
   "metadata": {},
   "outputs": [],
   "source": []
  }
 ],
 "metadata": {
  "kernelspec": {
   "display_name": "Python 3 (ipykernel)",
   "language": "python",
   "name": "python3"
  },
  "language_info": {
   "codemirror_mode": {
    "name": "ipython",
    "version": 3
   },
   "file_extension": ".py",
   "mimetype": "text/x-python",
   "name": "python",
   "nbconvert_exporter": "python",
   "pygments_lexer": "ipython3",
   "version": "3.12.3"
  }
 },
 "nbformat": 4,
 "nbformat_minor": 5
}
