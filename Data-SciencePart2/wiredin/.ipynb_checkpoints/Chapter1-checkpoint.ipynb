{
 "cells": [
  {
   "cell_type": "markdown",
   "id": "f46dcdb5-432c-40af-ae2e-613955684dec",
   "metadata": {},
   "source": [
    "## 1-1 : add ‘paper’ to ‘rock-scissors-paper’ game without ‘paper’: y5YT.py"
   ]
  },
  {
   "cell_type": "code",
   "execution_count": 1,
   "id": "fd6fd0dc-f588-4608-a359-01424badd262",
   "metadata": {},
   "outputs": [
    {
     "name": "stdout",
     "output_type": "stream",
     "text": [
      "Start 'rock-paper-scissors' game\n",
      "Input your hand choice\n"
     ]
    },
    {
     "name": "stdin",
     "output_type": "stream",
     "text": [
      "0=rock, 1=scissors, 2=paper2 1\n"
     ]
    },
    {
     "name": "stdout",
     "output_type": "stream",
     "text": [
      "あいこ\n"
     ]
    }
   ],
   "source": [
    "## Code Base\n",
    "import random\n",
    "\n",
    "print('Start \\'rock-paper-scissors\\' game')\n",
    "\n",
    "print('Input your hand choice')\n",
    "my_hand = int(input('0=rock, 1=scissors, 2=paper2'))\n",
    "you_hand = random.randint(0, 2)\n",
    "\n",
    "if my_hand == 0:\n",
    "  if you_hand == 0:\n",
    "    print('Draw')\n",
    "  elif you_hand == 1:\n",
    "    print('勝ち')\n",
    "elif my_hand == 1:\n",
    "  if you_hand == 0:\n",
    "    print('負け')\n",
    "  elif you_hand == 1:\n",
    "    print('あいこ')"
   ]
  },
  {
   "cell_type": "code",
   "execution_count": 2,
   "id": "234e9a5d-653f-42dc-82a2-8131ef09abc5",
   "metadata": {},
   "outputs": [
    {
     "name": "stdout",
     "output_type": "stream",
     "text": [
      "a = 3\n"
     ]
    }
   ],
   "source": [
    "def calc(a):\n",
    "  print('a = ' + str(a))\n",
    "\n",
    "calc(3)"
   ]
  },
  {
   "cell_type": "code",
   "execution_count": 9,
   "id": "3628ea6e-83e7-4515-a0f6-8b2bb3bd34a0",
   "metadata": {},
   "outputs": [
    {
     "name": "stdout",
     "output_type": "stream",
     "text": [
      "3 X 2= 6\n"
     ]
    }
   ],
   "source": [
    "def calc(a,b):\n",
    "    print(str(a) + \" X \"+str(b) + \"=\", a*b)\n",
    "calc(3,2)"
   ]
  },
  {
   "cell_type": "code",
   "execution_count": 10,
   "id": "1158fcda-2aca-4f7d-9b35-181c8f5b232a",
   "metadata": {},
   "outputs": [
    {
     "name": "stdout",
     "output_type": "stream",
     "text": [
      "3 x 4\n"
     ]
    },
    {
     "data": {
      "text/plain": [
       "12"
      ]
     },
     "execution_count": 10,
     "metadata": {},
     "output_type": "execute_result"
    }
   ],
   "source": [
    "def calc(a, b):\n",
    "  result = a * b\n",
    "  print(str(a) + ' x ' + str(b)) \n",
    "  return result\n",
    "\n",
    "calc(3, 4)"
   ]
  },
  {
   "cell_type": "code",
   "execution_count": null,
   "id": "03846621-f63f-43a7-9deb-654cf8557a40",
   "metadata": {},
   "outputs": [],
   "source": [
    "def calc(a, b):\n",
    "  result = a * b\n",
    "  print(str(a) + ' x ' + str(b))\n",
    "  return result\n",
    "\n",
    "calc_result = calc(3, 4)"
   ]
  },
  {
   "cell_type": "code",
   "execution_count": 6,
   "id": "3b96cdac-ed19-486f-8bc6-2db775650add",
   "metadata": {},
   "outputs": [
    {
     "name": "stdout",
     "output_type": "stream",
     "text": [
      "Start 'rock-paper-scissors'\n",
      "Input your hand\n"
     ]
    },
    {
     "name": "stdin",
     "output_type": "stream",
     "text": [
      "0:rock, 1:scissors, 2:paper 1\n"
     ]
    },
    {
     "name": "stdout",
     "output_type": "stream",
     "text": [
      "My hand is  scissors\n",
      "Computer's hand is rock\n",
      "lose\n"
     ]
    }
   ],
   "source": [
    "import random\n",
    "\n",
    "hands = ['rock', 'scissors', 'paper']\n",
    "# results = {'win':'勝ち', 'lose':'負け', 'draw':'あいこ'}\n",
    "results = {'win': 'win', 'lose': 'lose', 'draw': 'draw try again'}\n",
    "\n",
    "def start_message():\n",
    "    print('Start \\'rock-paper-scissors\\'')\n",
    "\n",
    "def get_my_hand():\n",
    "  print('Input your hand')\n",
    "  input_message = ''\n",
    "  index = 0\n",
    "  for hand in hands:\n",
    "    input_message += str(index) + ':' + hand\n",
    "    if index < 2:\n",
    "      input_message += ', '\n",
    "    index += 1\n",
    "  return int(input(input_message))\n",
    "# Summary\n",
    "# The function prompts the user to select an option from the hands list by showing \n",
    "# a list of choices with their corresponding indices. It then reads the user’s input (an index), converts it to an integer, and returns this integer.\n",
    "# With hands as ['rock', 'scissors', 'paper'], \n",
    "# the prompt will list these choices with their indices for the user to select from.\n",
    "\n",
    "def get_you_hand():\n",
    "  return random.randint(0, 2)\n",
    "    \n",
    "\n",
    "def get_hand_name(hand_number):\n",
    "  return hands[hand_number] # This function will help us to determine the correspondant hands\n",
    "\n",
    "def view_hand(my_hand, you_hand):\n",
    "  print('My hand is  ' + get_hand_name(my_hand))\n",
    "  print('Computer\\'s hand is ' + get_hand_name(you_hand)) # This function will help us to show the inputs to the players\n",
    "\n",
    "def get_result(hand_diff):\n",
    "  if hand_diff == 0:\n",
    "    return 'draw'\n",
    "  elif hand_diff == -1 or hand_diff == 2:\n",
    "    return 'win'\n",
    "  else:\n",
    "    return 'lose' # Here based on the difference between the 2 hands. We determine the winner or alternative output\n",
    "\n",
    "def view_result(result):\n",
    "  print(results[result])\n",
    "\n",
    "\n",
    "\n",
    "def play():\n",
    "    start_message() # Starting message\n",
    "    while True:\n",
    "        my_hand = get_my_hand() # getting inputts from the user\n",
    "        you_hand = get_you_hand() # getting inputs from the computer\n",
    "        hand_diff = my_hand - you_hand # here we are getting the difference between borh of them\n",
    "        view_hand(my_hand, you_hand) # Display the views of hands of both players\n",
    "        result = get_result(hand_diff)\n",
    "        view_result(result)\n",
    "        if result != 'draw':\n",
    "            return\n",
    "\n",
    "play()"
   ]
  },
  {
   "cell_type": "code",
   "execution_count": 17,
   "id": "9971c6fc-4045-4538-85f0-fc01fe8ad86b",
   "metadata": {},
   "outputs": [
    {
     "name": "stdout",
     "output_type": "stream",
     "text": [
      "Start 'rock-paper-scissors'\n",
      "Input your hand\n"
     ]
    },
    {
     "name": "stdin",
     "output_type": "stream",
     "text": [
      "0:rock, 1:scissors, 2:paper 1\n"
     ]
    },
    {
     "name": "stdout",
     "output_type": "stream",
     "text": [
      "My hand is  scissors\n",
      "Computer's hand is paper\n",
      "win\n"
     ]
    }
   ],
   "source": [
    "import random\n",
    "\n",
    "hands = ['rock', 'scissors', 'paper']\n",
    "# results = {'win':'勝ち', 'lose':'負け', 'draw':'あいこ'}\n",
    "results = {'win': 'win', 'lose': 'lose', 'draw': 'draw try again'}\n",
    "\n",
    "def start_message():\n",
    "    print('Start \\'rock-paper-scissors\\'')\n",
    "\n",
    "def get_my_hand():\n",
    "  print('Input your hand')\n",
    "  input_message = ''\n",
    "  index = 0\n",
    "  for hand in hands:\n",
    "    input_message += str(index) + ':' + hand\n",
    "    if index < 2:\n",
    "      input_message += ', '\n",
    "    index += 1\n",
    "  return int(input(input_message))\n",
    "# Summary\n",
    "# The function prompts the user to select an option from the hands list by showing \n",
    "# a list of choices with their corresponding indices. It then reads the user’s input (an index), converts it to an integer, and returns this integer.\n",
    "# With hands as ['rock', 'scissors', 'paper'], \n",
    "# the prompt will list these choices with their indices for the user to select from.\n",
    "\n",
    "def get_you_hand():\n",
    "  return random.randint(0, 2)\n",
    "    \n",
    "\n",
    "def get_hand_name(hand_number):\n",
    "  return hands[hand_number] # This function will help us to determine the correspondant hands\n",
    "\n",
    "def view_hand(my_hand, you_hand):\n",
    "  print('My hand is  ' + get_hand_name(my_hand))\n",
    "  print('Computer\\'s hand is ' + get_hand_name(you_hand)) # This function will help us to show the inputs to the players\n",
    "\n",
    "def get_result(hand_diff):\n",
    "  if hand_diff == 0:\n",
    "    return 'draw'\n",
    "  elif hand_diff == -1 or hand_diff == 2:\n",
    "    return 'win'\n",
    "  else:\n",
    "    return 'lose' # Here based on the difference between the 2 hands. We determine the winner or alternative output\n",
    "\n",
    "def view_result(result):\n",
    "  print(results[result])\n",
    "def is_hand(number):\n",
    "    if number >= 0 and number <= 2:\n",
    "        return True\n",
    "    else:\n",
    "        return False\n",
    "     \n",
    "\n",
    "def play():\n",
    "    start_message() # Starting message\n",
    "    while True:\n",
    "        my_hand = get_my_hand() # getting inputts from the user\n",
    "        you_hand = get_you_hand() # getting inputs from the computer\n",
    "        hand_diff = my_hand - you_hand # here we are getting the difference between borh of them\n",
    "        view_hand(my_hand, you_hand) # Display the views of hands of both players\n",
    "        result = get_result(hand_diff)\n",
    "        view_result(result)\n",
    "        if result != 'draw':\n",
    "            return\n",
    "\n",
    "play()"
   ]
  },
  {
   "cell_type": "code",
   "execution_count": 18,
   "id": "d3f09c7f-ca51-4f9c-8c82-d02c8c3c0288",
   "metadata": {},
   "outputs": [],
   "source": [
    "# def is_hand(number):\n",
    "#     condition = True\n",
    "#     while number < 0 and number > 2:\n",
    "#         condition = False \n",
    "#     if condition == True:\n",
    "#         print('Hello')\n",
    "#         return 2\n",
    "# is_hand(-1)\n"
   ]
  },
  {
   "cell_type": "code",
   "execution_count": 23,
   "id": "1bc24e8d-60d8-414f-8373-9a816a9b54bf",
   "metadata": {},
   "outputs": [
    {
     "name": "stdout",
     "output_type": "stream",
     "text": [
      "Start 'rock-paper-scissors'\n",
      "Input your hand\n"
     ]
    },
    {
     "name": "stdin",
     "output_type": "stream",
     "text": [
      "0:rock, 1:scissors, 2:paper 3\n"
     ]
    },
    {
     "name": "stdout",
     "output_type": "stream",
     "text": [
      "Enter a correct input\n",
      "Input your hand\n"
     ]
    },
    {
     "name": "stdin",
     "output_type": "stream",
     "text": [
      "0:rock, 1:scissors, 2:paper 2\n"
     ]
    },
    {
     "name": "stdout",
     "output_type": "stream",
     "text": [
      "My hand is  paper\n",
      "Computer's hand is scissors\n",
      "lose\n"
     ]
    }
   ],
   "source": [
    "import random\n",
    "\n",
    "hands = ['rock', 'scissors', 'paper']\n",
    "results = {'win': 'win', 'lose': 'lose', 'draw': 'draw try again'}\n",
    "\n",
    "def start_message():\n",
    "  print('Start \\'rock-paper-scissors\\'')\n",
    "\n",
    "def is_hand(number):\n",
    "  if number >= 0 and number <= 2:\n",
    "    return True\n",
    "  else:\n",
    "    return False\n",
    "\n",
    "def get_my_hand():\n",
    "  print('Input your hand')\n",
    "  input_message = ''\n",
    "  index = 0\n",
    "  for hand in hands:\n",
    "    input_message += str(index) + ':' + hand\n",
    "    if index < 2:\n",
    "      input_message += ', '\n",
    "    index += 1\n",
    "  return int(input(input_message))\n",
    "\n",
    "def get_you_hand():\n",
    "  return random.randint(0, 2)\n",
    "\n",
    "def get_hand_name(hand_number):\n",
    "  return hands[hand_number]\n",
    "\n",
    "def view_hand(my_hand, you_hand):\n",
    "  print('My hand is  ' + get_hand_name(my_hand))\n",
    "  print('Computer\\'s hand is ' + get_hand_name(you_hand)) # This function will help us to show the inputs to the players\n",
    "\n",
    "def get_result(hand_diff):\n",
    "  if hand_diff == 0:\n",
    "    return 'draw'\n",
    "  elif hand_diff == -1 or hand_diff == 2:\n",
    "    return 'win'\n",
    "  else:\n",
    "    return 'lose'\n",
    "\n",
    "def view_result(result):\n",
    "  print(results[result])\n",
    "\n",
    "def play():\n",
    "  my_hand = get_my_hand()\n",
    "  while not is_hand(my_hand):\n",
    "      print('Enter a correct input')\n",
    "      my_hand = get_my_hand() # here we are in a while loop as longer as the number is not right\n",
    "\n",
    "  you_hand = get_you_hand()\n",
    "  hand_diff = my_hand - you_hand\n",
    "\n",
    "  view_hand(my_hand, you_hand)\n",
    "  result = get_result(hand_diff)\n",
    "  view_result(result)\n",
    "  if result == 'draw':\n",
    "    play()\n",
    "\n",
    "start_message()\n",
    "play()"
   ]
  },
  {
   "cell_type": "code",
   "execution_count": 20,
   "id": "7d6ea786-7f91-4b11-b52c-a07b28e86c05",
   "metadata": {},
   "outputs": [],
   "source": [
    "# ##  Very helpful the fucntion play() is called in recursion\n",
    "\n",
    "\n",
    "# def play():\n",
    "#     my_hand = get_my_hand()\n",
    "#     while not is_hand(my_hand):\n",
    "#         my_hand = get_my_hand()  # Continue prompting until the number is valid\n",
    "\n",
    "#     you_hand = get_you_hand()\n",
    "#     hand_diff = my_hand - you_hand\n",
    "\n",
    "#     view_hand(my_hand, you_hand)\n",
    "#     result = get_result(hand_diff)\n",
    "#     view_result(result)\n",
    "\n",
    "#     if result == 'draw':\n",
    "#         play()  # Recursively play again if it's a draw"
   ]
  },
  {
   "cell_type": "code",
   "execution_count": 28,
   "id": "8983364d-3d6f-4c73-984d-279183734b1e",
   "metadata": {},
   "outputs": [
    {
     "name": "stdout",
     "output_type": "stream",
     "text": [
      "Start 'rock-paper-scissors'\n",
      "Input your hand\n"
     ]
    },
    {
     "name": "stdin",
     "output_type": "stream",
     "text": [
      "0:rock, 1:scissors, 2:paper 3\n"
     ]
    },
    {
     "name": "stdout",
     "output_type": "stream",
     "text": [
      "Input your hand\n"
     ]
    },
    {
     "name": "stdin",
     "output_type": "stream",
     "text": [
      "0:rock, 1:scissors, 2:paper d\n"
     ]
    },
    {
     "name": "stdout",
     "output_type": "stream",
     "text": [
      "Input your hand\n"
     ]
    },
    {
     "name": "stdin",
     "output_type": "stream",
     "text": [
      "0:rock, 1:scissors, 2:paper f\n"
     ]
    },
    {
     "name": "stdout",
     "output_type": "stream",
     "text": [
      "Input your hand\n"
     ]
    },
    {
     "name": "stdin",
     "output_type": "stream",
     "text": [
      "0:rock, 1:scissors, 2:paper a\n"
     ]
    },
    {
     "name": "stdout",
     "output_type": "stream",
     "text": [
      "Input your hand\n"
     ]
    },
    {
     "name": "stdin",
     "output_type": "stream",
     "text": [
      "0:rock, 1:scissors, 2:paper 1\n"
     ]
    },
    {
     "ename": "TypeError",
     "evalue": "unsupported operand type(s) for -: 'str' and 'int'",
     "output_type": "error",
     "traceback": [
      "\u001b[1;31m---------------------------------------------------------------------------\u001b[0m",
      "\u001b[1;31mTypeError\u001b[0m                                 Traceback (most recent call last)",
      "Cell \u001b[1;32mIn[28], line 69\u001b[0m\n\u001b[0;32m     66\u001b[0m     play()\n\u001b[0;32m     68\u001b[0m start_message()\n\u001b[1;32m---> 69\u001b[0m play()\n",
      "Cell \u001b[1;32mIn[28], line 60\u001b[0m, in \u001b[0;36mplay\u001b[1;34m()\u001b[0m\n\u001b[0;32m     57\u001b[0m     my_hand \u001b[38;5;241m=\u001b[39m get_my_hand() \u001b[38;5;66;03m# here we are in a while loop as longer as the number is not right\u001b[39;00m\n\u001b[0;32m     59\u001b[0m you_hand \u001b[38;5;241m=\u001b[39m get_you_hand()\n\u001b[1;32m---> 60\u001b[0m hand_diff \u001b[38;5;241m=\u001b[39m my_hand \u001b[38;5;241m-\u001b[39m you_hand\n\u001b[0;32m     62\u001b[0m view_hand(my_hand, you_hand)\n\u001b[0;32m     63\u001b[0m result \u001b[38;5;241m=\u001b[39m get_result(hand_diff)\n",
      "\u001b[1;31mTypeError\u001b[0m: unsupported operand type(s) for -: 'str' and 'int'"
     ]
    }
   ],
   "source": [
    "import random\n",
    "\n",
    "hands = ['rock', 'scissors', 'paper']\n",
    "results = {'win': 'win', 'lose': 'lose', 'draw': 'draw try again'}\n",
    "\n",
    "def start_message():\n",
    "  print('Start \\'rock-paper-scissors\\'')\n",
    "\n",
    "\n",
    "def is_hand(string):\n",
    "  if string.isdigit():  #string.isdigit() checks if the string consists only of digits (0-9). This ensures that the string is a numerical value. \n",
    "    number = int(string)\n",
    "    if number >= 0 and number <= 2:\n",
    "      return True\n",
    "    else:\n",
    "      return False\n",
    "  else:\n",
    "    return False\n",
    "\n",
    "\n",
    "def get_my_hand():\n",
    "  print('Input your hand')\n",
    "  input_message = ''\n",
    "  index = 0\n",
    "  for hand in hands:\n",
    "    input_message += str(index) + ':' + hand\n",
    "    if index < 2:\n",
    "      input_message += ', '\n",
    "    index += 1\n",
    "  return input(input_message)\n",
    "\n",
    "def get_you_hand():\n",
    "  return random.randint(0, 2)\n",
    "\n",
    "def get_hand_name(hand_number):\n",
    "  return hands[hand_number]\n",
    "\n",
    "def view_hand(my_hand, you_hand):\n",
    "  print('My hand is  ' + get_hand_name(my_hand))\n",
    "  print('Computer\\'s hand is ' + get_hand_name(you_hand)) # This function will help us to show the inputs to the players\n",
    "\n",
    "def get_result(hand_diff):\n",
    "  if hand_diff == 0:\n",
    "    return 'draw'\n",
    "  elif hand_diff == -1 or hand_diff == 2:\n",
    "    return 'win'\n",
    "  else:\n",
    "    return 'lose'\n",
    "\n",
    "def view_result(result):\n",
    "  print(results[result])\n",
    "\n",
    "def play():\n",
    "  my_hand = get_my_hand()\n",
    "  while not is_hand(my_hand):\n",
    "      # print('Enter a correct input')\n",
    "      my_hand = get_my_hand() # here we are in a while loop as longer as the number is not right\n",
    "\n",
    "  you_hand = get_you_hand()\n",
    "  hand_diff = my_hand - you_hand\n",
    "\n",
    "  view_hand(my_hand, you_hand)\n",
    "  result = get_result(hand_diff)\n",
    "  view_result(result)\n",
    "  if result == 'draw':\n",
    "    play()\n",
    "\n",
    "start_message()\n",
    "play()"
   ]
  },
  {
   "cell_type": "code",
   "execution_count": 29,
   "id": "6038d6fc-553d-4f15-98b7-01b63c36d021",
   "metadata": {},
   "outputs": [
    {
     "name": "stdout",
     "output_type": "stream",
     "text": [
      "Rock-paper-scissors start\n",
      "Please enter your hand\n"
     ]
    },
    {
     "name": "stdin",
     "output_type": "stream",
     "text": [
      "0:Rock, 1:Scissors, 2:Paper  3\n"
     ]
    },
    {
     "name": "stdout",
     "output_type": "stream",
     "text": [
      "Please enter your hand\n"
     ]
    },
    {
     "name": "stdin",
     "output_type": "stream",
     "text": [
      "0:Rock, 1:Scissors, 2:Paper  1\n"
     ]
    },
    {
     "name": "stdout",
     "output_type": "stream",
     "text": [
      "My hand is Scissors\n",
      "Opponent's hand is Rock\n",
      "lose\n"
     ]
    }
   ],
   "source": [
    "import random\n",
    "\n",
    "hands = ['Rock', 'Scissors', 'Paper']\n",
    "results = {'win': 'win', 'lose': 'lose', 'draw': 'draw'}\n",
    "\n",
    "def start_message():\n",
    "    print('Rock-paper-scissors start')\n",
    "\n",
    "def is_hand(string):\n",
    "    if string.isdigit():    #string.isdigit() checks if the string consists only of digits (0-9). This ensures that the string is a numerical value. \n",
    "        number = int(string)\n",
    "        if number >= 0 and number <= 2:\n",
    "            return True\n",
    "        else:\n",
    "            return False\n",
    "    else:\n",
    "        return False\n",
    "\n",
    "def get_my_hand():\n",
    "    print('Please enter your hand')\n",
    "    input_message = ''\n",
    "    index = 0\n",
    "    for hand in hands:\n",
    "        input_message += str(index) + ':' + hand\n",
    "        if index < 2:\n",
    "            input_message += ', '\n",
    "        index += 1\n",
    "    return input(input_message + ' ')\n",
    "\n",
    "def get_you_hand():\n",
    "    return random.randint(0, 2)\n",
    "\n",
    "def get_hand_name(hand_number):\n",
    "    return hands[hand_number]\n",
    "\n",
    "def view_hand(my_hand, you_hand):\n",
    "    print('My hand is ' + get_hand_name(my_hand))\n",
    "    print('Opponent\\'s hand is ' + get_hand_name(you_hand))\n",
    "\n",
    "def get_result(hand_diff):\n",
    "    if hand_diff == 0:\n",
    "        return 'draw'\n",
    "    elif hand_diff == -1 or hand_diff == 2:\n",
    "        return 'win'\n",
    "    else:\n",
    "        return 'lose'\n",
    "\n",
    "def view_result(result):\n",
    "    print(results[result])\n",
    "\n",
    "def play():\n",
    "    my_hand = get_my_hand()\n",
    "    while not is_hand(my_hand):\n",
    "        my_hand = get_my_hand()\n",
    "\n",
    "    my_hand = int(my_hand)\n",
    "    you_hand = get_you_hand()\n",
    "    hand_diff = my_hand - you_hand\n",
    "\n",
    "    view_hand(my_hand, you_hand)\n",
    "    result = get_result(hand_diff)\n",
    "    view_result(result)\n",
    "    if result == 'draw':\n",
    "        play()\n",
    "\n",
    "start_message()\n",
    "play()\n"
   ]
  },
  {
   "cell_type": "code",
   "execution_count": null,
   "id": "893d88e3-afb2-4486-9cda-573315f94f5d",
   "metadata": {},
   "outputs": [],
   "source": []
  }
 ],
 "metadata": {
  "kernelspec": {
   "display_name": "Python 3 (ipykernel)",
   "language": "python",
   "name": "python3"
  },
  "language_info": {
   "codemirror_mode": {
    "name": "ipython",
    "version": 3
   },
   "file_extension": ".py",
   "mimetype": "text/x-python",
   "name": "python",
   "nbconvert_exporter": "python",
   "pygments_lexer": "ipython3",
   "version": "3.12.3"
  }
 },
 "nbformat": 4,
 "nbformat_minor": 5
}
