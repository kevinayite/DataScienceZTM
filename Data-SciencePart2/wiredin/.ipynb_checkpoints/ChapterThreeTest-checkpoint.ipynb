{
 "cells": [
  {
   "cell_type": "code",
   "execution_count": 2,
   "id": "544d239f-a88c-4fec-98cd-f38d27ebf9a0",
   "metadata": {},
   "outputs": [
    {
     "name": "stdin",
     "output_type": "stream",
     "text": [
      "Enter the name for Team 1:  1\n",
      "Enter the attack power for 1:  12\n",
      "Enter the defense power for 1:  12\n",
      "Enter the name for Team 2:  2\n",
      "Enter the attack power for 2:  22\n",
      "Enter the defense power for 2:  22\n",
      "Enter the name for Team 3:  3\n",
      "Enter the attack power for 3:  33\n",
      "Enter the defense power for 3:  33\n"
     ]
    },
    {
     "name": "stdout",
     "output_type": "stream",
     "text": [
      " type 1: Attack Power: 12 / Defense Power: 12\n",
      " type 2: Attack Power: 22 / Defense Power: 22\n",
      " type 3: Attack Power: 33 / Defense Power: 33\n"
     ]
    }
   ],
   "source": [
    "import random\n",
    "\n",
    "teams = []\n",
    "playing_teams = {1: 'Attackers', 2: 'Defenders', 3: 'Averages'}\n",
    "\n",
    "class Team:\n",
    "    def __init__(self, name, attack, defense):\n",
    "        self.name = name\n",
    "        self.attack = attack\n",
    "        self.defense = defense\n",
    "\n",
    "    def info(self):\n",
    "        print(f\" type {self.name}: Attack Power: {self.attack} / Defense Power: {self.defense}\")\n",
    "\n",
    "def create_teams():\n",
    "    global teams\n",
    "    teams = []  # Clear any existing teams\n",
    "\n",
    "    for i in range(3):  # Assuming we want to create exactly 3 teams\n",
    "        name = input(f\"Enter the name for Team {i+1}: \")\n",
    "        attack = int(input(f\"Enter the attack power for {name}: \"))\n",
    "        defense = int(input(f\"Enter the defense power for {name}: \"))\n",
    "        team = Team(name, attack, defense)\n",
    "        teams.append(team)\n",
    "\n",
    "# Example of how to call create_teams\n",
    "create_teams()\n",
    "\n",
    "# Display the created teams\n",
    "for team in teams:\n",
    "    team.info()\n"
   ]
  },
  {
   "cell_type": "code",
   "execution_count": 5,
   "id": "958acd06-4181-4a21-bc24-13539f008e75",
   "metadata": {},
   "outputs": [
    {
     "name": "stdin",
     "output_type": "stream",
     "text": [
      "Enter the type for Smartphone 1:  Android\n",
      "Enter the size of Android:  40\n",
      "Enter the color for this Android:  red\n",
      "Enter the type for Smartphone 2:  Iphone\n",
      "Enter the size of Iphone:  50\n",
      "Enter the color for this Iphone:  blue\n"
     ]
    },
    {
     "name": "stdout",
     "output_type": "stream",
     "text": [
      " type :Android: size: 40 color : red\n",
      " type :Iphone: size: 50 color : blue\n"
     ]
    }
   ],
   "source": [
    "import random\n",
    "\n",
    "Smartphones = []\n",
    "\n",
    "class Phones:\n",
    "    def __init__(self, type, size, color):\n",
    "        self.type = type\n",
    "        self.size = size\n",
    "        self.color = color\n",
    "\n",
    "    def info(self):\n",
    "        print(f\" type :{self.type}: size: {self.size} color : {self.color}\")\n",
    "\n",
    "def create_phones():\n",
    "    global Smartphones\n",
    "    Smartphones = []  \n",
    "\n",
    "    for i in range(10):  \n",
    "        type = input(f\"Enter the type for Smartphone {i+1}: \")\n",
    "        size = int(input(f\"Enter the size of {type}: \"))\n",
    "        color = input(f\"Enter the color for this {type}: \")\n",
    "        \n",
    "        Smartphone = Phones(type, size, color)\n",
    "        Smartphones.append(Smartphone)\n",
    "\n",
    "\n",
    "create_phones()\n",
    "\n",
    "for Smartphone in Smartphones:\n",
    "    Smartphone.info()\n"
   ]
  },
  {
   "cell_type": "code",
   "execution_count": 7,
   "id": "8b04c6ee-9104-4e69-98bb-87ecb32127fb",
   "metadata": {},
   "outputs": [
    {
     "name": "stdout",
     "output_type": "stream",
     "text": [
      "type:Android size:60 color:red\n",
      "type:iPhone size:50 color:blue\n",
      "type:Android size:70 color:white\n",
      "type:Android size:50 color:black\n",
      "type:Android size:60 color:purple\n",
      "type:iPhone size:60 color:black\n",
      "type:Android size:50 color:green\n",
      "type:iPhone size:70 color:yellow\n",
      "type:iPhone size:80 color:purple\n",
      "type:Android size:60 color:yellow\n"
     ]
    }
   ],
   "source": [
    "class Phones:\n",
    "    def __init__(self, type, size, color):\n",
    "        self.type = type\n",
    "        self.size = size\n",
    "        self.color = color\n",
    "\n",
    "    def info(self):\n",
    "        print(f\"type:{self.type} size:{self.size} color:{self.color}\")\n",
    "\n",
    "\n",
    "smartphone_data = [\n",
    "    ('Android', 60, 'red'),\n",
    "    ('iPhone', 50, 'blue'),\n",
    "    ('Android', 70, 'white'),\n",
    "    ('Android', 50, 'black'),\n",
    "    ('Android', 60, 'purple'),\n",
    "    ('iPhone', 60, 'black'),\n",
    "    ('Android', 50, 'green'),\n",
    "    ('iPhone', 70, 'yellow'),\n",
    "    ('iPhone', 80, 'purple'),\n",
    "    ('Android', 60, 'yellow')\n",
    "]\n",
    "\n",
    "\n",
    "Smartphones = []\n",
    "\n",
    "\n",
    "for data in smartphone_data:\n",
    "    type, size, color = data\n",
    "    smartphone = Phones(type, size, color)\n",
    "    Smartphones.append(smartphone)\n",
    "\n",
    "\n",
    "for smartphone in Smartphones:\n",
    "    smartphone.info()\n"
   ]
  },
  {
   "cell_type": "code",
   "execution_count": null,
   "id": "495c4c64-a9b6-4c2d-9645-98b399d7eb1c",
   "metadata": {},
   "outputs": [],
   "source": []
  }
 ],
 "metadata": {
  "kernelspec": {
   "display_name": "Python 3 (ipykernel)",
   "language": "python",
   "name": "python3"
  },
  "language_info": {
   "codemirror_mode": {
    "name": "ipython",
    "version": 3
   },
   "file_extension": ".py",
   "mimetype": "text/x-python",
   "name": "python",
   "nbconvert_exporter": "python",
   "pygments_lexer": "ipython3",
   "version": "3.12.3"
  }
 },
 "nbformat": 4,
 "nbformat_minor": 5
}
