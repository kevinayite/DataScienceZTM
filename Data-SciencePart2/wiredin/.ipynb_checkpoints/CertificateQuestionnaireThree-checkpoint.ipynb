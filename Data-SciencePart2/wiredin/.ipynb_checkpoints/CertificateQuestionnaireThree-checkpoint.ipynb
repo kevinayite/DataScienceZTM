{
 "cells": [
  {
   "cell_type": "code",
   "execution_count": 40,
   "id": "07d04ec7-486f-4ebb-9a3d-99d59f3e2702",
   "metadata": {},
   "outputs": [
    {
     "name": "stdout",
     "output_type": "stream",
     "text": [
      "Information of all teams\n",
      "1\n",
      "Atackers :Offensive power: 80 / Defensive power: 20\n",
      "2\n",
      "Defenders :Offensive power: 30 / Defensive power: 70\n",
      "3\n",
      "Averages :Offensive power: 50 / Defensive power: 50\n"
     ]
    },
    {
     "name": "stdin",
     "output_type": "stream",
     "text": [
      "Select Your team(1-3) 1\n"
     ]
    },
    {
     "name": "stdout",
     "output_type": "stream",
     "text": [
      "Your team is 'Atackers'\n"
     ]
    },
    {
     "name": "stdin",
     "output_type": "stream",
     "text": [
      "Select Opponent's team(1-3) 1\n"
     ]
    },
    {
     "name": "stdout",
     "output_type": "stream",
     "text": [
      "Opponent's team is 'Atackers'\n"
     ]
    },
    {
     "name": "stdin",
     "output_type": "stream",
     "text": [
      "Select Opponent's team(1-3) 1\n"
     ]
    },
    {
     "name": "stdout",
     "output_type": "stream",
     "text": [
      "Opponent's team is 'Atackers'\n"
     ]
    },
    {
     "name": "stdin",
     "output_type": "stream",
     "text": [
      "Select Opponent's team(1-3) a\n",
      "Select Opponent's team(1-3) 2\n"
     ]
    },
    {
     "name": "stdout",
     "output_type": "stream",
     "text": [
      "Opponent's team is 'Defenders'\n",
      "________|1｜2｜3｜4｜5｜6｜7｜8｜9｜R｜\n",
      "You     |2｜1｜0｜0｜2｜2｜0｜0｜1｜8｜\n",
      "Opponent|1｜0｜0｜1｜0｜1｜1｜0｜1｜5｜\n"
     ]
    }
   ],
   "source": [
    "import random\n",
    "import math\n",
    "\n",
    "teams = []\n",
    "playing_teams = {'myself': False, 'enemy': False}\n",
    "dealt = []\n",
    "\n",
    "\n",
    "class Team:\n",
    "    def __init__(self, name, attack, defense):\n",
    "        self.name = name\n",
    "        self.attack = attack\n",
    "        self.defense = defense\n",
    "        self.total_score = 0\n",
    "\n",
    "    def info(self):\n",
    "        print(f\"{self.name} :Offensive power: {self.attack} / Defensive power: {self.defense}\")\n",
    "        # print(self.name + ': Offensive power:' + str(self.attack) +\n",
    "        #       ' / Defensive power:' + str(self.defense))\n",
    "\n",
    "    def get_hit_rate(self):\n",
    "        return random.randint(10, self.attack)\n",
    "\n",
    "    def get_out_rate(self):\n",
    "        return random.randint(10, self.defense)\n",
    "\n",
    "\n",
    "def create_teams():\n",
    "    global teams\n",
    "    team1 = Team('Atackers', 80, 20)\n",
    "    team2 = Team('Defenders', 30, 70)\n",
    "    team3 = Team('Averages', 50, 50)\n",
    "    teams = [team1, team2, team3]\n",
    "\n",
    "\n",
    "def show_teams():\n",
    "    index = 1\n",
    "    print('Information of all teams')\n",
    "    for team in teams:\n",
    "        print(str(index))\n",
    "        team.info()\n",
    "        index += 1\n",
    "\n",
    "\n",
    "def check_dealt(choice_team_number):\n",
    "    if choice_team_number.isdigit():\n",
    "        number = int(choice_team_number)\n",
    "        if number>= 1 and number <=3:\n",
    "            return True\n",
    "        else:\n",
    "            return False\n",
    "    else:\n",
    "        return False\n",
    "        \n",
    "    \n",
    "    \n",
    "\n",
    "def choice_team(player):\n",
    "    if player == 'myself':\n",
    "        player_name = 'Your'\n",
    "    elif player == 'enemy':\n",
    "        player_name = 'Opponent\\'s'\n",
    "    message=f\"Select {player_name} team(1-3)\"\n",
    "    choice_team_number = input(message)\n",
    "    while not(check_dealt(choice_team_number)):\n",
    "        choice_team_number = input(message)\n",
    "    choice_team = int(choice_team_number)\n",
    "    # print(choice_team)\n",
    "    # return int(choice_team_number)\n",
    "\n",
    "    # choice_team_number = input('Select ' + player_name + ' team(1-3) ')\n",
    "    \n",
    "    \n",
    "    playing_teams[player] = teams[choice_team - 1]\n",
    "    print(player_name + ' team is \\'' + playing_teams[player].name + '\\'')\n",
    "    return choice_team\n",
    "\n",
    "\n",
    "def get_play_inning(inning):\n",
    "    if inning == 'top':\n",
    "        hit_rate = playing_teams['myself'].get_hit_rate()\n",
    "        out_rate = playing_teams['enemy'].get_out_rate()\n",
    "    elif inning == 'bottom':\n",
    "        hit_rate = playing_teams['enemy'].get_hit_rate()\n",
    "        out_rate = playing_teams['myself'].get_out_rate()\n",
    "    inning_score = math.floor((hit_rate - out_rate) / 10)\n",
    "    if inning_score < 0:\n",
    "        inning_score = 0\n",
    "    return inning_score\n",
    "\n",
    "\n",
    "def play():\n",
    "    create_teams()\n",
    "    show_teams()\n",
    "    # choice_team('myself')\n",
    "    user_input = choice_team('myself')\n",
    "    comp_input = choice_team('enemy')\n",
    "    while (user_input == comp_input):\n",
    "         comp_input = choice_team('enemy')\n",
    "        \n",
    "    \n",
    "    score_boards = ['________|', 'You     |', 'Opponent|']\n",
    "    for i in range(9):\n",
    "        score_boards[0] += str(i + 1) + '｜'\n",
    "        # attack of the top\n",
    "        inning_score = get_play_inning('top')\n",
    "        score_boards[1] += str(inning_score) + '｜'\n",
    "        playing_teams['myself'].total_score += inning_score\n",
    "        # attack of the bottom\n",
    "        if i == 8 and playing_teams['myself'].total_score < playing_teams['enemy'].total_score:\n",
    "            score_boards[2] += 'X｜'\n",
    "        else:\n",
    "            inning_score = get_play_inning('bottom')\n",
    "            score_boards[2] += str(inning_score) + '｜'\n",
    "            playing_teams['enemy'].total_score += inning_score\n",
    "    score_boards[0] += 'R｜'\n",
    "    score_boards[1] += str(playing_teams['myself'].total_score) + '｜'\n",
    "    score_boards[2] += str(playing_teams['enemy'].total_score) + '｜'\n",
    "    print(score_boards[0])\n",
    "    print(score_boards[1])\n",
    "\n",
    "    print(score_boards[2])\n",
    "    # print(user_input)\n",
    "    \n",
    "\n",
    "\n",
    "play()"
   ]
  },
  {
   "cell_type": "code",
   "execution_count": null,
   "id": "c16a9d00-f556-4864-bdc1-fb544ccb6702",
   "metadata": {},
   "outputs": [],
   "source": []
  },
  {
   "cell_type": "code",
   "execution_count": null,
   "id": "b5f5444c-9399-4815-90ef-4307933e4868",
   "metadata": {},
   "outputs": [],
   "source": []
  },
  {
   "cell_type": "code",
   "execution_count": null,
   "id": "ee7f4825-4f83-4fc8-8591-2c4c0f24fe73",
   "metadata": {},
   "outputs": [],
   "source": []
  },
  {
   "cell_type": "code",
   "execution_count": 38,
   "id": "7aca0e6b-44af-49cb-8161-cc8cc326c508",
   "metadata": {},
   "outputs": [
    {
     "name": "stdout",
     "output_type": "stream",
     "text": [
      "Information of all teams\n",
      "1\n",
      "Atackers: Offensive power:80 / Defensive power:20\n",
      "2\n",
      "Defenders: Offensive power:30 / Defensive power:70\n",
      "3\n",
      "Averages: Offensive power:50 / Defensive power:50\n"
     ]
    },
    {
     "name": "stdin",
     "output_type": "stream",
     "text": [
      "Select Your team(1-3)  1\n"
     ]
    },
    {
     "name": "stdout",
     "output_type": "stream",
     "text": [
      "Your team is 'Atackers'\n"
     ]
    },
    {
     "name": "stdin",
     "output_type": "stream",
     "text": [
      "Select Opponent's team(1-3)  1\n"
     ]
    },
    {
     "name": "stdout",
     "output_type": "stream",
     "text": [
      "Opponent's team is 'Atackers'\n",
      "________|1｜2｜3｜4｜5｜6｜7｜8｜9｜R｜\n",
      "You     |5｜1｜2｜4｜6｜5｜4｜4｜2｜58｜\n",
      "Opponent|3｜2｜5｜3｜1｜6｜3｜1｜1｜58｜\n"
     ]
    }
   ],
   "source": [
    "import random\n",
    "import math\n",
    "\n",
    "teams = []\n",
    "playing_teams = {'myself': False, 'enemy': False}\n",
    "\n",
    "\n",
    "class Team:\n",
    "    def __init__(self, name, attack, defense):\n",
    "        self.name = name\n",
    "        self.attack = attack\n",
    "        self.defense = defense\n",
    "        self.total_score = 0\n",
    "\n",
    "    def info(self):\n",
    "        print(self.name + ': Offensive power:' + str(self.attack) +\n",
    "              ' / Defensive power:' + str(self.defense))\n",
    "\n",
    "    def get_hit_rate(self):\n",
    "        return random.randint(10, self.attack)\n",
    "\n",
    "    def get_out_rate(self):\n",
    "        return random.randint(10, self.defense)\n",
    "\n",
    "\n",
    "def create_teams():\n",
    "    global teams\n",
    "    team1 = Team('Atackers', 80, 20)\n",
    "    team2 = Team('Defenders', 30, 70)\n",
    "    team3 = Team('Averages', 50, 50)\n",
    "    teams = [team1, team2, team3]\n",
    "\n",
    "\n",
    "def show_teams():\n",
    "    index = 1\n",
    "    print('Information of all teams')\n",
    "    for team in teams:\n",
    "        print(str(index))\n",
    "        team.info()\n",
    "        index += 1\n",
    "\n",
    "\n",
    "def choice_team(player):\n",
    "    if player == 'myself':\n",
    "        player_name = 'Your'\n",
    "    elif player == 'enemy':\n",
    "        player_name = 'Opponent\\'s'\n",
    "\n",
    "\n",
    "    choice_team_number = int(input('Select ' + player_name + ' team(1-3) '))\n",
    "    playing_teams[player] = teams[choice_team_number - 1]\n",
    "    print(player_name + ' team is \\'' + playing_teams[player].name + '\\'')\n",
    "\n",
    "\n",
    "def get_play_inning(inning):\n",
    "    if inning == 'top':\n",
    "        hit_rate = playing_teams['myself'].get_hit_rate() \n",
    "        out_rate = playing_teams['enemy'].get_out_rate()\n",
    "    elif inning == 'bottom':\n",
    "        hit_rate = playing_teams['enemy'].get_hit_rate()\n",
    "        out_rate = playing_teams['myself'].get_out_rate()\n",
    "    inning_score = math.floor((hit_rate - out_rate) / 10)\n",
    "    if inning_score < 0:\n",
    "        inning_score = 0\n",
    "    return inning_score\n",
    "\n",
    "\n",
    "def play():\n",
    "    create_teams()\n",
    "    show_teams()\n",
    "    choice_team('myself')\n",
    "    choice_team('enemy')\n",
    "    score_boards = ['________|', 'You     |', 'Opponent|']\n",
    "    for i in range(9):\n",
    "        score_boards[0] += str(i + 1) + '｜'\n",
    "        # attack of the top\n",
    "        inning_score = get_play_inning('top')\n",
    "        score_boards[1] += str(inning_score) + '｜'\n",
    "        playing_teams['myself'].total_score += inning_score\n",
    "        # attack of the bottom\n",
    "        if i == 8 and playing_teams['myself'].total_score < playing_teams['enemy'].total_score:\n",
    "            score_boards[2] += 'X｜'\n",
    "        else:\n",
    "            inning_score = get_play_inning('bottom')\n",
    "            score_boards[2] += str(inning_score) + '｜'\n",
    "            playing_teams['enemy'].total_score += inning_score\n",
    "    score_boards[0] += 'R｜'\n",
    "    score_boards[1] += str(playing_teams['myself'].total_score) + '｜'\n",
    "    score_boards[2] += str(playing_teams['enemy'].total_score) + '｜'\n",
    "    print(score_boards[0])\n",
    "    print(score_boards[1])\n",
    "    print(score_boards[2])\n",
    "\n",
    "\n",
    "play()"
   ]
  },
  {
   "cell_type": "code",
   "execution_count": null,
   "id": "87bb2e25-b01c-4cd9-a04a-07bf8e475f2e",
   "metadata": {},
   "outputs": [],
   "source": []
  },
  {
   "cell_type": "code",
   "execution_count": null,
   "id": "f9316c61-4018-4120-9b58-5a11167dfc63",
   "metadata": {},
   "outputs": [],
   "source": []
  },
  {
   "cell_type": "code",
   "execution_count": null,
   "id": "04e74e69-aae7-42ce-91a7-c189e6c632c1",
   "metadata": {},
   "outputs": [],
   "source": []
  },
  {
   "cell_type": "code",
   "execution_count": null,
   "id": "0d2e4e77-22a1-4976-9eff-dba7faee642f",
   "metadata": {},
   "outputs": [],
   "source": []
  },
  {
   "cell_type": "code",
   "execution_count": 39,
   "id": "92c10470-bf0b-4f8e-bf39-feec69d5acde",
   "metadata": {},
   "outputs": [
    {
     "name": "stdout",
     "output_type": "stream",
     "text": [
      "Information of all teams\n",
      "1. Atackers : Offensive power: 80 / Defensive power: 20\n",
      "2. Defenders : Offensive power: 30 / Defensive power: 70\n",
      "3. Averages : Offensive power: 50 / Defensive power: 50\n"
     ]
    },
    {
     "name": "stdin",
     "output_type": "stream",
     "text": [
      "Select Your team (1-3):  1\n"
     ]
    },
    {
     "name": "stdout",
     "output_type": "stream",
     "text": [
      "Your team is 'Atackers'\n"
     ]
    },
    {
     "name": "stdin",
     "output_type": "stream",
     "text": [
      "Select Opponent's team (1-3):  1\n"
     ]
    },
    {
     "name": "stdout",
     "output_type": "stream",
     "text": [
      "Opponent's team is 'Atackers'\n",
      "Opponent cannot choose the same team. Please select again.\n"
     ]
    },
    {
     "name": "stdin",
     "output_type": "stream",
     "text": [
      "Select Opponent's team (1-3):  1\n"
     ]
    },
    {
     "name": "stdout",
     "output_type": "stream",
     "text": [
      "Opponent's team is 'Atackers'\n",
      "Opponent cannot choose the same team. Please select again.\n"
     ]
    },
    {
     "name": "stdin",
     "output_type": "stream",
     "text": [
      "Select Opponent's team (1-3):  a\n"
     ]
    },
    {
     "name": "stdout",
     "output_type": "stream",
     "text": [
      "Invalid choice. Please select a team number between 1 and 3.\n"
     ]
    },
    {
     "ename": "KeyboardInterrupt",
     "evalue": "Interrupted by user",
     "output_type": "error",
     "traceback": [
      "\u001b[1;31m---------------------------------------------------------------------------\u001b[0m",
      "\u001b[1;31mKeyboardInterrupt\u001b[0m                         Traceback (most recent call last)",
      "Cell \u001b[1;32mIn[39], line 98\u001b[0m\n\u001b[0;32m     95\u001b[0m     \u001b[38;5;28mprint\u001b[39m(score_boards[\u001b[38;5;241m1\u001b[39m])\n\u001b[0;32m     96\u001b[0m     \u001b[38;5;28mprint\u001b[39m(score_boards[\u001b[38;5;241m2\u001b[39m])\n\u001b[1;32m---> 98\u001b[0m play()\n",
      "Cell \u001b[1;32mIn[39], line 73\u001b[0m, in \u001b[0;36mplay\u001b[1;34m()\u001b[0m\n\u001b[0;32m     71\u001b[0m \u001b[38;5;28;01mwhile\u001b[39;00m playing_teams[\u001b[38;5;124m'\u001b[39m\u001b[38;5;124mmyself\u001b[39m\u001b[38;5;124m'\u001b[39m]\u001b[38;5;241m.\u001b[39mname \u001b[38;5;241m==\u001b[39m playing_teams[\u001b[38;5;124m'\u001b[39m\u001b[38;5;124menemy\u001b[39m\u001b[38;5;124m'\u001b[39m]\u001b[38;5;241m.\u001b[39mname:\n\u001b[0;32m     72\u001b[0m     \u001b[38;5;28mprint\u001b[39m(\u001b[38;5;124m\"\u001b[39m\u001b[38;5;124mOpponent cannot choose the same team. Please select again.\u001b[39m\u001b[38;5;124m\"\u001b[39m)\n\u001b[1;32m---> 73\u001b[0m     comp_input \u001b[38;5;241m=\u001b[39m choice_team(\u001b[38;5;124m'\u001b[39m\u001b[38;5;124menemy\u001b[39m\u001b[38;5;124m'\u001b[39m)\n\u001b[0;32m     75\u001b[0m score_boards \u001b[38;5;241m=\u001b[39m [\u001b[38;5;124m'\u001b[39m\u001b[38;5;124m________|\u001b[39m\u001b[38;5;124m'\u001b[39m, \u001b[38;5;124m'\u001b[39m\u001b[38;5;124mYou     |\u001b[39m\u001b[38;5;124m'\u001b[39m, \u001b[38;5;124m'\u001b[39m\u001b[38;5;124mOpponent|\u001b[39m\u001b[38;5;124m'\u001b[39m]\n\u001b[0;32m     77\u001b[0m \u001b[38;5;28;01mfor\u001b[39;00m i \u001b[38;5;129;01min\u001b[39;00m \u001b[38;5;28mrange\u001b[39m(\u001b[38;5;241m9\u001b[39m):\n",
      "Cell \u001b[1;32mIn[39], line 44\u001b[0m, in \u001b[0;36mchoice_team\u001b[1;34m(player)\u001b[0m\n\u001b[0;32m     41\u001b[0m message \u001b[38;5;241m=\u001b[39m \u001b[38;5;124mf\u001b[39m\u001b[38;5;124m\"\u001b[39m\u001b[38;5;124mSelect \u001b[39m\u001b[38;5;132;01m{\u001b[39;00mplayer_name\u001b[38;5;132;01m}\u001b[39;00m\u001b[38;5;124m team (1-3): \u001b[39m\u001b[38;5;124m\"\u001b[39m\n\u001b[0;32m     43\u001b[0m \u001b[38;5;28;01mwhile\u001b[39;00m \u001b[38;5;28;01mTrue\u001b[39;00m:\n\u001b[1;32m---> 44\u001b[0m     choice_team_number \u001b[38;5;241m=\u001b[39m \u001b[38;5;28minput\u001b[39m(message)\n\u001b[0;32m     45\u001b[0m     \u001b[38;5;28;01mif\u001b[39;00m check_dealt(choice_team_number):\n\u001b[0;32m     46\u001b[0m         choice_team \u001b[38;5;241m=\u001b[39m \u001b[38;5;28mint\u001b[39m(choice_team_number)\n",
      "File \u001b[1;32m~\\Desktop\\sample_project\\week1\\env\\Lib\\site-packages\\ipykernel\\kernelbase.py:1262\u001b[0m, in \u001b[0;36mKernel.raw_input\u001b[1;34m(self, prompt)\u001b[0m\n\u001b[0;32m   1260\u001b[0m     msg \u001b[38;5;241m=\u001b[39m \u001b[38;5;124m\"\u001b[39m\u001b[38;5;124mraw_input was called, but this frontend does not support input requests.\u001b[39m\u001b[38;5;124m\"\u001b[39m\n\u001b[0;32m   1261\u001b[0m     \u001b[38;5;28;01mraise\u001b[39;00m StdinNotImplementedError(msg)\n\u001b[1;32m-> 1262\u001b[0m \u001b[38;5;28;01mreturn\u001b[39;00m \u001b[38;5;28mself\u001b[39m\u001b[38;5;241m.\u001b[39m_input_request(\n\u001b[0;32m   1263\u001b[0m     \u001b[38;5;28mstr\u001b[39m(prompt),\n\u001b[0;32m   1264\u001b[0m     \u001b[38;5;28mself\u001b[39m\u001b[38;5;241m.\u001b[39m_parent_ident[\u001b[38;5;124m\"\u001b[39m\u001b[38;5;124mshell\u001b[39m\u001b[38;5;124m\"\u001b[39m],\n\u001b[0;32m   1265\u001b[0m     \u001b[38;5;28mself\u001b[39m\u001b[38;5;241m.\u001b[39mget_parent(\u001b[38;5;124m\"\u001b[39m\u001b[38;5;124mshell\u001b[39m\u001b[38;5;124m\"\u001b[39m),\n\u001b[0;32m   1266\u001b[0m     password\u001b[38;5;241m=\u001b[39m\u001b[38;5;28;01mFalse\u001b[39;00m,\n\u001b[0;32m   1267\u001b[0m )\n",
      "File \u001b[1;32m~\\Desktop\\sample_project\\week1\\env\\Lib\\site-packages\\ipykernel\\kernelbase.py:1305\u001b[0m, in \u001b[0;36mKernel._input_request\u001b[1;34m(self, prompt, ident, parent, password)\u001b[0m\n\u001b[0;32m   1302\u001b[0m \u001b[38;5;28;01mexcept\u001b[39;00m \u001b[38;5;167;01mKeyboardInterrupt\u001b[39;00m:\n\u001b[0;32m   1303\u001b[0m     \u001b[38;5;66;03m# re-raise KeyboardInterrupt, to truncate traceback\u001b[39;00m\n\u001b[0;32m   1304\u001b[0m     msg \u001b[38;5;241m=\u001b[39m \u001b[38;5;124m\"\u001b[39m\u001b[38;5;124mInterrupted by user\u001b[39m\u001b[38;5;124m\"\u001b[39m\n\u001b[1;32m-> 1305\u001b[0m     \u001b[38;5;28;01mraise\u001b[39;00m \u001b[38;5;167;01mKeyboardInterrupt\u001b[39;00m(msg) \u001b[38;5;28;01mfrom\u001b[39;00m \u001b[38;5;28;01mNone\u001b[39;00m\n\u001b[0;32m   1306\u001b[0m \u001b[38;5;28;01mexcept\u001b[39;00m \u001b[38;5;167;01mException\u001b[39;00m:\n\u001b[0;32m   1307\u001b[0m     \u001b[38;5;28mself\u001b[39m\u001b[38;5;241m.\u001b[39mlog\u001b[38;5;241m.\u001b[39mwarning(\u001b[38;5;124m\"\u001b[39m\u001b[38;5;124mInvalid Message:\u001b[39m\u001b[38;5;124m\"\u001b[39m, exc_info\u001b[38;5;241m=\u001b[39m\u001b[38;5;28;01mTrue\u001b[39;00m)\n",
      "\u001b[1;31mKeyboardInterrupt\u001b[0m: Interrupted by user"
     ]
    }
   ],
   "source": []
  },
  {
   "cell_type": "code",
   "execution_count": null,
   "id": "3b2516a9-e6f1-49f2-bfd2-343a90e6a683",
   "metadata": {},
   "outputs": [],
   "source": []
  }
 ],
 "metadata": {
  "kernelspec": {
   "display_name": "Python 3 (ipykernel)",
   "language": "python",
   "name": "python3"
  },
  "language_info": {
   "codemirror_mode": {
    "name": "ipython",
    "version": 3
   },
   "file_extension": ".py",
   "mimetype": "text/x-python",
   "name": "python",
   "nbconvert_exporter": "python",
   "pygments_lexer": "ipython3",
   "version": "3.12.4"
  }
 },
 "nbformat": 4,
 "nbformat_minor": 5
}
