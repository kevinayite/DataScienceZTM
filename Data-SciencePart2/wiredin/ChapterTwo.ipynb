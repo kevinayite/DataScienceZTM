{
 "cells": [
  {
   "cell_type": "code",
   "execution_count": 10,
   "id": "d3a3aec7-9561-4007-b6f6-64ee9e010db2",
   "metadata": {},
   "outputs": [
    {
     "name": "stdout",
     "output_type": "stream",
     "text": [
      "Input cell number (e.g. A1) of different character.\n",
      "Level: 1\n"
     ]
    },
    {
     "name": "stdin",
     "output_type": "stream",
     "text": [
      "(e.g., A1) A2\n"
     ]
    },
    {
     "name": "stdout",
     "output_type": "stream",
     "text": [
      "Debug: choice = A2\n"
     ]
    }
   ],
   "source": [
    "import random\n",
    "level = int(1)\n",
    "print('Input cell number (e.g. A1) of different character.')\n",
    "\n",
    "print('Level: ' + str(level))\n",
    "\n",
    "choice = input('(e.g., A1)')\n",
    "print('Debug: choice = ' + str(choice))\n"
   ]
  },
  {
   "cell_type": "code",
   "execution_count": 11,
   "id": "0d224eb6-9088-4913-bb36-c3b65bef76a7",
   "metadata": {},
   "outputs": [
    {
     "name": "stdout",
     "output_type": "stream",
     "text": [
      "Please enter the number of the different kanji (e.g., A1)\n",
      "Level: 1\n"
     ]
    },
    {
     "name": "stdin",
     "output_type": "stream",
     "text": [
      "(e.g., A1) A3\n"
     ]
    },
    {
     "name": "stdout",
     "output_type": "stream",
     "text": [
      "Debug: choice = A3\n"
     ]
    }
   ],
   "source": [
    "import random\n",
    "\n",
    "# level = 1\n",
    "\n",
    "# print('Please enter the number of the different kanji (e.g., A1)')\n",
    "\n",
    "# print('Level: ' + str(level))\n",
    "\n",
    "# choice = input('(e.g., A1)')\n",
    "# print('Debug: choice = ' + choice)\n",
    "\n",
    "\n",
    "\n",
    "\n",
    "\n",
    "\n",
    "def start_message():\n",
    "    level = 1\n",
    "    print('Please enter the number of the different kanji (e.g., A1)')\n",
    "    print('Level: ' + str(level))\n",
    "\n",
    "\n",
    "def  section_message():\n",
    "    choice = input('(e.g., A1)')\n",
    "    print('Debug: choice = ' + choice)\n",
    "\n",
    "def play():\n",
    "    start_message()\n",
    "    section_message()\n",
    "\n",
    "play()\n",
    "    \n",
    "    \n",
    "    "
   ]
  },
  {
   "cell_type": "code",
   "execution_count": 19,
   "id": "41f546b2-b118-4f01-85c3-5b4a17ed1543",
   "metadata": {},
   "outputs": [
    {
     "name": "stdout",
     "output_type": "stream",
     "text": [
      "Please enter the number of the different kanji (e.g., A1)\n",
      "Level: 1\n",
      "['O', '0']\n"
     ]
    },
    {
     "name": "stdin",
     "output_type": "stream",
     "text": [
      "(e.g., A1) A2\n"
     ]
    },
    {
     "name": "stdout",
     "output_type": "stream",
     "text": [
      "Debug: choice = A2\n"
     ]
    }
   ],
   "source": [
    "import random\n",
    "\n",
    "level = 1\n",
    "data = [['O', '0'], ['l', '1'], ['u', 'v']]\n",
    "\n",
    "def start_message():\n",
    "    print('Please enter the number of the different kanji (e.g., A1)')\n",
    "\n",
    "def section_message():\n",
    "    print('Level: ' + str(level))\n",
    "\n",
    "def view_question():\n",
    "    input = random.randint(0, 2)\n",
    "    array = data[input]\n",
    "    return array\n",
    "\n",
    "\n",
    "def play():\n",
    "    start_message()\n",
    "    section_message()\n",
    "    array = view_question()\n",
    "    print(array)\n",
    "    choice = input('(e.g., A1)')\n",
    "    print('Debug: choice = ' + choice)\n",
    "\n",
    "\n",
    "play()\n"
   ]
  },
  {
   "cell_type": "code",
   "execution_count": 39,
   "id": "eba12f06-278b-43d7-b927-61434d738031",
   "metadata": {},
   "outputs": [
    {
     "name": "stdout",
     "output_type": "stream",
     "text": [
      "Please enter the number of the different kanji (e.g., A1)\n",
      "Level: 1\n",
      "['u', 'v']\n",
      "uuu\n",
      "uuu\n",
      "uuu\n"
     ]
    },
    {
     "name": "stdin",
     "output_type": "stream",
     "text": [
      "(e.g., A1) A2\n"
     ]
    },
    {
     "name": "stdout",
     "output_type": "stream",
     "text": [
      "Debug: choice = A2\n"
     ]
    }
   ],
   "source": [
    "import random\n",
    "\n",
    "\n",
    "data = [['O', '0'], ['l', '1'], ['u', 'v']]\n",
    "level = 1\n",
    "\n",
    "def start_message():\n",
    "    print('Please enter the number of the different kanji (e.g., A1)')\n",
    "\n",
    "def section_message():\n",
    "    print('Level: ' + str(level))\n",
    "\n",
    "def view_question():\n",
    "    choice_data = random.randint(0, 2)\n",
    "    question = data[choice_data]\n",
    "    print(question)\n",
    "    pattern = question[0]\n",
    "    rows = 3\n",
    "    cols = 3\n",
    "    i = 0\n",
    "    while i < rows:\n",
    "        j = 0\n",
    "        while j < cols:\n",
    "            print(str(pattern) , end=\"\")  \n",
    "            j += 1       \n",
    "        print() \n",
    "        i += 1   \n",
    "    return\n",
    "    \n",
    "    # print('Question:', question)\n",
    "\n",
    "def play():\n",
    "    section_message()\n",
    "    view_question()\n",
    "    choice = input('(e.g., A1)')\n",
    "    print('Debug: choice = ' + choice)\n",
    "\n",
    "start_message()\n",
    "play()\n"
   ]
  },
  {
   "cell_type": "code",
   "execution_count": 41,
   "id": "ce148a94-7cc6-4847-9545-95cdc04845aa",
   "metadata": {},
   "outputs": [
    {
     "name": "stdout",
     "output_type": "stream",
     "text": [
      "Please enter the number of the different kanji (e.g., A1)\n",
      "Level: 1\n",
      "['O', '0']\n",
      "OOO\n",
      "OOO\n",
      "OOO\n"
     ]
    },
    {
     "name": "stdin",
     "output_type": "stream",
     "text": [
      "(e.g., A1) A3\n"
     ]
    },
    {
     "name": "stdout",
     "output_type": "stream",
     "text": [
      "Debug: choice = A3\n"
     ]
    }
   ],
   "source": [
    "import random\n",
    "\n",
    "data = [['O', '0'], ['l', '1'], ['u', 'v']]\n",
    "level = 1\n",
    "\n",
    "def start_message():\n",
    "  print('Please enter the number of the different kanji (e.g., A1)')\n",
    "\n",
    "def section_message():\n",
    "  print('Level: ' + str(level))\n",
    "\n",
    "def view_question():\n",
    "  choice_data = random.randint(0, 2)\n",
    "  question = data[choice_data]\n",
    "  print(question)\n",
    "  i = 0\n",
    "  j = 0\n",
    "  while i < 3:\n",
    "    question_str = ''\n",
    "    while j < 3:\n",
    "      question_str += question[0]\n",
    "      j += 1\n",
    "    print(question_str)\n",
    "    i += 1\n",
    "    j = 0\n",
    "\n",
    "def play():\n",
    "  section_message()\n",
    "  view_question()\n",
    "  choice = input('(e.g., A1)')\n",
    "  print('Debug: choice = ' + choice)\n",
    "\n",
    "start_message()\n",
    "play()"
   ]
  },
  {
   "cell_type": "code",
   "execution_count": 42,
   "id": "136e1dc6-6490-4378-b028-e870647c0d85",
   "metadata": {},
   "outputs": [
    {
     "name": "stdout",
     "output_type": "stream",
     "text": [
      "Input cell number (e.g. A1) of different character.\n",
      "Level: 1\n",
      "['u', 'v']\n",
      "uuu\n",
      "uuu\n",
      "uuu\n"
     ]
    },
    {
     "name": "stdin",
     "output_type": "stream",
     "text": [
      "(e.g., A1) 1\n"
     ]
    },
    {
     "name": "stdout",
     "output_type": "stream",
     "text": [
      "Debug: mistake_number = 1\n"
     ]
    }
   ],
   "source": [
    "import random\n",
    "\n",
    "data = [['O', '0'], ['l', '1'], ['u', 'v']]\n",
    "level = 1\n",
    "\n",
    "def start_message():\n",
    "  print('Input cell number (e.g. A1) of different character.')\n",
    "\n",
    "def section_message():\n",
    "  print('Level: ' + str(level))\n",
    "\n",
    "def view_question():\n",
    "  choice_data = random.randint(0, 2)\n",
    "  question = data[choice_data]\n",
    "  print(question)\n",
    "  i = 0\n",
    "  j = 0\n",
    "  while i < 3:\n",
    "    question_str = ''\n",
    "    while j < 3:\n",
    "      question_str += question[0]\n",
    "      j += 1\n",
    "    print(question_str)\n",
    "    i += 1\n",
    "    j = 0\n",
    "\n",
    "def play():\n",
    "  section_message()\n",
    "  view_question()\n",
    "  choice = input('(e.g., A1)')\n",
    "  print('Debug: mistake_number = ' + choice)\n",
    "\n",
    "start_message()\n",
    "play()"
   ]
  },
  {
   "cell_type": "code",
   "execution_count": 6,
   "id": "654611d6-222d-4594-85cd-e068c0369187",
   "metadata": {},
   "outputs": [
    {
     "name": "stdout",
     "output_type": "stream",
     "text": [
      "Input cell number (e.g. A1) of different character.\n",
      "Level: 1\n",
      "Debug:mistake_number = 7\n",
      "['l', '1']\n",
      "lll\n",
      "lll\n",
      "l1l\n"
     ]
    },
    {
     "name": "stdin",
     "output_type": "stream",
     "text": [
      "(E.g. A1) A1 A3\n"
     ]
    },
    {
     "name": "stdout",
     "output_type": "stream",
     "text": [
      "Debug: choice = A3\n"
     ]
    }
   ],
   "source": [
    "import random\n",
    "\n",
    "data = [['O', '0'], ['l', '1'], ['u', 'v']]\n",
    "level = 1\n",
    "\n",
    "def start_message():\n",
    "  print('Input cell number (e.g. A1) of different character.')\n",
    "\n",
    "def section_message():\n",
    "  print('Level: ' + str(level))\n",
    "\n",
    "def view_question():\n",
    "  choice_data = random.randint(0, 2)\n",
    "  # mistake_number = 5\n",
    "  mistake_number = random.randint(0, 8)\n",
    "    \n",
    "  print('Debug:mistake_number = ' + str(mistake_number))\n",
    "  question = data[choice_data]\n",
    "  print(question)\n",
    "  i = 0\n",
    "  j = 0\n",
    "  while i < 3:\n",
    "    question_str = ''\n",
    "    while j < 3:\n",
    "      if (i * 3 + j) == mistake_number:\n",
    "        question_str += question[1]\n",
    "      else:\n",
    "        question_str += question[0]\n",
    "      j += 1\n",
    "    print(question_str)\n",
    "    i += 1\n",
    "    j = 0\n",
    "\n",
    "def play():\n",
    "  section_message()\n",
    "  view_question()\n",
    "  choice = input('(E.g. A1) A1')\n",
    "  print('Debug: choice = ' + choice)\n",
    "\n",
    "start_message()\n",
    "play()"
   ]
  },
  {
   "cell_type": "code",
   "execution_count": 14,
   "id": "65e7a52c-182a-4dc2-b5eb-4f87a0c6591b",
   "metadata": {},
   "outputs": [
    {
     "name": "stdout",
     "output_type": "stream",
     "text": [
      "Input cell number (e.g. A1) of different character.\n",
      "Level: 1\n",
      "Debug:mistake_number = 5\n",
      "/lABC\n",
      "----------\n",
      "['O', '0']\n",
      "1OOOO\n",
      "2OO0O\n",
      "3OOOO\n"
     ]
    },
    {
     "name": "stdin",
     "output_type": "stream",
     "text": [
      "(E.g. A1) A1 G\n"
     ]
    },
    {
     "name": "stdout",
     "output_type": "stream",
     "text": [
      "Debug: choice = G\n"
     ]
    }
   ],
   "source": [
    "import random\n",
    "\n",
    "data = [['O', '0'], ['l', '1'], ['u', 'v']]\n",
    "level = 1\n",
    "\n",
    "def start_message():\n",
    "  print('Input cell number (e.g. A1) of different character.')\n",
    "\n",
    "def section_message():\n",
    "  print('Level: ' + str(level))\n",
    "\n",
    "def view_question():\n",
    "  choice_data = random.randint(0, 2)\n",
    "  # mistake_number = 5\n",
    "  mistake_number = random.randint(0, 8)\n",
    "    \n",
    "  print('Debug:mistake_number = ' + str(mistake_number))\n",
    "  auxiliary = '/lABC'\n",
    "  dash = '----------'\n",
    "  print(str(auxiliary) + '\\n' + str(dash))\n",
    "  question = data[choice_data]\n",
    "  print(question)\n",
    "  i = 0\n",
    "  j = 0\n",
    "  index = 1\n",
    "  while i < 3:\n",
    "    question_str = str(index)\n",
    "    while j < 4:\n",
    "      if (i * 3 + j) == mistake_number:\n",
    "        question_str += question[1]\n",
    "      else:\n",
    "        question_str += question[0]\n",
    "      j += 1\n",
    "    index += 1\n",
    "    print(question_str)\n",
    "    i += 1\n",
    "    j = 0\n",
    "\n",
    "def play():\n",
    "  section_message()\n",
    "  view_question()\n",
    "  choice = input('(E.g. A1) A1')\n",
    "  print('Debug: choice = ' + choice)\n",
    "\n",
    "start_message()\n",
    "play()"
   ]
  },
  {
   "cell_type": "code",
   "execution_count": 6,
   "id": "5e5b33fb-0ea1-48bf-9a2a-f15f40ab2911",
   "metadata": {},
   "outputs": [
    {
     "name": "stdout",
     "output_type": "stream",
     "text": [
      "Input cell number (e.g. A1) of different character.\n",
      "Level: 1\n",
      "Debug:mistake_number = 2\n",
      "['l', '1']\n",
      "／｜A B C\n",
      "ーーーーー\n",
      "1｜ll1\n",
      "2｜lll\n",
      "3｜lll\n"
     ]
    },
    {
     "ename": "UnboundLocalError",
     "evalue": "cannot access local variable 'choice' where it is not associated with a value",
     "output_type": "error",
     "traceback": [
      "\u001b[1;31m---------------------------------------------------------------------------\u001b[0m",
      "\u001b[1;31mUnboundLocalError\u001b[0m                         Traceback (most recent call last)",
      "Cell \u001b[1;32mIn[6], line 54\u001b[0m\n\u001b[0;32m     50\u001b[0m   \u001b[38;5;28mprint\u001b[39m(\u001b[38;5;124m'\u001b[39m\u001b[38;5;124mDebug: choice = \u001b[39m\u001b[38;5;124m'\u001b[39m \u001b[38;5;241m+\u001b[39m choice)\n\u001b[0;32m     53\u001b[0m start_message()\n\u001b[1;32m---> 54\u001b[0m play()\n",
      "Cell \u001b[1;32mIn[6], line 46\u001b[0m, in \u001b[0;36mplay\u001b[1;34m()\u001b[0m\n\u001b[0;32m     43\u001b[0m section_message()\n\u001b[0;32m     44\u001b[0m view_question()\n\u001b[1;32m---> 46\u001b[0m \u001b[38;5;28mprint\u001b[39m(\u001b[38;5;124m'\u001b[39m\u001b[38;5;124mデバッグ:choice = \u001b[39m\u001b[38;5;124m'\u001b[39m \u001b[38;5;241m+\u001b[39m choice)\n\u001b[0;32m     47\u001b[0m input_number \u001b[38;5;241m=\u001b[39m change_input_number(choice)\n\u001b[0;32m     48\u001b[0m \u001b[38;5;28mprint\u001b[39m(\u001b[38;5;124m'\u001b[39m\u001b[38;5;124mデバッグ:input_number = \u001b[39m\u001b[38;5;124m'\u001b[39m \u001b[38;5;241m+\u001b[39m \u001b[38;5;28mstr\u001b[39m(input_number))\n",
      "\u001b[1;31mUnboundLocalError\u001b[0m: cannot access local variable 'choice' where it is not associated with a value"
     ]
    }
   ],
   "source": [
    "import random\n",
    "\n",
    "data = [['O', '0'], ['l', '1'], ['u', 'v']]\n",
    "level = 1\n",
    "\n",
    "def start_message():\n",
    "  print('Input cell number (e.g. A1) of different character.')\n",
    "\n",
    "def section_message():\n",
    "  print('Level: ' + str(level))\n",
    "\n",
    "def view_question():\n",
    "  choice_data = random.randint(0, 2)\n",
    "  mistake_number = random.randint(0, 8)\n",
    "  print('Debug:mistake_number = ' + str(mistake_number))\n",
    "  question = data[choice_data]\n",
    "  print(question)\n",
    "  i = 0\n",
    "  j = 0\n",
    "  print('／｜A B C')\n",
    "  print('ーーーーー')\n",
    "  while i < 3:\n",
    "    question_str = str(i + 1) + '｜'\n",
    "    while j < 3:\n",
    "      if (i * 3 + j) == mistake_number:\n",
    "        question_str += question[1]\n",
    "      else:\n",
    "        question_str += question[0]\n",
    "      j += 1\n",
    "    print(question_str)\n",
    "    i += 1\n",
    "    j = 0\n",
    "\n",
    "def change_input_number(input_str):\n",
    "  str_data = { 'A':0, 'B':1, 'C':2 }\n",
    "  input_str_split = list(input_str)\n",
    "  col_number = str_data[input_str_split[0]]\n",
    "  row_number = int(input_str_split[1]) - 1\n",
    "  input_number = row_number * 3 + col_number\n",
    "  return input_number\n",
    "\n",
    "def play():\n",
    "  section_message()\n",
    "  view_question()\n",
    "  \n",
    "  print('デバッグ:choice = ' + choice)\n",
    "  input_number = change_input_number(choice)\n",
    "  print('デバッグ:input_number = ' + str(input_number))\n",
    "  choice = input('(E.g. A1) A1')\n",
    "  print('Debug: choice = ' + choice)\n",
    "\n",
    "\n",
    "start_message()\n",
    "play()"
   ]
  },
  {
   "cell_type": "code",
   "execution_count": 11,
   "id": "6f76b198-fdc1-43b0-8f24-da1b23efa8a5",
   "metadata": {},
   "outputs": [
    {
     "name": "stdout",
     "output_type": "stream",
     "text": [
      "Please enter the number of the different kanji (e.g., A1)\n",
      "Level: 1\n",
      "Debug: mistake_number = 3\n",
      "['O', '0']\n",
      "／｜A B C\n",
      "ーーーーー\n",
      "1｜OOO\n",
      "2｜0OO\n",
      "3｜OOO\n"
     ]
    },
    {
     "name": "stdin",
     "output_type": "stream",
     "text": [
      "(e.g., A1) B2\n"
     ]
    },
    {
     "name": "stdout",
     "output_type": "stream",
     "text": [
      "Debug: choice = B2\n",
      "Debug: input_number = 4\n"
     ]
    }
   ],
   "source": [
    "import random\n",
    "\n",
    "data = [['O', '0'], ['l', '1'], ['u', 'v']]\n",
    "level = 1\n",
    "\n",
    "def start_message():\n",
    "    print('Please enter the number of the different kanji (e.g., A1)')\n",
    "\n",
    "def section_message():\n",
    "    print('Level: ' + str(level))\n",
    "\n",
    "def view_question():\n",
    "    choice_data = random.randint(0, 2)\n",
    "    mistake_number = random.randint(0, 8)\n",
    "    print('Debug: mistake_number = ' + str(mistake_number))\n",
    "    question = data[choice_data]\n",
    "    print(question)\n",
    "    i = 0\n",
    "    j = 0\n",
    "    print('／｜A B C')\n",
    "    print('ーーーーー')\n",
    "    while i < 3:\n",
    "        question_str = str(i + 1) + '｜'\n",
    "        while j < 3:\n",
    "            if (i * 3 + j) == mistake_number:\n",
    "                question_str += question[1]\n",
    "            else:\n",
    "                question_str += question[0]\n",
    "            j += 1\n",
    "        print(question_str)\n",
    "        i += 1\n",
    "        j = 0\n",
    "\n",
    "def change_input_number(input_str):\n",
    "    str_data = { 'A':0, 'B':1, 'C':2 }\n",
    "    input_str_split = list(input_str)  #input_str_split: Converts the input string into a list of characters. For example, if input_str is \"A1\", then input_str_split will be ['A', '1'].\n",
    "    col_number = str_data[input_str_split[0]]   #input_str_split[0]: Extracts the column letter from the input string. For \"A1\", this will be 'A'. str_data[input_str_split[0]]: Uses the column letter to get its numerical index from the str_data dictionary. For 'A', it returns 0.\n",
    "    row_number = int(input_str_split[1]) - 1\n",
    "#     input_str_split[1]: Extracts the row number from the input string. For \"A1\", this will be '1'.\n",
    "# int(input_str_split[1]): Converts this character to an integer. For '1', it becomes 1.\n",
    "# int(input_str_split[1]) - 1: Adjusts the row number to be zero-based (i.e., it converts 1 to 0, 2 to 1, and 3 to 2).\n",
    "    \n",
    "    input_number = row_number * 3 + col_number\n",
    "    return input_number\n",
    "\n",
    "def play():\n",
    "    section_message()\n",
    "    view_question()\n",
    "    choice = input('(e.g., A1)')\n",
    "    print('Debug: choice = ' + choice)\n",
    "    input_number = change_input_number(choice)\n",
    "    print('Debug: input_number = ' + str(input_number))\n",
    "\n",
    "start_message()\n",
    "play()\n"
   ]
  },
  {
   "cell_type": "code",
   "execution_count": 25,
   "id": "cb78e4d5-32f1-46d9-9929-4f29c72ad19e",
   "metadata": {},
   "outputs": [
    {
     "name": "stdout",
     "output_type": "stream",
     "text": [
      "Please enter the number of the different kanji (e.g., A1)\n",
      "Level: 1\n",
      "Debug: mistake_number = 4\n",
      "['u', 'v']\n",
      "／｜A B C\n",
      "ーーーーー\n",
      "1｜uuu\n",
      "2｜uvu\n",
      "3｜uuu\n",
      "4\n"
     ]
    },
    {
     "name": "stdin",
     "output_type": "stream",
     "text": [
      "(e.g., A1) B2\n"
     ]
    },
    {
     "name": "stdout",
     "output_type": "stream",
     "text": [
      "Debug: choice = B2\n",
      "Debug: input_number = 4\n",
      "Correct!\n"
     ]
    }
   ],
   "source": [
    "import random\n",
    "\n",
    "data = [['O', '0'], ['l', '1'], ['u', 'v']]\n",
    "level = 1\n",
    "\n",
    "def start_message():\n",
    "    print('Please enter the number of the different kanji (e.g., A1)')\n",
    "\n",
    "def section_message():\n",
    "    print('Level: ' + str(level))\n",
    "\n",
    "def view_question():\n",
    "    choice_data = random.randint(0, 2)\n",
    "    mistake_number = random.randint(0, 8)\n",
    "    print('Debug: mistake_number = ' + str(mistake_number))\n",
    "    question = data[choice_data]\n",
    "    print(question)\n",
    "    i = 0\n",
    "    j = 0\n",
    "    print('／｜A B C')\n",
    "    print('ーーーーー')\n",
    "    while i < 3:\n",
    "        question_str = str(i + 1) + '｜'\n",
    "        while j < 3:\n",
    "            if (i * 3 + j) == mistake_number:\n",
    "                question_str += question[1]\n",
    "            else:\n",
    "                question_str += question[0]\n",
    "            j += 1\n",
    "        print(question_str)\n",
    "        i += 1\n",
    "        j = 0\n",
    "    return mistake_number    \n",
    "\n",
    "\n",
    "def  is_correct_number(mistake_number,\tinput_number):\n",
    "    if mistake_number == input_number:\n",
    "        print('Correct!')\n",
    "    else:\n",
    "        print('false')\n",
    "    \n",
    "\n",
    "def change_input_number(input_str):\n",
    "    str_data = { 'A':0, 'B':1, 'C':2 }\n",
    "    input_str_split = list(input_str)  #input_str_split: Converts the input string into a list of characters. For example, if input_str is \"A1\", then input_str_split will be ['A', '1'].\n",
    "    col_number = str_data[input_str_split[0]]   #input_str_split[0]: Extracts the column letter from the input string. For \"A1\", this will be 'A'. str_data[input_str_split[0]]: Uses the column letter to get its numerical index from the str_data dictionary. For 'A', it returns 0.\n",
    "    row_number = int(input_str_split[1]) - 1\n",
    "#     input_str_split[1]: Extracts the row number from the input string. For \"A1\", this will be '1'.\n",
    "# int(input_str_split[1]): Converts this character to an integer. For '1', it becomes 1.\n",
    "# int(input_str_split[1]) - 1: Adjusts the row number to be zero-based (i.e., it converts 1 to 0, 2 to 1, and 3 to 2).\n",
    "    \n",
    "    input_number = row_number * 3 + col_number\n",
    "    return input_number\n",
    "\n",
    "def play():\n",
    "    section_message()\n",
    "    mistake_number = view_question()\n",
    "    print(str(mistake_number))\n",
    "    choice = input('(e.g., A1)')\n",
    "    print('Debug: choice = ' + choice)\n",
    "    input_number = change_input_number(choice)\n",
    "    print('Debug: input_number = ' + str(input_number))\n",
    "    is_correct_number(mistake_number, input_number)\n",
    "\n",
    "start_message()\n",
    "play()\n"
   ]
  },
  {
   "cell_type": "code",
   "execution_count": 30,
   "id": "7d7387df-a431-4c5f-ab80-096359b05071",
   "metadata": {},
   "outputs": [
    {
     "name": "stdout",
     "output_type": "stream",
     "text": [
      "Please enter the number of the different kanji (e.g., A1)\n",
      "Level: 1\n",
      "Debug: mistake_number = 6\n",
      "['O', '0']\n",
      "／｜A B C\n",
      "ーーーーー\n",
      "1｜OOO\n",
      "2｜OOO\n",
      "3｜0OO\n"
     ]
    },
    {
     "name": "stdin",
     "output_type": "stream",
     "text": [
      "(e.g., A1) A3\n"
     ]
    },
    {
     "name": "stdout",
     "output_type": "stream",
     "text": [
      "Debug: choice = A3\n",
      "Debug: input_number = 6\n",
      "Correct!\n",
      "Correct answer is A3\n"
     ]
    }
   ],
   "source": [
    "import random\n",
    "import math\n",
    "\n",
    "data = [['O', '0'], ['l', '1'], ['u', 'v']]\n",
    "level = 1\n",
    "\n",
    "def start_message():\n",
    "    print('Please enter the number of the different kanji (e.g., A1)')\n",
    "\n",
    "def section_message():\n",
    "    print('Level: ' + str(level))\n",
    "\n",
    "def view_question():\n",
    "    choice_data = random.randint(0, 2)\n",
    "    mistake_number = random.randint(0, 8)\n",
    "    print('Debug: mistake_number = ' + str(mistake_number))\n",
    "    question = data[choice_data]\n",
    "    print(question)\n",
    "    i = 0\n",
    "    j = 0\n",
    "    print('／｜A B C')\n",
    "    print('ーーーーー')\n",
    "    while i < 3:\n",
    "        question_str = str(i + 1) + '｜'\n",
    "        while j < 3:\n",
    "            if (i * 3 + j) == mistake_number:\n",
    "                question_str += question[1]\n",
    "            else:\n",
    "                question_str += question[0]\n",
    "            j += 1\n",
    "        print(question_str)\n",
    "        i += 1\n",
    "        j = 0\n",
    "    return mistake_number\n",
    "\n",
    "def change_input_number(input_str):\n",
    "    str_data = { 'A':0, 'B':1, 'C':2 }\n",
    "    input_str_split = list(input_str)\n",
    "    col_number = str_data[input_str_split[0]]\n",
    "    row_number = int(input_str_split[1]) - 1\n",
    "    input_number = row_number * 3 + col_number\n",
    "    return input_number\n",
    "\n",
    "def is_correct_number(mistake_number, input_number):\n",
    "    if mistake_number == input_number:\n",
    "        return True\n",
    "    else:\n",
    "        return False\n",
    "\n",
    "\n",
    "def change_string(number):\n",
    "    columns = ['A', 'B', 'C']\n",
    "    \n",
    "    # Calculate the column and row numbers from the index\n",
    "    col_number = number % 3\n",
    "    row_number = math.floor(number / 3) + 1      #row_number: This is calculated by integer division of index by 3, plus 1 to adjust from zero-based to one-based indexing\n",
    "    answer = columns[col_number] + str(row_number)\n",
    "    return answer\n",
    "\n",
    "def view_result(is_correct):\n",
    "    if is_correct:\n",
    "        print('Correct!')\n",
    "    else:\n",
    "        print('Wrong')\n",
    "\n",
    "def play():\n",
    "    section_message()\n",
    "    mistake_number = view_question()\n",
    "    choice = input('(e.g., A1)')\n",
    "    print('Debug: choice = ' + choice)\n",
    "    input_number = change_input_number(choice)\n",
    "    print('Debug: input_number = ' + str(input_number))\n",
    "    is_correct = is_correct_number(mistake_number, input_number)\n",
    "    view_result(is_correct)\n",
    "    number = mistake_number\n",
    "    answer = change_string(number)\n",
    "    print('Correct answer is '+ str(answer))\n",
    "\n",
    "start_message()\n",
    "play()\n"
   ]
  },
  {
   "cell_type": "code",
   "execution_count": 32,
   "id": "ea92aa8e-7206-40e5-83dc-153174be8e2d",
   "metadata": {},
   "outputs": [
    {
     "name": "stdout",
     "output_type": "stream",
     "text": [
      "Please enter the number of the different kanji (e.g., A1)\n",
      "Level: 1\n",
      "Debug: mistake_number = 19\n",
      "['l', '1']\n",
      "／｜A B C\n",
      "ーーーーー\n",
      "1｜lllll\n",
      "2｜lllll\n",
      "3｜lllll\n",
      "4｜lllll\n"
     ]
    },
    {
     "name": "stdin",
     "output_type": "stream",
     "text": [
      "(e.g., A1) B6\n"
     ]
    },
    {
     "name": "stdout",
     "output_type": "stream",
     "text": [
      "Debug: choice = B6\n",
      "Debug: input_number = 16\n",
      "Incorrect\n",
      "The correct answer is B7\n"
     ]
    }
   ],
   "source": [
    "import random\n",
    "import math\n",
    "\n",
    "data = [['O', '0'], ['l', '1'], ['u', 'v']]\n",
    "level = 1\n",
    "\n",
    "def start_message():\n",
    "    print('Please enter the number of the different kanji (e.g., A1)')\n",
    "\n",
    "def section_message():\n",
    "    print('Level: ' + str(level))\n",
    "\n",
    "def view_question():\n",
    "    choice_data = random.randint(0, 2)\n",
    "    mistake_number = random.randint(0, 19)\n",
    "    print('Debug: mistake_number = ' + str(mistake_number))\n",
    "    question = data[choice_data]\n",
    "    print(question)\n",
    "    i = 0\n",
    "    j = 0\n",
    "    print('／｜A B C')\n",
    "    print('ーーーーー')\n",
    "    while i < 4:\n",
    "        question_str = str(i + 1) + '｜'\n",
    "        while j < 5:\n",
    "            if (i * 3 + j) == mistake_number:\n",
    "                question_str += question[1]\n",
    "            else:\n",
    "                question_str += question[0]\n",
    "            j += 1\n",
    "        print(question_str)\n",
    "        i += 1\n",
    "        j = 0\n",
    "    return mistake_number\n",
    "\n",
    "def change_input_number(input_str):\n",
    "    str_data = { 'A':0, 'B':1, 'C':2 }\n",
    "    input_str_split = list(input_str)\n",
    "    col_number = str_data[input_str_split[0]]\n",
    "    row_number = int(input_str_split[1]) - 1\n",
    "    input_number = row_number * 3 + col_number\n",
    "    return input_number\n",
    "\n",
    "def is_correct_number(mistake_number, input_number):\n",
    "    return mistake_number == input_number\n",
    "\n",
    "def view_result(is_correct, mistake_number):\n",
    "    if is_correct:\n",
    "        print('Correct!')\n",
    "    else:\n",
    "        print('Incorrect')\n",
    "        print('The correct answer is ' + change_string(mistake_number))\n",
    "\n",
    "def change_string(number):\n",
    "    number_data = ['A', 'B', 'C']\n",
    "    col_number = number % 3\n",
    "    row_number = math.floor(number / 3) + 1\n",
    "    string = number_data[col_number] + str(row_number)\n",
    "    return string\n",
    "\n",
    "def play():\n",
    "    section_message()\n",
    "    mistake_number = view_question()\n",
    "    choice = input('(e.g., A1)')\n",
    "    print('Debug: choice = ' + choice)\n",
    "    input_number = change_input_number(choice)\n",
    "    print('Debug: input_number = ' + str(input_number))\n",
    "    is_correct = is_correct_number(mistake_number, input_number)\n",
    "    view_result(is_correct, mistake_number)\n",
    "\n",
    "start_message()\n",
    "play()\n"
   ]
  },
  {
   "cell_type": "code",
   "execution_count": 2,
   "id": "d30de62b-e9c4-427d-a91b-b6ca9a595c81",
   "metadata": {},
   "outputs": [
    {
     "name": "stdout",
     "output_type": "stream",
     "text": [
      "Please enter the number of the incorrect kanji (e.g., A1)\n",
      "Level: 1\n",
      "Debug: mistake_number = 2\n",
      "['O', '0']\n",
      "／｜A B C\n",
      "ーーー\n",
      "1｜OO0OO\n",
      "2｜OOOOO\n",
      "3｜OOOOO\n",
      "4｜OOOOO\n"
     ]
    },
    {
     "name": "stdin",
     "output_type": "stream",
     "text": [
      "(e.g., A1) A2\n"
     ]
    },
    {
     "name": "stdout",
     "output_type": "stream",
     "text": [
      "Debug: choice = A2\n",
      "Debug: input_number = 5\n",
      "Incorrect\n",
      "The correct answer is C1\n"
     ]
    }
   ],
   "source": [
    "import random\n",
    "import math\n",
    "\n",
    "data = [['O', '0'], ['l', '1'], ['u', 'v']]\n",
    "level = 1\n",
    "col = 5\n",
    "row = 4\n",
    "\n",
    "def start_message():\n",
    "    print('Please enter the number of the incorrect kanji (e.g., A1)')\n",
    "\n",
    "def section_message():\n",
    "    print('Level: ' + str(level))\n",
    "\n",
    "def view_question():\n",
    "    choice_data = random.randint(0, 2)\n",
    "    mistake_number = random.randint(0, (col * row) - 1)\n",
    "    print('Debug: mistake_number = ' + str(mistake_number))\n",
    "    question = data[choice_data]\n",
    "    print(question)\n",
    "    i = 0\n",
    "    j = 0\n",
    "    print('／｜A B C')\n",
    "    output = '   ーーー'\n",
    "    print('   ーーー')\n",
    "    while i < row:\n",
    "        question_str = str(i + 1) + '｜'\n",
    "        while j < col:\n",
    "            if (i * col + j) == mistake_number:\n",
    "                question_str += question[1]\n",
    "            else:\n",
    "                question_str += question[0]\n",
    "            j += 1\n",
    "        print(question_str)\n",
    "        i += 1\n",
    "        j = 0\n",
    "    return mistake_number\n",
    "\n",
    "def change_input_number(input_str):\n",
    "    str_data = { 'A':0, 'B':1, 'C':2, 'D':3, 'E':4, 'F':5, 'G':6, 'H':7, 'I':8 }\n",
    "    input_str_split = list(input_str)\n",
    "    col_number = str_data[input_str_split[0]]\n",
    "    row_number = int(input_str_split[1]) - 1\n",
    "    input_number = row_number * col + col_number\n",
    "    return input_number\n",
    "\n",
    "def is_correct_number(mistake_number, input_number):\n",
    "    if mistake_number == input_number:\n",
    "        return True\n",
    "    else:\n",
    "        return False\n",
    "\n",
    "def view_result(is_correct, mistake_number):\n",
    "    if is_correct:\n",
    "        print('Correct!')\n",
    "    else:\n",
    "        print('Incorrect')\n",
    "        print('The correct answer is ' + change_string(mistake_number))\n",
    "\n",
    "def change_string(number):\n",
    "    number_data = ['A', 'B', 'C', 'D', 'E', 'F', 'G', 'H', 'I']\n",
    "    col_number = number % col\n",
    "    row_number = math.floor(number / col) + 1\n",
    "    string = number_data[col_number] + str(row_number)\n",
    "    return string\n",
    "\n",
    "def play():\n",
    "    section_message()\n",
    "    mistake_number = view_question()\n",
    "    choice = input('(e.g., A1)')\n",
    "    print('Debug: choice = ' + choice)\n",
    "    input_number = change_input_number(choice)\n",
    "    print('Debug: input_number = ' + str(input_number))\n",
    "    is_correct = is_correct_number(mistake_number, input_number)\n",
    "    view_result(is_correct, mistake_number)\n",
    "\n",
    "start_message()\n",
    "play()\n"
   ]
  },
  {
   "cell_type": "code",
   "execution_count": 5,
   "id": "fc95715a-02d0-4380-acc4-91a2dc62d3e6",
   "metadata": {},
   "outputs": [
    {
     "name": "stdout",
     "output_type": "stream",
     "text": [
      "Please enter the number of the incorrect kanji (e.g., A1)\n",
      "Level: 1\n",
      "Debug: mistake_number = 9\n",
      "／｜A B C D E F G\n",
      "ーーーーーーーーー\n",
      "1｜土土土土土土土\n",
      "2｜土土士土土土土\n",
      "3｜土土土土土土土\n",
      "4｜土土土土土土土\n"
     ]
    },
    {
     "name": "stdin",
     "output_type": "stream",
     "text": [
      "(e.g., A1) A2\n"
     ]
    },
    {
     "name": "stdout",
     "output_type": "stream",
     "text": [
      "Debug: choice = A2\n",
      "Debug: input_number = 7\n",
      "Incorrect\n",
      "The correct answer is C2\n"
     ]
    }
   ],
   "source": [
    "import random\n",
    "import math\n",
    "\n",
    "data = [['見','貝'], ['土','士'], ['眠','眼']]\n",
    "number_data = ['A', 'B', 'C', 'D', 'E', 'F', 'G', 'H', 'I']\n",
    "level = 1\n",
    "col = 5\n",
    "row = 4\n",
    "\n",
    "def start_message():\n",
    "    print('Please enter the number of the incorrect kanji (e.g., A1)')\n",
    "\n",
    "def section_message():\n",
    "    print('Level: ' + str(level))\n",
    "\n",
    "def generate_headers_and_separator():\n",
    "    headers = '／｜' + ' '.join(number_data[:col])\n",
    "    separator = 'ーー' + 'ー' * col\n",
    "    return headers, separator\n",
    "\n",
    "def view_question():\n",
    "    choice_data = random.randint(0, 2)\n",
    "    mistake_number = random.randint(0, (col * row) - 1)\n",
    "    print('Debug: mistake_number = ' + str(mistake_number))\n",
    "    question = data[choice_data]\n",
    "    headers, separator = generate_headers_and_separator()\n",
    "    print(headers)\n",
    "    print(separator)\n",
    "    \n",
    "    for i in range(row):\n",
    "        question_str = str(i + 1) + '｜'\n",
    "        for j in range(col):\n",
    "            if (i * col + j) == mistake_number:\n",
    "                question_str += question[1]\n",
    "            else:\n",
    "                question_str += question[0]\n",
    "        print(question_str)\n",
    "    \n",
    "    return mistake_number\n",
    "\n",
    "def change_input_number(input_str):\n",
    "    str_data = { 'A':0, 'B':1, 'C':2, 'D':3, 'E':4, 'F':5, 'G':6, 'H':7, 'I':8 }\n",
    "    col_number = str_data[input_str[0]]\n",
    "    row_number = int(input_str[1]) - 1\n",
    "    input_number = row_number * col + col_number\n",
    "    return input_number\n",
    "\n",
    "def is_correct_number(mistake_number, input_number):\n",
    "    return mistake_number == input_number\n",
    "\n",
    "def view_result(is_correct, mistake_number):\n",
    "    if is_correct:\n",
    "        print('Correct!')\n",
    "    else:\n",
    "        print('Incorrect')\n",
    "        print('The correct answer is ' + change_string(mistake_number))\n",
    "\n",
    "def change_string(number):\n",
    "    col_number = number % col\n",
    "    row_number = math.floor(number / col) + 1\n",
    "    string = number_data[col_number] + str(row_number)\n",
    "    return string\n",
    "\n",
    "def play():\n",
    "    section_message()\n",
    "    mistake_number = view_question()\n",
    "    choice = input('(e.g., A1)')\n",
    "    print('Debug: choice = ' + choice)\n",
    "    input_number = change_input_number(choice)\n",
    "    print('Debug: input_number = ' + str(input_number))\n",
    "    is_correct = is_correct_number(mistake_number, input_number)\n",
    "    view_result(is_correct, mistake_number)\n",
    "\n",
    "start_message()\n",
    "play()\n"
   ]
  },
  {
   "cell_type": "code",
   "execution_count": 9,
   "id": "32473097-6a74-4351-ae32-078cdd6b4238",
   "metadata": {},
   "outputs": [
    {
     "name": "stdout",
     "output_type": "stream",
     "text": [
      "Please enter the number of the different kanji (e.g., A1)\n",
      "Level: 1\n",
      "Debug: mistake_number = 5\n",
      "['O', '0']\n",
      "／｜A B C D E \n",
      "ーーーーーーー\n",
      "1｜OOOOO\n",
      "2｜0OOOO\n",
      "3｜OOOOO\n",
      "4｜OOOOO\n"
     ]
    },
    {
     "name": "stdin",
     "output_type": "stream",
     "text": [
      "(e.g., A1) A3\n"
     ]
    },
    {
     "name": "stdout",
     "output_type": "stream",
     "text": [
      "Debug: choice = A3\n",
      "Debug: input_number = 10\n",
      "Incorrect\n",
      "The correct answer is A2\n"
     ]
    }
   ],
   "source": [
    "import random\n",
    "import math\n",
    "\n",
    "data = [['O', '0'], ['l', '1'], ['u', 'v']]\n",
    "number_data = ['A', 'B', 'C', 'D', 'E', 'F', 'G', 'H', 'I']\n",
    "level = 1\n",
    "col = 5\n",
    "row = 4\n",
    "\n",
    "def start_message():\n",
    "    print('Please enter the number of the different kanji (e.g., A1)')\n",
    "\n",
    "def section_message():\n",
    "    print('Level: ' + str(level))\n",
    "\n",
    "def view_question():\n",
    "    choice_data = random.randint(0, 2)\n",
    "    mistake_number = random.randint(0, (col * row) - 1)\n",
    "    print('Debug: mistake_number = ' + str(mistake_number))\n",
    "    question = data[choice_data]\n",
    "    print(question)\n",
    "    i = 0\n",
    "    j = 0\n",
    "    question_str1 = '／｜'\n",
    "    question_str2 = 'ーー'\n",
    "    while i < col:\n",
    "        question_str1 += number_data[i] + ' '\n",
    "        question_str2 += 'ー'\n",
    "        i += 1\n",
    "    print(question_str1)\n",
    "    print(question_str2)\n",
    "    i = 0\n",
    "    while i < row:\n",
    "        question_str = str(i + 1) + '｜'\n",
    "        while j < col:\n",
    "            if (i * col + j) == mistake_number:\n",
    "                question_str += question[1]\n",
    "            else:\n",
    "                question_str += question[0]\n",
    "            j += 1\n",
    "        print(question_str)\n",
    "        i += 1\n",
    "        j = 0\n",
    "    return mistake_number\n",
    "\n",
    "def change_input_number(input_str):\n",
    "    str_data = { 'A':0, 'B':1, 'C':2, 'D':3, 'E':4, 'F':5, 'G':6, 'H':7, 'I':8 }\n",
    "    input_str_split = list(input_str)\n",
    "    col_number = str_data[input_str_split[0]]\n",
    "    row_number = int(input_str_split[1]) - 1\n",
    "    input_number = row_number * col + col_number\n",
    "    return input_number\n",
    "\n",
    "def is_correct_number(mistake_number, input_number):\n",
    "    if mistake_number == input_number:\n",
    "        return True\n",
    "    else:\n",
    "        return False\n",
    "\n",
    "def view_result(is_correct, mistake_number):\n",
    "    if is_correct:\n",
    "        print('Correct!')\n",
    "    else:\n",
    "        print('Incorrect')\n",
    "        print('The correct answer is ' + change_string(mistake_number))\n",
    "\n",
    "def change_string(number):\n",
    "    col_number = number % col\n",
    "    row_number = math.floor(number / col) + 1\n",
    "    string = number_data[col_number] + str(row_number)\n",
    "    return string\n",
    "\n",
    "def play():\n",
    "    section_message()\n",
    "    mistake_number = view_question()\n",
    "    choice = input('(e.g., A1)')\n",
    "    print('Debug: choice = ' + choice)\n",
    "    input_number = change_input_number(choice)\n",
    "    print('Debug: input_number = ' + str(input_number))\n",
    "    is_correct = is_correct_number(mistake_number, input_number)\n",
    "    view_result(is_correct, mistake_number)\n",
    "\n",
    "start_message()\n",
    "play()\n"
   ]
  },
  {
   "cell_type": "code",
   "execution_count": 10,
   "id": "7c344d87-2107-46b2-9dc4-8355237cd200",
   "metadata": {},
   "outputs": [
    {
     "name": "stdout",
     "output_type": "stream",
     "text": [
      "A\n",
      "B\n",
      "C\n"
     ]
    }
   ],
   "source": [
    "# Define the matrix\n",
    "matrix = [\n",
    "    [1, 'A'],\n",
    "    [2, 'B'],\n",
    "    [3, 'C']\n",
    "]\n",
    "\n",
    "# Initialize the outer index for rows\n",
    "row_index = 0\n",
    "\n",
    "# Outer while loop to iterate over rows\n",
    "while row_index < len(matrix):\n",
    "    # Initialize the inner index (though we only need index 1, we'll set it up for clarity)\n",
    "    col_index = 1\n",
    "    \n",
    "    # Print the element at the current row and column index\n",
    "    print(matrix[row_index][col_index])\n",
    "    \n",
    "    # Move to the next row\n",
    "    row_index += 1\n"
   ]
  },
  {
   "cell_type": "code",
   "execution_count": 16,
   "id": "12a793c1-41c7-405d-92b5-a5bed19ec373",
   "metadata": {},
   "outputs": [
    {
     "name": "stdout",
     "output_type": "stream",
     "text": [
      "January\n",
      "February\n",
      "March\n",
      "April\n",
      "May\n",
      "June\n",
      "July\n",
      "August\n",
      "September\n",
      "October\n",
      "November\n",
      "December\n"
     ]
    }
   ],
   "source": [
    "months = [\n",
    "    [1, 'January'],\n",
    "    [2, 'February'],\n",
    "    [3, 'March'],\n",
    "    [4, 'April'],\n",
    "    [5, 'May'],\n",
    "    [6, 'June'],\n",
    "    [7, 'July'],\n",
    "    [8, 'August'],\n",
    "    [9, 'September'],\n",
    "    [10, 'October'],\n",
    "    [11, 'November'],\n",
    "    [12, 'December']\n",
    "]\n",
    "\n",
    "# Initialize an empty list to store the strings\n",
    "months_list = []\n",
    "\n",
    "# Initialize the index for the first while loop\n",
    "i = 0\n",
    "\n",
    "# Use a while loop to iterate through each row of the matrix\n",
    "while i < len(months):\n",
    "    # Extract the string from the current row and append it to the string_list\n",
    "    months_list.append(months[i][1])\n",
    "    # Increment the index\n",
    "    i += 1\n",
    "\n",
    "# Initialize the index for the second while loop\n",
    "j = 0\n",
    "\n",
    "# Use another while loop to display each element of the string_list\n",
    "while j < len(months_list):\n",
    "    # Print the current element\n",
    "    print(months_list[j])\n",
    "    # Increment the index\n",
    "    j += 1\n"
   ]
  },
  {
   "cell_type": "code",
   "execution_count": 18,
   "id": "7428e48e-16a7-47cb-a68e-5b9a2663e14f",
   "metadata": {},
   "outputs": [
    {
     "name": "stdout",
     "output_type": "stream",
     "text": [
      "January\n",
      "February\n",
      "March\n",
      "April\n",
      "May\n",
      "June\n",
      "July\n",
      "August\n",
      "September\n",
      "October\n",
      "November\n",
      "December\n"
     ]
    }
   ],
   "source": [
    "months = [\n",
    "    [1, 'January'],\n",
    "    [2, 'February'],\n",
    "    [3, 'March'],\n",
    "    [4, 'April'],\n",
    "    [5, 'May'],\n",
    "    [6, 'June'],\n",
    "    [7, 'July'],\n",
    "    [8, 'August'],\n",
    "    [9, 'September'],\n",
    "    [10, 'October'],\n",
    "    [11, 'November'],\n",
    "    [12, 'December']\n",
    "]\n",
    "\n",
    "months_list = []\n",
    "\n",
    "i=0\n",
    "j=0\n",
    "while i< len(months):\n",
    "    months_list.append(months[i][1])\n",
    "    i += 1\n",
    "while j < len(months_list):\n",
    "    print(months_list[j])\n",
    "    j +=1"
   ]
  },
  {
   "cell_type": "code",
   "execution_count": null,
   "id": "98c69356-28dc-4d17-9ceb-3997f6f7c4ca",
   "metadata": {},
   "outputs": [],
   "source": []
  }
 ],
 "metadata": {
  "kernelspec": {
   "display_name": "Python 3 (ipykernel)",
   "language": "python",
   "name": "python3"
  },
  "language_info": {
   "codemirror_mode": {
    "name": "ipython",
    "version": 3
   },
   "file_extension": ".py",
   "mimetype": "text/x-python",
   "name": "python",
   "nbconvert_exporter": "python",
   "pygments_lexer": "ipython3",
   "version": "3.12.4"
  }
 },
 "nbformat": 4,
 "nbformat_minor": 5
}
