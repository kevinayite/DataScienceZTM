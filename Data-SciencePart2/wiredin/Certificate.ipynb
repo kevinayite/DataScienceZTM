{
 "cells": [
  {
   "cell_type": "code",
   "execution_count": 6,
   "id": "45290bae-a131-4785-8339-0b9c15f1e7b3",
   "metadata": {},
   "outputs": [
    {
     "name": "stdout",
     "output_type": "stream",
     "text": [
      "Start 'rock-paper-scissors'\n",
      "Lives You: 3 / Rival: 3\n",
      "Input your hand\n"
     ]
    },
    {
     "name": "stdin",
     "output_type": "stream",
     "text": [
      "0:rock, 1:scissors, 2:paper 1\n"
     ]
    },
    {
     "name": "stdout",
     "output_type": "stream",
     "text": [
      "My hand is scissors\n",
      "Rival's hand is rock\n",
      "You lost\n"
     ]
    },
    {
     "ename": "UnboundLocalError",
     "evalue": "cannot access local variable 'you_lives' where it is not associated with a value",
     "output_type": "error",
     "traceback": [
      "\u001b[1;31m---------------------------------------------------------------------------\u001b[0m",
      "\u001b[1;31mUnboundLocalError\u001b[0m                         Traceback (most recent call last)",
      "Cell \u001b[1;32mIn[6], line 127\u001b[0m\n\u001b[0;32m    124\u001b[0m     \u001b[38;5;28;01melse\u001b[39;00m:\n\u001b[0;32m    125\u001b[0m         \u001b[38;5;28;01mreturn\u001b[39;00m      \n\u001b[1;32m--> 127\u001b[0m replay(computer_lives, you_lives)\n",
      "Cell \u001b[1;32mIn[6], line 111\u001b[0m, in \u001b[0;36mreplay\u001b[1;34m(computer_lives, you_lives)\u001b[0m\n\u001b[0;32m    110\u001b[0m \u001b[38;5;28;01mdef\u001b[39;00m \u001b[38;5;21mreplay\u001b[39m(computer_lives, you_lives):\n\u001b[1;32m--> 111\u001b[0m     play()\n\u001b[0;32m    112\u001b[0m     \u001b[38;5;66;03m# global computer_lives\u001b[39;00m\n\u001b[0;32m    113\u001b[0m     \u001b[38;5;66;03m# global you_lives\u001b[39;00m\n\u001b[0;32m    114\u001b[0m     \u001b[38;5;66;03m# you_lives, computer_lives = lives()\u001b[39;00m\n\u001b[0;32m    115\u001b[0m     \u001b[38;5;28;01mwhile\u001b[39;00m \u001b[38;5;129;01mnot\u001b[39;00m(you_lives \u001b[38;5;241m==\u001b[39m\u001b[38;5;241m0\u001b[39m \u001b[38;5;129;01mor\u001b[39;00m computer_lives \u001b[38;5;241m==\u001b[39m\u001b[38;5;241m0\u001b[39m):\n",
      "Cell \u001b[1;32mIn[6], line 107\u001b[0m, in \u001b[0;36mplay\u001b[1;34m()\u001b[0m\n\u001b[0;32m    105\u001b[0m     computer_lives \u001b[38;5;241m-\u001b[39m\u001b[38;5;241m=\u001b[39m\u001b[38;5;241m1\u001b[39m\n\u001b[0;32m    106\u001b[0m \u001b[38;5;28;01melse\u001b[39;00m:\n\u001b[1;32m--> 107\u001b[0m     you_lives \u001b[38;5;241m-\u001b[39m\u001b[38;5;241m=\u001b[39m\u001b[38;5;241m1\u001b[39m\n",
      "\u001b[1;31mUnboundLocalError\u001b[0m: cannot access local variable 'you_lives' where it is not associated with a value"
     ]
    }
   ],
   "source": [
    "import random\n",
    "\n",
    "hands = ['rock', 'scissors', 'paper']\n",
    "results = {'win': 'You win', 'lose': 'You lost', 'draw': 'draw try again'}\n",
    "you_lives = 3\n",
    "computer_lives = 3\n",
    "\n",
    "# def lives ():\n",
    "#     you_lives =3\n",
    "#     computer_lives = 3\n",
    "#     return you_lives, computer_lives\n",
    "\n",
    "\n",
    "def start_message():\n",
    "    print('Start \\'rock-paper-scissors\\'')\n",
    "    print(f\"Lives You: {you_lives} / Rival: {computer_lives}\")\n",
    "\n",
    "\n",
    "def is_hand(string):\n",
    "    if string.isdigit():\n",
    "        number = int(string)\n",
    "        if number >= 0 and number <= 2:\n",
    "            return True\n",
    "        else:\n",
    "            return False\n",
    "    else:\n",
    "        return False\n",
    "\n",
    "\n",
    "def get_player():\n",
    "    print('Input your hand')\n",
    "    input_message = ''\n",
    "    index = 0\n",
    "    for hand in hands:\n",
    "        input_message += str(index) + ':' + hand\n",
    "        if index < 2:\n",
    "            input_message += ', '\n",
    "        index += 1\n",
    "    return input(input_message)\n",
    "\n",
    "\n",
    "def get_computer():\n",
    "    return random.randint(0, 2)\n",
    "\n",
    "\n",
    "def get_hand_name(hand_number):\n",
    "    return hands[hand_number]\n",
    "\n",
    "\n",
    "def view_hand(your_hand, computer_hand):\n",
    "    print(f\"My hand is {get_hand_name(your_hand)}\")\n",
    "    print(f\"Rival\\'s hand is {get_hand_name(computer_hand)}\")\n",
    "\n",
    "\n",
    "def get_result(hand_diff):\n",
    "    if hand_diff == 0:\n",
    "        return 'draw'\n",
    "    elif hand_diff == -1 or hand_diff == 2:\n",
    "        return 'win'\n",
    "    else:\n",
    "        return 'lose'\n",
    "\n",
    "\n",
    "def view_result(result):\n",
    "    print(f\"{results[result]}\")\n",
    "    \n",
    "def choice():\n",
    "    message = 'Replay?:(Y or N)'\n",
    "    choice_key = input(message)\n",
    "    while not enable_choice(choice_key):\n",
    "        choice_key = input(message)\n",
    "    return choice_key\n",
    "\n",
    "\n",
    "def enable_choice(string):\n",
    "    if string.isalpha():\n",
    "        answer = string\n",
    "        if answer.upper()=='Y' or answer.upper() == 'N':\n",
    "            return True\n",
    "        else:\n",
    "            return False\n",
    "    else:\n",
    "        return False\n",
    "\n",
    "def play():\n",
    "    \n",
    "    # global computer_lives\n",
    "    # global you_lives\n",
    "    # you_lives, computer_lives = lives()\n",
    "    start_message()\n",
    "    your_hand = get_player()\n",
    "    while not is_hand(your_hand):\n",
    "        your_hand = get_player()\n",
    "\n",
    "    your_hand = int(your_hand)\n",
    "    computer_hand = get_computer()\n",
    "    hand_diff = your_hand - computer_hand\n",
    "\n",
    "    view_hand(your_hand, computer_hand)\n",
    "    result = get_result(hand_diff)\n",
    "    view_result(result)\n",
    "    if result == 'draw':\n",
    "        play()\n",
    "    elif result == 'win' :\n",
    "        computer_lives -=1\n",
    "    else:\n",
    "        you_lives -=1\n",
    "    \n",
    "    \n",
    "def replay(computer_lives, you_lives):\n",
    "    play()\n",
    "    # global computer_lives\n",
    "    # global you_lives\n",
    "    # you_lives, computer_lives = lives()\n",
    "    while not(you_lives ==0 or computer_lives ==0):\n",
    "        play()\n",
    "    answer = choice()\n",
    "    if(answer.upper()=='Y'):\n",
    "        # you_lives = 3\n",
    "        # computer_lives = 3\n",
    "        # you_lives, computer_lives = lives()\n",
    "        play()\n",
    "        replay()\n",
    "    else:\n",
    "        return      \n",
    "        \n",
    "replay(computer_lives, you_lives)"
   ]
  },
  {
   "cell_type": "code",
   "execution_count": null,
   "id": "d10ff15d-b995-4ca3-8532-eff5ed280f1b",
   "metadata": {},
   "outputs": [],
   "source": []
  },
  {
   "cell_type": "code",
   "execution_count": 4,
   "id": "3b9a0e27-9391-45fe-b686-8bb7b3e33774",
   "metadata": {},
   "outputs": [
    {
     "name": "stdout",
     "output_type": "stream",
     "text": [
      "Start 'rock-paper-scissors'\n",
      "Lives You: 3 / Rival: 3\n",
      "Input your hand\n"
     ]
    },
    {
     "name": "stdin",
     "output_type": "stream",
     "text": [
      "0:rock, 1:scissors, 2:paper 1\n"
     ]
    },
    {
     "name": "stdout",
     "output_type": "stream",
     "text": [
      "My hand is scissors\n",
      "Rival's hand is paper\n",
      "You win\n",
      "Start 'rock-paper-scissors'\n",
      "Lives You: 3 / Rival: 2\n",
      "Input your hand\n"
     ]
    },
    {
     "name": "stdin",
     "output_type": "stream",
     "text": [
      "0:rock, 1:scissors, 2:paper 1\n"
     ]
    },
    {
     "name": "stdout",
     "output_type": "stream",
     "text": [
      "My hand is scissors\n",
      "Rival's hand is scissors\n",
      "draw try again\n",
      "Start 'rock-paper-scissors'\n",
      "Lives You: 3 / Rival: 2\n",
      "Input your hand\n"
     ]
    },
    {
     "name": "stdin",
     "output_type": "stream",
     "text": [
      "0:rock, 1:scissors, 2:paper 1\n"
     ]
    },
    {
     "name": "stdout",
     "output_type": "stream",
     "text": [
      "My hand is scissors\n",
      "Rival's hand is scissors\n",
      "draw try again\n",
      "Start 'rock-paper-scissors'\n",
      "Lives You: 3 / Rival: 2\n",
      "Input your hand\n"
     ]
    },
    {
     "name": "stdin",
     "output_type": "stream",
     "text": [
      "0:rock, 1:scissors, 2:paper 1\n"
     ]
    },
    {
     "name": "stdout",
     "output_type": "stream",
     "text": [
      "My hand is scissors\n",
      "Rival's hand is rock\n",
      "You lost\n",
      "Start 'rock-paper-scissors'\n",
      "Lives You: 2 / Rival: 2\n",
      "Input your hand\n"
     ]
    },
    {
     "name": "stdin",
     "output_type": "stream",
     "text": [
      "0:rock, 1:scissors, 2:paper 1\n"
     ]
    },
    {
     "name": "stdout",
     "output_type": "stream",
     "text": [
      "My hand is scissors\n",
      "Rival's hand is scissors\n",
      "draw try again\n",
      "Start 'rock-paper-scissors'\n",
      "Lives You: 2 / Rival: 2\n",
      "Input your hand\n"
     ]
    },
    {
     "name": "stdin",
     "output_type": "stream",
     "text": [
      "0:rock, 1:scissors, 2:paper 1\n"
     ]
    },
    {
     "name": "stdout",
     "output_type": "stream",
     "text": [
      "My hand is scissors\n",
      "Rival's hand is scissors\n",
      "draw try again\n",
      "Start 'rock-paper-scissors'\n",
      "Lives You: 2 / Rival: 2\n",
      "Input your hand\n"
     ]
    },
    {
     "name": "stdin",
     "output_type": "stream",
     "text": [
      "0:rock, 1:scissors, 2:paper 1\n"
     ]
    },
    {
     "name": "stdout",
     "output_type": "stream",
     "text": [
      "My hand is scissors\n",
      "Rival's hand is paper\n",
      "You win\n",
      "Start 'rock-paper-scissors'\n",
      "Lives You: 2 / Rival: 1\n",
      "Input your hand\n"
     ]
    },
    {
     "name": "stdin",
     "output_type": "stream",
     "text": [
      "0:rock, 1:scissors, 2:paper 1\n"
     ]
    },
    {
     "name": "stdout",
     "output_type": "stream",
     "text": [
      "My hand is scissors\n",
      "Rival's hand is rock\n",
      "You lost\n",
      "Start 'rock-paper-scissors'\n",
      "Lives You: 1 / Rival: 1\n",
      "Input your hand\n"
     ]
    },
    {
     "name": "stdin",
     "output_type": "stream",
     "text": [
      "0:rock, 1:scissors, 2:paper 1\n"
     ]
    },
    {
     "name": "stdout",
     "output_type": "stream",
     "text": [
      "My hand is scissors\n",
      "Rival's hand is scissors\n",
      "draw try again\n",
      "Start 'rock-paper-scissors'\n",
      "Lives You: 1 / Rival: 1\n",
      "Input your hand\n"
     ]
    },
    {
     "name": "stdin",
     "output_type": "stream",
     "text": [
      "0:rock, 1:scissors, 2:paper 1\n"
     ]
    },
    {
     "name": "stdout",
     "output_type": "stream",
     "text": [
      "My hand is scissors\n",
      "Rival's hand is paper\n",
      "You win\n"
     ]
    },
    {
     "name": "stdin",
     "output_type": "stream",
     "text": [
      "Replay?:(Y or N) g\n",
      "Replay?:(Y or N) h\n",
      "Replay?:(Y or N) d\n",
      "Replay?:(Y or N) n\n"
     ]
    }
   ],
   "source": [
    "import random\n",
    "\n",
    "hands = ['rock', 'scissors', 'paper']\n",
    "results = {'win': 'You win', 'lose': 'You lost', 'draw': 'draw try again'}\n",
    "you_lives = 3\n",
    "computer_lives = 3\n",
    "\n",
    "# def lives ():\n",
    "#     you_lives =3\n",
    "#     computer_lives = 3\n",
    "#     return you_lives, computer_lives\n",
    "\n",
    "\n",
    "def start_message():\n",
    "    print('Start \\'rock-paper-scissors\\'')\n",
    "    print(f\"Lives You: {you_lives} / Rival: {computer_lives}\")\n",
    "\n",
    "\n",
    "def is_hand(string):\n",
    "    if string.isdigit():\n",
    "        number = int(string)\n",
    "        if number >= 0 and number <= 2:\n",
    "            return True\n",
    "        else:\n",
    "            return False\n",
    "    else:\n",
    "        return False\n",
    "\n",
    "\n",
    "def get_player():\n",
    "    print('Input your hand')\n",
    "    input_message = ''\n",
    "    index = 0\n",
    "    for hand in hands:\n",
    "        input_message += str(index) + ':' + hand\n",
    "        if index < 2:\n",
    "            input_message += ', '\n",
    "        index += 1\n",
    "    return input(input_message)\n",
    "\n",
    "\n",
    "def get_computer():\n",
    "    return random.randint(0, 2)\n",
    "\n",
    "\n",
    "def get_hand_name(hand_number):\n",
    "    return hands[hand_number]\n",
    "\n",
    "\n",
    "def view_hand(your_hand, computer_hand):\n",
    "    print(f\"My hand is {get_hand_name(your_hand)}\")\n",
    "    print(f\"Rival\\'s hand is {get_hand_name(computer_hand)}\")\n",
    "\n",
    "\n",
    "def get_result(hand_diff):\n",
    "    if hand_diff == 0:\n",
    "        return 'draw'\n",
    "    elif hand_diff == -1 or hand_diff == 2:\n",
    "        return 'win'\n",
    "    else:\n",
    "        return 'lose'\n",
    "\n",
    "\n",
    "def view_result(result):\n",
    "    print(f\"{results[result]}\")\n",
    "    \n",
    "def choice():\n",
    "    message = 'Replay?:(Y or N)'\n",
    "    choice_key = input(message)\n",
    "    while not enable_choice(choice_key):\n",
    "        choice_key = input(message)\n",
    "    return choice_key\n",
    "\n",
    "\n",
    "def enable_choice(string):\n",
    "    if string.isalpha():\n",
    "        answer = string\n",
    "        if answer.upper()=='Y' or answer.upper() == 'N':\n",
    "            return True\n",
    "        else:\n",
    "            return False\n",
    "    else:\n",
    "        return False\n",
    "\n",
    "def play():\n",
    "    \n",
    "    global computer_lives\n",
    "    global you_lives\n",
    "    start_message()\n",
    "    your_hand = get_player()\n",
    "    while not is_hand(your_hand):\n",
    "        your_hand = get_player()\n",
    "\n",
    "    your_hand = int(your_hand)\n",
    "    computer_hand = get_computer()\n",
    "    hand_diff = your_hand - computer_hand\n",
    "\n",
    "    view_hand(your_hand, computer_hand)\n",
    "    result = get_result(hand_diff)\n",
    "    view_result(result)\n",
    "    if result == 'draw':\n",
    "        play()\n",
    "    elif result == 'win' :\n",
    "        computer_lives -=1\n",
    "    else:\n",
    "        you_lives -=1\n",
    "    \n",
    "    \n",
    "def replay():\n",
    "    play()\n",
    "    global computer_lives\n",
    "    global you_lives\n",
    "    while not(you_lives ==0 or computer_lives ==0):\n",
    "        play()\n",
    "    answer = choice()\n",
    "    if(answer.upper()=='Y'):\n",
    "        you_lives = 3\n",
    "        computer_lives = 3\n",
    "        play()\n",
    "        replay()\n",
    "    else:\n",
    "        return      \n",
    "        \n",
    "replay()"
   ]
  },
  {
   "cell_type": "code",
   "execution_count": null,
   "id": "e9133e5d-6abd-4f48-8efb-5545eee060f1",
   "metadata": {},
   "outputs": [],
   "source": [
    "import random\n",
    "\n",
    "hands = ['rock', 'scissors', 'paper']\n",
    "results = {'win': 'You win', 'lose': 'You lost', 'draw': 'draw try again'}\n",
    "you_lives = 3\n",
    "computer_lives = 3\n",
    "\n",
    "# def lives ():\n",
    "#     you_lives =3\n",
    "#     computer_lives = 3\n",
    "#     return you_lives, computer_lives\n",
    "\n",
    "\n",
    "def start_message():\n",
    "    print('Start \\'rock-paper-scissors\\'')\n",
    "    print(f\"Lives You: {you_lives} / Rival: {computer_lives}\")\n",
    "\n",
    "\n",
    "def is_hand(string):\n",
    "    if string.isdigit():\n",
    "        number = int(string)\n",
    "        if number >= 0 and number <= 2:\n",
    "            return True\n",
    "        else:\n",
    "            return False\n",
    "    else:\n",
    "        return False\n",
    "\n",
    "\n",
    "def get_player():\n",
    "    print('Input your hand')\n",
    "    input_message = ''\n",
    "    index = 0\n",
    "    for hand in hands:\n",
    "        input_message += str(index) + ':' + hand\n",
    "        if index < 2:\n",
    "            input_message += ', '\n",
    "        index += 1\n",
    "    return input(input_message)\n",
    "\n",
    "\n",
    "def get_computer():\n",
    "    return random.randint(0, 2)\n",
    "\n",
    "\n",
    "def get_hand_name(hand_number):\n",
    "    return hands[hand_number]\n",
    "\n",
    "\n",
    "def view_hand(your_hand, computer_hand):\n",
    "    print(f\"My hand is {get_hand_name(your_hand)}\")\n",
    "    print(f\"Rival\\'s hand is {get_hand_name(computer_hand)}\")\n",
    "\n",
    "\n",
    "def get_result(hand_diff):\n",
    "    if hand_diff == 0:\n",
    "        return 'draw'\n",
    "    elif hand_diff == -1 or hand_diff == 2:\n",
    "        return 'win'\n",
    "    else:\n",
    "        return 'lose'\n",
    "\n",
    "\n",
    "def view_result(result):\n",
    "    print(f\"{results[result]}\")\n",
    "    \n",
    "def choice():\n",
    "    message = 'Replay?:(Y or N)'\n",
    "    choice_key = input(message)\n",
    "    while not enable_choice(choice_key):\n",
    "        choice_key = input(message)\n",
    "    return choice_key\n",
    "\n",
    "\n",
    "def enable_choice(string):\n",
    "    if string.isalpha():\n",
    "        answer = string\n",
    "        if answer.upper()=='Y' or answer.upper() == 'N':\n",
    "            return True\n",
    "        else:\n",
    "            return False\n",
    "    else:\n",
    "        return False\n",
    "\n",
    "def play():\n",
    "    \n",
    "    global computer_lives\n",
    "    global you_lives\n",
    "    start_message()\n",
    "    your_hand = get_player()\n",
    "    while not is_hand(your_hand):\n",
    "        your_hand = get_player()\n",
    "\n",
    "    your_hand = int(your_hand)\n",
    "    computer_hand = get_computer()\n",
    "    hand_diff = your_hand - computer_hand\n",
    "\n",
    "    view_hand(your_hand, computer_hand)\n",
    "    result = get_result(hand_diff)\n",
    "    view_result(result)\n",
    "    if result == 'draw':\n",
    "        play()\n",
    "    elif result == 'win' :\n",
    "        computer_lives -=1\n",
    "    else:\n",
    "        you_lives -=1\n",
    "    \n",
    "    \n",
    "def replay():\n",
    "    play()\n",
    "    global computer_lives\n",
    "    global you_lives\n",
    "    while not(you_lives ==0 or computer_lives ==0):\n",
    "        play()\n",
    "    answer = choice()\n",
    "    if(answer.upper()=='Y'):\n",
    "        you_lives = 3\n",
    "        computer_lives = 3\n",
    "        play()\n",
    "        replay()\n",
    "    else:\n",
    "        return      \n",
    "        \n",
    "replay()"
   ]
  },
  {
   "cell_type": "code",
   "execution_count": 2,
   "id": "f11cd0e0-aec8-4bdc-a001-ee6f3d9a6ec0",
   "metadata": {},
   "outputs": [
    {
     "name": "stdout",
     "output_type": "stream",
     "text": [
      "Start 'rock-paper-scissors'\n",
      "Lives You: 3 / Rival: 3\n",
      "Input your hand\n"
     ]
    },
    {
     "name": "stdin",
     "output_type": "stream",
     "text": [
      "0:rock, 1:scissors, 2:paper 1\n"
     ]
    },
    {
     "name": "stdout",
     "output_type": "stream",
     "text": [
      "My hand is scissors\n",
      "Rival's hand is paper\n",
      "You win\n",
      "Start 'rock-paper-scissors'\n",
      "Lives You: 3 / Rival: 3\n",
      "Input your hand\n"
     ]
    },
    {
     "ename": "KeyboardInterrupt",
     "evalue": "Interrupted by user",
     "output_type": "error",
     "traceback": [
      "\u001b[1;31m---------------------------------------------------------------------------\u001b[0m",
      "\u001b[1;31mKeyboardInterrupt\u001b[0m                         Traceback (most recent call last)",
      "Cell \u001b[1;32mIn[2], line 123\u001b[0m\n\u001b[0;32m    120\u001b[0m     \u001b[38;5;28;01melse\u001b[39;00m:\n\u001b[0;32m    121\u001b[0m         \u001b[38;5;28;01mreturn\u001b[39;00m      \n\u001b[1;32m--> 123\u001b[0m replay(\u001b[38;5;241m3\u001b[39m,\u001b[38;5;241m3\u001b[39m)\n",
      "Cell \u001b[1;32mIn[2], line 113\u001b[0m, in \u001b[0;36mreplay\u001b[1;34m(you_lives, computer_lives)\u001b[0m\n\u001b[0;32m    108\u001b[0m \u001b[38;5;28;01mdef\u001b[39;00m \u001b[38;5;21mreplay\u001b[39m(you_lives, computer_lives):\n\u001b[0;32m    109\u001b[0m     \u001b[38;5;66;03m# you_lives, computer_lives = play()\u001b[39;00m\n\u001b[0;32m    110\u001b[0m     \u001b[38;5;66;03m# global computer_lives\u001b[39;00m\n\u001b[0;32m    111\u001b[0m     \u001b[38;5;66;03m# global you_lives\u001b[39;00m\n\u001b[0;32m    112\u001b[0m     \u001b[38;5;28;01mwhile\u001b[39;00m \u001b[38;5;129;01mnot\u001b[39;00m(you_lives \u001b[38;5;241m==\u001b[39m\u001b[38;5;241m0\u001b[39m \u001b[38;5;129;01mor\u001b[39;00m computer_lives \u001b[38;5;241m==\u001b[39m\u001b[38;5;241m0\u001b[39m):\n\u001b[1;32m--> 113\u001b[0m         play(you_lives, computer_lives)\n\u001b[0;32m    114\u001b[0m     answer \u001b[38;5;241m=\u001b[39m choice()\n\u001b[0;32m    115\u001b[0m     \u001b[38;5;28;01mif\u001b[39;00m(answer\u001b[38;5;241m.\u001b[39mupper()\u001b[38;5;241m==\u001b[39m\u001b[38;5;124m'\u001b[39m\u001b[38;5;124mY\u001b[39m\u001b[38;5;124m'\u001b[39m):\n\u001b[0;32m    116\u001b[0m         \u001b[38;5;66;03m# you_lives = 3\u001b[39;00m\n\u001b[0;32m    117\u001b[0m         \u001b[38;5;66;03m# computer_lives = 3\u001b[39;00m\n",
      "Cell \u001b[1;32mIn[2], line 89\u001b[0m, in \u001b[0;36mplay\u001b[1;34m(you_lives, computer_lives)\u001b[0m\n\u001b[0;32m     85\u001b[0m \u001b[38;5;28;01mdef\u001b[39;00m \u001b[38;5;21mplay\u001b[39m(you_lives, computer_lives):\n\u001b[0;32m     88\u001b[0m     start_message(you_lives, computer_lives)\n\u001b[1;32m---> 89\u001b[0m     your_hand \u001b[38;5;241m=\u001b[39m get_player()\n\u001b[0;32m     90\u001b[0m     \u001b[38;5;28;01mwhile\u001b[39;00m \u001b[38;5;129;01mnot\u001b[39;00m is_hand(your_hand):\n\u001b[0;32m     91\u001b[0m         your_hand \u001b[38;5;241m=\u001b[39m get_player()\n",
      "Cell \u001b[1;32mIn[2], line 39\u001b[0m, in \u001b[0;36mget_player\u001b[1;34m()\u001b[0m\n\u001b[0;32m     37\u001b[0m         input_message \u001b[38;5;241m+\u001b[39m\u001b[38;5;241m=\u001b[39m \u001b[38;5;124m'\u001b[39m\u001b[38;5;124m, \u001b[39m\u001b[38;5;124m'\u001b[39m\n\u001b[0;32m     38\u001b[0m     index \u001b[38;5;241m+\u001b[39m\u001b[38;5;241m=\u001b[39m \u001b[38;5;241m1\u001b[39m\n\u001b[1;32m---> 39\u001b[0m \u001b[38;5;28;01mreturn\u001b[39;00m \u001b[38;5;28minput\u001b[39m(input_message)\n",
      "File \u001b[1;32m~\\Desktop\\sample_project\\week1\\env\\Lib\\site-packages\\ipykernel\\kernelbase.py:1262\u001b[0m, in \u001b[0;36mKernel.raw_input\u001b[1;34m(self, prompt)\u001b[0m\n\u001b[0;32m   1260\u001b[0m     msg \u001b[38;5;241m=\u001b[39m \u001b[38;5;124m\"\u001b[39m\u001b[38;5;124mraw_input was called, but this frontend does not support input requests.\u001b[39m\u001b[38;5;124m\"\u001b[39m\n\u001b[0;32m   1261\u001b[0m     \u001b[38;5;28;01mraise\u001b[39;00m StdinNotImplementedError(msg)\n\u001b[1;32m-> 1262\u001b[0m \u001b[38;5;28;01mreturn\u001b[39;00m \u001b[38;5;28mself\u001b[39m\u001b[38;5;241m.\u001b[39m_input_request(\n\u001b[0;32m   1263\u001b[0m     \u001b[38;5;28mstr\u001b[39m(prompt),\n\u001b[0;32m   1264\u001b[0m     \u001b[38;5;28mself\u001b[39m\u001b[38;5;241m.\u001b[39m_parent_ident[\u001b[38;5;124m\"\u001b[39m\u001b[38;5;124mshell\u001b[39m\u001b[38;5;124m\"\u001b[39m],\n\u001b[0;32m   1265\u001b[0m     \u001b[38;5;28mself\u001b[39m\u001b[38;5;241m.\u001b[39mget_parent(\u001b[38;5;124m\"\u001b[39m\u001b[38;5;124mshell\u001b[39m\u001b[38;5;124m\"\u001b[39m),\n\u001b[0;32m   1266\u001b[0m     password\u001b[38;5;241m=\u001b[39m\u001b[38;5;28;01mFalse\u001b[39;00m,\n\u001b[0;32m   1267\u001b[0m )\n",
      "File \u001b[1;32m~\\Desktop\\sample_project\\week1\\env\\Lib\\site-packages\\ipykernel\\kernelbase.py:1305\u001b[0m, in \u001b[0;36mKernel._input_request\u001b[1;34m(self, prompt, ident, parent, password)\u001b[0m\n\u001b[0;32m   1302\u001b[0m \u001b[38;5;28;01mexcept\u001b[39;00m \u001b[38;5;167;01mKeyboardInterrupt\u001b[39;00m:\n\u001b[0;32m   1303\u001b[0m     \u001b[38;5;66;03m# re-raise KeyboardInterrupt, to truncate traceback\u001b[39;00m\n\u001b[0;32m   1304\u001b[0m     msg \u001b[38;5;241m=\u001b[39m \u001b[38;5;124m\"\u001b[39m\u001b[38;5;124mInterrupted by user\u001b[39m\u001b[38;5;124m\"\u001b[39m\n\u001b[1;32m-> 1305\u001b[0m     \u001b[38;5;28;01mraise\u001b[39;00m \u001b[38;5;167;01mKeyboardInterrupt\u001b[39;00m(msg) \u001b[38;5;28;01mfrom\u001b[39;00m \u001b[38;5;28;01mNone\u001b[39;00m\n\u001b[0;32m   1306\u001b[0m \u001b[38;5;28;01mexcept\u001b[39;00m \u001b[38;5;167;01mException\u001b[39;00m:\n\u001b[0;32m   1307\u001b[0m     \u001b[38;5;28mself\u001b[39m\u001b[38;5;241m.\u001b[39mlog\u001b[38;5;241m.\u001b[39mwarning(\u001b[38;5;124m\"\u001b[39m\u001b[38;5;124mInvalid Message:\u001b[39m\u001b[38;5;124m\"\u001b[39m, exc_info\u001b[38;5;241m=\u001b[39m\u001b[38;5;28;01mTrue\u001b[39;00m)\n",
      "\u001b[1;31mKeyboardInterrupt\u001b[0m: Interrupted by user"
     ]
    }
   ],
   "source": []
  },
  {
   "cell_type": "code",
   "execution_count": 3,
   "id": "d8f15c01-5d5c-4fa5-8326-ab2427b7f4d1",
   "metadata": {},
   "outputs": [
    {
     "name": "stdout",
     "output_type": "stream",
     "text": [
      "Start 'rock-paper-scissors'\n",
      "Lives You: 3 / Rival: 3\n",
      "Input your hand\n"
     ]
    },
    {
     "name": "stdin",
     "output_type": "stream",
     "text": [
      "0:rock, 1:scissors, 2:paper 1\n"
     ]
    },
    {
     "name": "stdout",
     "output_type": "stream",
     "text": [
      "My hand is scissors\n",
      "Rival's hand is rock\n",
      "You lost\n",
      "Start 'rock-paper-scissors'\n",
      "Lives You: 2 / Rival: 3\n",
      "Input your hand\n"
     ]
    },
    {
     "name": "stdin",
     "output_type": "stream",
     "text": [
      "0:rock, 1:scissors, 2:paper 1\n"
     ]
    },
    {
     "name": "stdout",
     "output_type": "stream",
     "text": [
      "My hand is scissors\n",
      "Rival's hand is scissors\n",
      "draw try again\n",
      "Start 'rock-paper-scissors'\n",
      "Lives You: 2 / Rival: 3\n",
      "Input your hand\n"
     ]
    },
    {
     "name": "stdin",
     "output_type": "stream",
     "text": [
      "0:rock, 1:scissors, 2:paper 1\n"
     ]
    },
    {
     "name": "stdout",
     "output_type": "stream",
     "text": [
      "My hand is scissors\n",
      "Rival's hand is paper\n",
      "You win\n",
      "Start 'rock-paper-scissors'\n",
      "Lives You: 2 / Rival: 2\n",
      "Input your hand\n"
     ]
    },
    {
     "name": "stdin",
     "output_type": "stream",
     "text": [
      "0:rock, 1:scissors, 2:paper 1\n"
     ]
    },
    {
     "name": "stdout",
     "output_type": "stream",
     "text": [
      "My hand is scissors\n",
      "Rival's hand is rock\n",
      "You lost\n",
      "Start 'rock-paper-scissors'\n",
      "Lives You: 1 / Rival: 2\n",
      "Input your hand\n"
     ]
    },
    {
     "name": "stdin",
     "output_type": "stream",
     "text": [
      "0:rock, 1:scissors, 2:paper 1\n"
     ]
    },
    {
     "name": "stdout",
     "output_type": "stream",
     "text": [
      "My hand is scissors\n",
      "Rival's hand is paper\n",
      "You win\n",
      "Start 'rock-paper-scissors'\n",
      "Lives You: 1 / Rival: 1\n",
      "Input your hand\n"
     ]
    },
    {
     "name": "stdin",
     "output_type": "stream",
     "text": [
      "0:rock, 1:scissors, 2:paper 1\n"
     ]
    },
    {
     "name": "stdout",
     "output_type": "stream",
     "text": [
      "My hand is scissors\n",
      "Rival's hand is paper\n",
      "You win\n",
      "Congratulations! You won!\n"
     ]
    },
    {
     "name": "stdin",
     "output_type": "stream",
     "text": [
      "Replay? (Y or N):  h\n",
      "Replay? (Y or N):  d\n",
      "Replay? (Y or N):  n\n"
     ]
    }
   ],
   "source": [
    "import random\n",
    "\n",
    "hands = ['rock', 'scissors', 'paper']\n",
    "results = {'win': 'You win', 'lose': 'You lost', 'draw': 'draw try again'}\n",
    "\n",
    "def start_message(you_lives, computer_lives):\n",
    "    print('Start \\'rock-paper-scissors\\'')\n",
    "    print(f\"Lives You: {you_lives} / Rival: {computer_lives}\")\n",
    "\n",
    "def is_hand(string):\n",
    "    return string.isdigit() and 0 <= int(string) <= 2\n",
    "\n",
    "def get_player():\n",
    "    print('Input your hand')\n",
    "    input_message = ', '.join(f\"{index}:{hand}\" for index, hand in enumerate(hands))\n",
    "    return input(input_message)\n",
    "\n",
    "def get_computer():\n",
    "    return random.randint(0, 2)\n",
    "\n",
    "def get_hand_name(hand_number):\n",
    "    return hands[hand_number]\n",
    "\n",
    "def view_hand(your_hand, computer_hand):\n",
    "    print(f\"My hand is {get_hand_name(your_hand)}\")\n",
    "    print(f\"Rival's hand is {get_hand_name(computer_hand)}\")\n",
    "\n",
    "def get_result(hand_diff):\n",
    "    if hand_diff == 0:\n",
    "        return 'draw'\n",
    "    elif hand_diff == -1 or hand_diff == 2:\n",
    "        return 'win'\n",
    "    else:\n",
    "        return 'lose'\n",
    "\n",
    "def view_result(result):\n",
    "    print(results[result])\n",
    "\n",
    "def choice():\n",
    "    while True:\n",
    "        choice_key = input('Replay? (Y or N): ').strip().upper()\n",
    "        if choice_key in ['Y', 'N']:\n",
    "            return choice_key\n",
    "\n",
    "def play(you_lives, computer_lives):\n",
    "    start_message(you_lives, computer_lives)\n",
    "    your_hand = get_player()\n",
    "    while not is_hand(your_hand):\n",
    "        your_hand = get_player()\n",
    "\n",
    "    your_hand = int(your_hand)\n",
    "    computer_hand = get_computer()\n",
    "    hand_diff = your_hand - computer_hand\n",
    "\n",
    "    view_hand(your_hand, computer_hand)\n",
    "    result = get_result(hand_diff)\n",
    "    view_result(result)\n",
    "\n",
    "    if result == 'draw':\n",
    "        return you_lives, computer_lives\n",
    "    elif result == 'win':\n",
    "        computer_lives -= 1\n",
    "    else:\n",
    "        you_lives -= 1\n",
    "\n",
    "    return you_lives, computer_lives\n",
    "\n",
    "def replay(you_lives, computer_lives):\n",
    "    while you_lives > 0 and computer_lives > 0:\n",
    "        you_lives, computer_lives = play(you_lives, computer_lives)\n",
    "    \n",
    "    if you_lives == 0:\n",
    "        print(\"Game over! You lost.\")\n",
    "    elif computer_lives == 0:\n",
    "        print(\"Congratulations! You won!\")\n",
    "\n",
    "    if choice() == 'Y':\n",
    "        you_lives, computer_lives = 3, 3\n",
    "        replay(you_lives, computer_lives)\n",
    "\n",
    "# Start the game\n",
    "replay(3, 3)\n"
   ]
  },
  {
   "cell_type": "code",
   "execution_count": 14,
   "id": "bfade339-6858-4dc4-8d82-1064bd9adcb4",
   "metadata": {},
   "outputs": [
    {
     "name": "stdout",
     "output_type": "stream",
     "text": [
      "Start 'rock-paper-scissors'\n",
      "Lives You: 3 / Rival: 3\n",
      "Input your hand\n"
     ]
    },
    {
     "name": "stdin",
     "output_type": "stream",
     "text": [
      "0:rock, 1:scissors, 2:paper 0\n"
     ]
    },
    {
     "name": "stdout",
     "output_type": "stream",
     "text": [
      "My hand is rock\n",
      "Rival's hand is paper\n",
      "You lost\n",
      "Start 'rock-paper-scissors'\n",
      "Lives You: 2 / Rival: 3\n",
      "Input your hand\n"
     ]
    },
    {
     "name": "stdin",
     "output_type": "stream",
     "text": [
      "0:rock, 1:scissors, 2:paper 0\n"
     ]
    },
    {
     "name": "stdout",
     "output_type": "stream",
     "text": [
      "My hand is rock\n",
      "Rival's hand is rock\n",
      "draw try again\n",
      "Start 'rock-paper-scissors'\n",
      "Lives You: 2 / Rival: 3\n",
      "Input your hand\n"
     ]
    },
    {
     "name": "stdin",
     "output_type": "stream",
     "text": [
      "0:rock, 1:scissors, 2:paper 0\n"
     ]
    },
    {
     "name": "stdout",
     "output_type": "stream",
     "text": [
      "My hand is rock\n",
      "Rival's hand is paper\n",
      "You lost\n",
      "Start 'rock-paper-scissors'\n",
      "Lives You: 1 / Rival: 3\n",
      "Input your hand\n"
     ]
    },
    {
     "name": "stdin",
     "output_type": "stream",
     "text": [
      "0:rock, 1:scissors, 2:paper 1\n"
     ]
    },
    {
     "name": "stdout",
     "output_type": "stream",
     "text": [
      "My hand is scissors\n",
      "Rival's hand is rock\n",
      "You lost\n"
     ]
    },
    {
     "name": "stdin",
     "output_type": "stream",
     "text": [
      "Replay?:(Y or N) y\n"
     ]
    },
    {
     "name": "stdout",
     "output_type": "stream",
     "text": [
      "Start 'rock-paper-scissors'\n",
      "Lives You: 3 / Rival: 3\n",
      "Input your hand\n"
     ]
    },
    {
     "name": "stdin",
     "output_type": "stream",
     "text": [
      "0:rock, 1:scissors, 2:paper 0\n"
     ]
    },
    {
     "name": "stdout",
     "output_type": "stream",
     "text": [
      "My hand is rock\n",
      "Rival's hand is rock\n",
      "draw try again\n",
      "Start 'rock-paper-scissors'\n",
      "Lives You: 3 / Rival: 3\n",
      "Input your hand\n"
     ]
    },
    {
     "name": "stdin",
     "output_type": "stream",
     "text": [
      "0:rock, 1:scissors, 2:paper 1\n"
     ]
    },
    {
     "name": "stdout",
     "output_type": "stream",
     "text": [
      "My hand is scissors\n",
      "Rival's hand is scissors\n",
      "draw try again\n",
      "Start 'rock-paper-scissors'\n",
      "Lives You: 3 / Rival: 3\n",
      "Input your hand\n"
     ]
    },
    {
     "name": "stdin",
     "output_type": "stream",
     "text": [
      "0:rock, 1:scissors, 2:paper 0\n"
     ]
    },
    {
     "name": "stdout",
     "output_type": "stream",
     "text": [
      "My hand is rock\n",
      "Rival's hand is scissors\n",
      "You win\n",
      "Start 'rock-paper-scissors'\n",
      "Lives You: 3 / Rival: 2\n",
      "Input your hand\n"
     ]
    },
    {
     "name": "stdin",
     "output_type": "stream",
     "text": [
      "0:rock, 1:scissors, 2:paper 1\n"
     ]
    },
    {
     "name": "stdout",
     "output_type": "stream",
     "text": [
      "My hand is scissors\n",
      "Rival's hand is rock\n",
      "You lost\n",
      "Start 'rock-paper-scissors'\n",
      "Lives You: 2 / Rival: 2\n",
      "Input your hand\n"
     ]
    },
    {
     "name": "stdin",
     "output_type": "stream",
     "text": [
      "0:rock, 1:scissors, 2:paper 1\n"
     ]
    },
    {
     "name": "stdout",
     "output_type": "stream",
     "text": [
      "My hand is scissors\n",
      "Rival's hand is rock\n",
      "You lost\n",
      "Start 'rock-paper-scissors'\n",
      "Lives You: 1 / Rival: 2\n",
      "Input your hand\n"
     ]
    },
    {
     "name": "stdin",
     "output_type": "stream",
     "text": [
      "0:rock, 1:scissors, 2:paper 1\n"
     ]
    },
    {
     "name": "stdout",
     "output_type": "stream",
     "text": [
      "My hand is scissors\n",
      "Rival's hand is paper\n",
      "You win\n",
      "Start 'rock-paper-scissors'\n",
      "Lives You: 1 / Rival: 1\n",
      "Input your hand\n"
     ]
    },
    {
     "name": "stdin",
     "output_type": "stream",
     "text": [
      "0:rock, 1:scissors, 2:paper 0\n"
     ]
    },
    {
     "name": "stdout",
     "output_type": "stream",
     "text": [
      "My hand is rock\n",
      "Rival's hand is paper\n",
      "You lost\n"
     ]
    },
    {
     "name": "stdin",
     "output_type": "stream",
     "text": [
      "Replay?:(Y or N) n\n"
     ]
    }
   ],
   "source": [
    "import random\n",
    "\n",
    "hands = ['rock', 'scissors', 'paper']\n",
    "results = {'win': 'You win', 'lose': 'You lost', 'draw': 'draw try again'}\n",
    "\n",
    "\n",
    "\n",
    "def start_message(you_lives, computer_lives):\n",
    "    print('Start \\'rock-paper-scissors\\'')\n",
    "    print(f\"Lives You: {you_lives} / Rival: {computer_lives}\")\n",
    "\n",
    "\n",
    "def is_hand(string):\n",
    "    if string.isdigit():\n",
    "        number = int(string)\n",
    "        if number >= 0 and number <= 2:\n",
    "            return True\n",
    "        else:\n",
    "            return False\n",
    "    else:\n",
    "        return False\n",
    "\n",
    "\n",
    "def get_player():\n",
    "    print('Input your hand')\n",
    "    input_message = ''\n",
    "    index = 0\n",
    "    for hand in hands:\n",
    "        input_message += str(index) + ':' + hand\n",
    "        if index < 2:\n",
    "            input_message += ', '\n",
    "        index += 1\n",
    "    return input(input_message)\n",
    "\n",
    "\n",
    "def get_computer():\n",
    "    return random.randint(0, 2)\n",
    "\n",
    "\n",
    "def get_hand_name(hand_number):\n",
    "    return hands[hand_number]\n",
    "\n",
    "\n",
    "def view_hand(your_hand, computer_hand):\n",
    "    print(f\"My hand is {get_hand_name(your_hand)}\")\n",
    "    print(f\"Rival\\'s hand is {get_hand_name(computer_hand)}\")\n",
    "\n",
    "\n",
    "def get_result(hand_diff):\n",
    "    if hand_diff == 0:\n",
    "        return 'draw'\n",
    "    elif hand_diff == -1 or hand_diff == 2:\n",
    "        return 'win'\n",
    "    else:\n",
    "        return 'lose'\n",
    "\n",
    "\n",
    "def view_result(result):\n",
    "    print(f\"{results[result]}\")\n",
    "    \n",
    "def choice():\n",
    "    message = 'Replay?:(Y or N)'\n",
    "    choice_key = input(message)\n",
    "    while not enable_choice(choice_key):\n",
    "        choice_key = input(message)\n",
    "    return choice_key\n",
    "\n",
    "\n",
    "def enable_choice(string):\n",
    "    if string.isalpha():\n",
    "        answer = string\n",
    "        if answer.upper()=='Y' or answer.upper() == 'N':\n",
    "            return True\n",
    "        else:\n",
    "            return False\n",
    "    else:\n",
    "        return False\n",
    "\n",
    "def play(you_lives, computer_lives): \n",
    "    \n",
    "    start_message(you_lives, computer_lives)\n",
    "    your_hand = get_player()\n",
    "    while not is_hand(your_hand):\n",
    "        your_hand = get_player()\n",
    "\n",
    "    your_hand = int(your_hand)\n",
    "    computer_hand = get_computer()\n",
    "    hand_diff = your_hand - computer_hand\n",
    "\n",
    "    view_hand(your_hand, computer_hand)\n",
    "    result = get_result(hand_diff)\n",
    "    view_result(result)\n",
    "    if result == 'draw':\n",
    "        return you_lives, computer_lives\n",
    "        \n",
    "    elif result == 'win' :\n",
    "        computer_lives -=1\n",
    "    else:\n",
    "        you_lives -=1\n",
    "    \n",
    "    return you_lives, computer_lives\n",
    "    \n",
    "def replay(you_lives, computer_lives):\n",
    "    while not(you_lives ==0 or computer_lives ==0):\n",
    "        you_lives, computer_lives = play(you_lives, computer_lives)\n",
    "    answer = choice()\n",
    "    if(answer.upper()=='Y'):\n",
    "        replay(3,3)\n",
    "    else:\n",
    "        return      \n",
    "        \n",
    "replay(3,3)"
   ]
  },
  {
   "cell_type": "markdown",
   "id": "5d131662-102d-477f-89be-f5d84fa3eaf9",
   "metadata": {},
   "source": [
    "## The correct answer accepted by wiredin is the following"
   ]
  },
  {
   "cell_type": "code",
   "execution_count": 1,
   "id": "5558f2c4-47d3-4cdc-9a44-9be450e24f91",
   "metadata": {},
   "outputs": [
    {
     "name": "stdout",
     "output_type": "stream",
     "text": [
      "Start 'rock-paper-scissors'\n",
      "Lives You: 3 / Rival: 3\n",
      "Input your hand\n"
     ]
    },
    {
     "name": "stdin",
     "output_type": "stream",
     "text": [
      "0:rock, 1:scissors, 2:paper 2\n"
     ]
    },
    {
     "name": "stdout",
     "output_type": "stream",
     "text": [
      "My hand is paper\n",
      "Rival's hand is scissors\n",
      "You lost\n",
      "Start 'rock-paper-scissors'\n",
      "Lives You: 2 / Rival: 3\n",
      "Input your hand\n"
     ]
    },
    {
     "name": "stdin",
     "output_type": "stream",
     "text": [
      "0:rock, 1:scissors, 2:paper 2\n"
     ]
    },
    {
     "name": "stdout",
     "output_type": "stream",
     "text": [
      "My hand is paper\n",
      "Rival's hand is paper\n",
      "draw try again\n",
      "Start 'rock-paper-scissors'\n",
      "Lives You: 2 / Rival: 3\n",
      "Input your hand\n"
     ]
    },
    {
     "name": "stdin",
     "output_type": "stream",
     "text": [
      "0:rock, 1:scissors, 2:paper 2\n"
     ]
    },
    {
     "name": "stdout",
     "output_type": "stream",
     "text": [
      "My hand is paper\n",
      "Rival's hand is rock\n",
      "You win\n",
      "Start 'rock-paper-scissors'\n",
      "Lives You: 2 / Rival: 2\n",
      "Input your hand\n"
     ]
    },
    {
     "name": "stdin",
     "output_type": "stream",
     "text": [
      "0:rock, 1:scissors, 2:paper 2\n"
     ]
    },
    {
     "name": "stdout",
     "output_type": "stream",
     "text": [
      "My hand is paper\n",
      "Rival's hand is rock\n",
      "You win\n",
      "Start 'rock-paper-scissors'\n",
      "Lives You: 2 / Rival: 1\n",
      "Input your hand\n"
     ]
    },
    {
     "name": "stdin",
     "output_type": "stream",
     "text": [
      "0:rock, 1:scissors, 2:paper 2\n"
     ]
    },
    {
     "name": "stdout",
     "output_type": "stream",
     "text": [
      "My hand is paper\n",
      "Rival's hand is paper\n",
      "draw try again\n",
      "Start 'rock-paper-scissors'\n",
      "Lives You: 2 / Rival: 1\n",
      "Input your hand\n"
     ]
    },
    {
     "name": "stdin",
     "output_type": "stream",
     "text": [
      "0:rock, 1:scissors, 2:paper 2\n"
     ]
    },
    {
     "name": "stdout",
     "output_type": "stream",
     "text": [
      "My hand is paper\n",
      "Rival's hand is rock\n",
      "You win\n"
     ]
    },
    {
     "name": "stdin",
     "output_type": "stream",
     "text": [
      "Replay?:(Y or N) N\n"
     ]
    }
   ],
   "source": [
    "\n",
    "\n",
    "import random\n",
    "\n",
    "hands = ['rock', 'scissors', 'paper']\n",
    "results = {'win': 'You win', 'lose': 'You lost', 'draw': 'draw try again'}\n",
    "\n",
    "\n",
    "\n",
    "def start_message(you_lives, computer_lives):\n",
    "    print('Start \\'rock-paper-scissors\\'')\n",
    "    print(f\"Lives You: {you_lives} / Rival: {computer_lives}\")\n",
    "\n",
    "\n",
    "def is_hand(string):\n",
    "    if string.isdigit():\n",
    "        number = int(string)\n",
    "        if number >= 0 and number <= 2:\n",
    "            return True\n",
    "        else:\n",
    "            return False\n",
    "    else:\n",
    "        return False\n",
    "\n",
    "\n",
    "def get_player():\n",
    "    print('Input your hand')\n",
    "    input_message = ''\n",
    "    index = 0\n",
    "    for hand in hands:\n",
    "        input_message += str(index) + ':' + hand\n",
    "        if index < 2:\n",
    "            input_message += ', '\n",
    "        index += 1\n",
    "    return input(input_message)\n",
    "\n",
    "\n",
    "def get_computer():\n",
    "    return random.randint(0, 2)\n",
    "\n",
    "\n",
    "def get_hand_name(hand_number):\n",
    "    return hands[hand_number]\n",
    "\n",
    "\n",
    "def view_hand(your_hand, computer_hand):\n",
    "    print(f\"My hand is {get_hand_name(your_hand)}\")\n",
    "    print(f\"Rival\\'s hand is {get_hand_name(computer_hand)}\")\n",
    "\n",
    "\n",
    "def get_result(hand_diff):\n",
    "    if hand_diff == 0:\n",
    "        return 'draw'\n",
    "    elif hand_diff == -1 or hand_diff == 2:\n",
    "        return 'win'\n",
    "    else:\n",
    "        return 'lose'\n",
    "\n",
    "\n",
    "def view_result(result):\n",
    "    print(f\"{results[result]}\")\n",
    "\n",
    "def choice():\n",
    "    message = 'Replay?:(Y or N)'\n",
    "    choice_key = input(message)\n",
    "    while not enable_choice(choice_key):\n",
    "        choice_key = input(message)\n",
    "    return choice_key\n",
    "\n",
    "\n",
    "def enable_choice(string):\n",
    "    if string.isalpha():\n",
    "        answer = string\n",
    "        if answer.upper()=='Y' or answer.upper() == 'N':\n",
    "            return True\n",
    "        else:\n",
    "            return False\n",
    "    else:\n",
    "        return False\n",
    "\n",
    "def play(you_lives, computer_lives):\n",
    "\n",
    "    start_message(you_lives, computer_lives)\n",
    "    your_hand = get_player()\n",
    "    while not is_hand(your_hand):\n",
    "        your_hand = get_player()\n",
    "\n",
    "    your_hand = int(your_hand)\n",
    "    computer_hand = get_computer()\n",
    "    hand_diff = your_hand - computer_hand\n",
    "\n",
    "    view_hand(your_hand, computer_hand)\n",
    "    result = get_result(hand_diff)\n",
    "    view_result(result)\n",
    "    if result == 'draw':\n",
    "        return you_lives, computer_lives\n",
    "\n",
    "    elif result == 'win' :\n",
    "        computer_lives -=1\n",
    "    else:\n",
    "        you_lives -=1\n",
    "\n",
    "    return you_lives, computer_lives\n",
    "\n",
    "def replay(you_lives, computer_lives):\n",
    "    while not(you_lives ==0 or computer_lives ==0):\n",
    "        you_lives, computer_lives = play(you_lives, computer_lives)\n",
    "    answer = choice()\n",
    "    if(answer.upper()=='Y'):\n",
    "        replay(3,3)\n",
    "    else:\n",
    "        return\n",
    "\n",
    "replay(3,3)\n",
    "\n"
   ]
  },
  {
   "cell_type": "code",
   "execution_count": null,
   "id": "a9f46e9d-bf57-421d-b897-f9a7ce482dec",
   "metadata": {},
   "outputs": [],
   "source": []
  }
 ],
 "metadata": {
  "kernelspec": {
   "display_name": "Python 3 (ipykernel)",
   "language": "python",
   "name": "python3"
  },
  "language_info": {
   "codemirror_mode": {
    "name": "ipython",
    "version": 3
   },
   "file_extension": ".py",
   "mimetype": "text/x-python",
   "name": "python",
   "nbconvert_exporter": "python",
   "pygments_lexer": "ipython3",
   "version": "3.12.4"
  }
 },
 "nbformat": 4,
 "nbformat_minor": 5
}
