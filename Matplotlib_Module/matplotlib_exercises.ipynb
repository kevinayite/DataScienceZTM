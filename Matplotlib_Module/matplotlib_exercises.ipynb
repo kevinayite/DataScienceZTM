{
  "cells": [
    {
      "cell_type": "markdown",
      "metadata": {
        "id": "oPMx4C_jYmbC"
      },
      "source": [
        "# Matplotlib Practice\n",
        "\n",
        "This notebook offers a set of exercises to different tasks with Matplotlib.\n",
        "\n",
        "It should be noted there may be more than one different way to answer a question or complete an exercise.\n",
        "\n",
        "Different tasks will be detailed by comments or text.\n",
        "\n",
        "For further reference and resources, it's advised to check out the [Matplotlib documentation](https://matplotlib.org/3.1.1/contents.html).\n",
        "\n",
        "If you're stuck, don't forget, you can always search for a function, for example if you want to create a plot with `plt.subplots()`, search for [`plt.subplots()`](https://www.google.com/search?q=plt.subplots())."
      ]
    },
    {
      "cell_type": "code",
      "execution_count": null,
      "metadata": {
        "id": "e_lNEBUsYmbH"
      },
      "outputs": [],
      "source": [
        "# Import the pyplot module from matplotlib as plt and make sure\n",
        "# plots appear in the notebook using '%matplotlib inline'\n"
      ]
    },
    {
      "cell_type": "code",
      "execution_count": null,
      "metadata": {
        "id": "5G9MqYuRYmbK"
      },
      "outputs": [],
      "source": [
        "# Create a simple plot using plt.plot()\n"
      ]
    },
    {
      "cell_type": "code",
      "execution_count": null,
      "metadata": {
        "id": "pD3hgBkgYmbK"
      },
      "outputs": [],
      "source": [
        "# Plot a single Python list\n"
      ]
    },
    {
      "cell_type": "code",
      "execution_count": null,
      "metadata": {
        "id": "BVMJ6HEEYmbL"
      },
      "outputs": [],
      "source": [
        "# Create two lists, one called X, one called y, each with 5 numbers in them\n"
      ]
    },
    {
      "cell_type": "code",
      "execution_count": null,
      "metadata": {
        "id": "8kKwrnxLYmbL"
      },
      "outputs": [],
      "source": [
        "# Plot X & y (the lists you've created)\n"
      ]
    },
    {
      "cell_type": "markdown",
      "metadata": {
        "id": "jz938P11YmbM"
      },
      "source": [
        "There's another way to create plots with Matplotlib, it's known as the object-orientated (OO) method. Let's try it."
      ]
    },
    {
      "cell_type": "code",
      "execution_count": null,
      "metadata": {
        "id": "2xqpJYorYmbM"
      },
      "outputs": [],
      "source": [
        "# Create a plot using plt.subplots()\n"
      ]
    },
    {
      "cell_type": "code",
      "execution_count": null,
      "metadata": {
        "id": "esl2MuWSYmbM"
      },
      "outputs": [],
      "source": [
        "# Create a plot using plt.subplots() and then add X & y on the axes\n"
      ]
    },
    {
      "cell_type": "markdown",
      "metadata": {
        "id": "jTuKZkGHYmbN"
      },
      "source": [
        "Now let's try a small matplotlib workflow."
      ]
    },
    {
      "cell_type": "code",
      "execution_count": null,
      "metadata": {
        "id": "629OcUnHYmbN"
      },
      "outputs": [],
      "source": [
        "# Import and get matplotlib ready\n",
        "\n",
        "\n",
        "# Prepare data (create two lists of 5 numbers, X & y)\n",
        "\n",
        "\n",
        "# Setup figure and axes using plt.subplots()\n",
        "\n",
        "\n",
        "# Add data (X, y) to axes\n",
        "\n",
        "\n",
        "# Customize plot by adding a title, xlabel and ylabel\n",
        "\n",
        "\n",
        "# Save the plot to file using fig.savefig()\n"
      ]
    },
    {
      "cell_type": "markdown",
      "metadata": {
        "id": "7lNK6GMEYmbO"
      },
      "source": [
        "Okay, this is a simple line plot, how about something a little different?\n",
        "\n",
        "To help us, we'll import NumPy."
      ]
    },
    {
      "cell_type": "code",
      "execution_count": null,
      "metadata": {
        "id": "hIjB8RKEYmbO"
      },
      "outputs": [],
      "source": [
        "# Import NumPy as np\n"
      ]
    },
    {
      "cell_type": "code",
      "execution_count": null,
      "metadata": {
        "id": "GkAChdXJYmbO"
      },
      "outputs": [],
      "source": [
        "# Create an array of 100 evenly spaced numbers between 0 and 100 using NumPy and save it to variable X\n"
      ]
    },
    {
      "cell_type": "code",
      "execution_count": null,
      "metadata": {
        "id": "uFSATR7sYmbP"
      },
      "outputs": [],
      "source": [
        "# Create a plot using plt.subplots() and plot X versus X^2 (X squared)\n"
      ]
    },
    {
      "cell_type": "markdown",
      "metadata": {
        "id": "I9EWXYsBYmbP"
      },
      "source": [
        "We'll start with scatter plots."
      ]
    },
    {
      "cell_type": "code",
      "execution_count": null,
      "metadata": {
        "id": "RSp8vaj3YmbP"
      },
      "outputs": [],
      "source": [
        "# Create a scatter plot of X versus the exponential of X (np.exp(X))\n"
      ]
    },
    {
      "cell_type": "code",
      "execution_count": null,
      "metadata": {
        "id": "P8pg9UbhYmbP"
      },
      "outputs": [],
      "source": [
        "# Create a scatter plot of X versus np.sin(X)\n"
      ]
    },
    {
      "cell_type": "markdown",
      "metadata": {
        "id": "5jZMuOtFYmbQ"
      },
      "source": [
        "How about we try another type of plot? This time let's look at a bar plot. First we'll make some data."
      ]
    },
    {
      "cell_type": "code",
      "execution_count": null,
      "metadata": {
        "id": "PzE7ewFrYmbQ"
      },
      "outputs": [],
      "source": [
        "# Create a Python dictionary of 3 of your favourite foods with\n",
        "# The keys of the dictionary should be the food name and the values their price\n"
      ]
    },
    {
      "cell_type": "code",
      "execution_count": null,
      "metadata": {
        "id": "apSz4OpAYmbQ"
      },
      "outputs": [],
      "source": [
        "# Create a bar graph where the x-axis is the keys of the dictionary\n",
        "# and the y-axis is the values of the dictionary\n",
        "\n",
        "\n",
        "# Add a title, xlabel and ylabel to the plot\n"
      ]
    },
    {
      "cell_type": "code",
      "execution_count": null,
      "metadata": {
        "id": "WY1d9jvRYmbR"
      },
      "outputs": [],
      "source": [
        "# Make the same plot as above, except this time make the bars go horizontal\n"
      ]
    },
    {
      "cell_type": "markdown",
      "metadata": {
        "id": "kcgEpSr4YmbR"
      },
      "source": [
        "All this food plotting is making me hungry. But we've got a couple of plots to go.\n",
        "\n",
        "Let's see a histogram."
      ]
    },
    {
      "cell_type": "code",
      "execution_count": null,
      "metadata": {
        "id": "KSy4n2T0YmbR"
      },
      "outputs": [],
      "source": [
        "# Create a random NumPy array of 1000 normally distributed numbers using NumPy and save it to X\n",
        "\n",
        "\n",
        "# Create a histogram plot of X\n"
      ]
    },
    {
      "cell_type": "code",
      "execution_count": null,
      "metadata": {
        "id": "kF41kKtdYmbS"
      },
      "outputs": [],
      "source": [
        "# Create a NumPy array of 1000 random numbers and save it to X\n",
        "\n",
        "\n",
        "# Create a histogram plot of X\n"
      ]
    },
    {
      "cell_type": "markdown",
      "metadata": {
        "id": "QYVzIQrBYmbS"
      },
      "source": [
        "Notice how the distributions (spread of data) are different. Why do they differ?\n",
        "\n",
        "What else can you find out about the normal distribution?\n",
        "\n",
        "Can you think of any other kinds of data which may be normally distributed?\n",
        "\n",
        "These questions aren't directly related to plotting or Matplotlib but they're helpful to think of.\n",
        "\n",
        "Now let's try make some subplots. A subplot is another name for a figure with multiple plots on it."
      ]
    },
    {
      "cell_type": "code",
      "execution_count": null,
      "metadata": {
        "id": "REEKGvvRYmbT"
      },
      "outputs": [],
      "source": [
        "# Create an empty subplot with 2 rows and 2 columns (4 subplots total)\n"
      ]
    },
    {
      "cell_type": "markdown",
      "metadata": {
        "id": "H7BlLJwXYmbU"
      },
      "source": [
        "Notice how the subplot has multiple figures. Now let's add data to each axes."
      ]
    },
    {
      "cell_type": "code",
      "execution_count": null,
      "metadata": {
        "id": "3B9Sern2YmbU"
      },
      "outputs": [],
      "source": [
        "# Create the same plot as above with 2 rows and 2 columns and figsize of (10, 5)\n",
        "\n",
        "\n",
        "# Plot X versus X/2 on the top left axes\n",
        "\n",
        "\n",
        "# Plot a scatter plot of 10 random numbers on each axis on the top right subplot\n",
        "\n",
        "\n",
        "# Plot a bar graph of the favourite food keys and values on the bottom left subplot\n",
        "\n",
        "\n",
        "# Plot a histogram of 1000 random normally distributed numbers on the bottom right subplot\n"
      ]
    },
    {
      "cell_type": "markdown",
      "metadata": {
        "id": "UO60nK2DYmbV"
      },
      "source": [
        "Woah. There's a lot going on there.\n",
        "\n",
        "Now we've seen how to plot with Matplotlib and data directly. Let's practice using Matplotlib to plot with pandas.\n",
        "\n",
        "First we'll need to import pandas and create a DataFrame work with."
      ]
    },
    {
      "cell_type": "code",
      "execution_count": null,
      "metadata": {
        "id": "KzVOQINbYmbV"
      },
      "outputs": [],
      "source": [
        "# Import pandas as pd\n"
      ]
    },
    {
      "cell_type": "code",
      "execution_count": null,
      "metadata": {
        "id": "beEgARgiYmbV"
      },
      "outputs": [],
      "source": [
        "# Import the '../data/car-sales.csv' into a DataFame called car_sales and view\n"
      ]
    },
    {
      "cell_type": "code",
      "execution_count": null,
      "metadata": {
        "id": "JHDrEPfVYmbW"
      },
      "outputs": [],
      "source": [
        "# Try to plot the 'Price' column using the plot() function\n"
      ]
    },
    {
      "cell_type": "markdown",
      "metadata": {
        "id": "1d0GbIK3YmbX"
      },
      "source": [
        "Why doesn't it work?\n",
        "\n",
        "Hint: It's not numeric data.\n",
        "\n",
        "In the process of turning it to numeric data, let's create another column which adds the total amount of sales and another one which shows what date the car was sold.\n",
        "\n",
        "Hint: To add a column up cumulatively, look up the cumsum() function. And to create a column of dates, look up the date_range() function."
      ]
    },
    {
      "cell_type": "code",
      "execution_count": null,
      "metadata": {
        "id": "q-lB5t-wYmbX"
      },
      "outputs": [],
      "source": [
        "# Remove the symbols, the final two numbers from the 'Price' column and convert it to numbers\n"
      ]
    },
    {
      "cell_type": "code",
      "execution_count": null,
      "metadata": {
        "id": "AOMBjt2mYmbX"
      },
      "outputs": [],
      "source": [
        "# Add a column called 'Total Sales' to car_sales which cumulatively adds the 'Price' column\n",
        "\n",
        "\n",
        "# Add a column called 'Sale Date' which lists a series of successive dates starting from today (your today)\n",
        "\n",
        "# View the car_sales DataFrame\n"
      ]
    },
    {
      "cell_type": "markdown",
      "metadata": {
        "id": "7Z4diiTtYmbX"
      },
      "source": [
        "Now we've got a numeric column (`Total Sales`) and a dates column (`Sale Date`), let's visualize them."
      ]
    },
    {
      "cell_type": "code",
      "execution_count": null,
      "metadata": {
        "id": "Kirx_rRLYmbY"
      },
      "outputs": [],
      "source": [
        "# Use the plot() function to plot the 'Sale Date' column versus the 'Total Sales' column\n"
      ]
    },
    {
      "cell_type": "code",
      "execution_count": null,
      "metadata": {
        "id": "6vZiD0A1YmbY"
      },
      "outputs": [],
      "source": [
        "# Convert the 'Price' column to the integers\n",
        "\n",
        "\n",
        "# Create a scatter plot of the 'Odometer (KM)' and 'Price' column using the plot() function\n"
      ]
    },
    {
      "cell_type": "code",
      "execution_count": null,
      "metadata": {
        "id": "4Hitit8JYmbh"
      },
      "outputs": [],
      "source": [
        "# Create a NumPy array of random numbers of size (10, 4) and save it to X\n",
        "\n",
        "\n",
        "# Turn the NumPy array X into a DataFrame with columns called ['a', 'b', 'c', 'd']\n",
        "\n",
        "\n",
        "# Create a bar graph of the DataFrame\n"
      ]
    },
    {
      "cell_type": "code",
      "execution_count": null,
      "metadata": {
        "id": "theulnyGYmbh"
      },
      "outputs": [],
      "source": [
        "# Create a bar graph of the 'Make' and 'Odometer (KM)' columns in the car_sales DataFrame\n"
      ]
    },
    {
      "cell_type": "code",
      "execution_count": null,
      "metadata": {
        "id": "gCFc60yJYmbh"
      },
      "outputs": [],
      "source": [
        "# Create a histogram of the 'Odometer (KM)' column\n"
      ]
    },
    {
      "cell_type": "code",
      "execution_count": null,
      "metadata": {
        "id": "Zl4Klfn4Ymbi"
      },
      "outputs": [],
      "source": [
        "# Create a histogram of the 'Price' column with 20 bins\n"
      ]
    },
    {
      "cell_type": "markdown",
      "metadata": {
        "id": "-ergYWxNYmbi"
      },
      "source": [
        "Now we've seen a few examples of plotting directly from DataFrames using the `car_sales` dataset.\n",
        "\n",
        "Let's try using a different dataset."
      ]
    },
    {
      "cell_type": "code",
      "execution_count": null,
      "metadata": {
        "id": "iXIa21pHYmbi"
      },
      "outputs": [],
      "source": [
        "# Import \"../data/heart-disease.csv\" and save it to the variable \"heart_disease\"\n"
      ]
    },
    {
      "cell_type": "code",
      "execution_count": null,
      "metadata": {
        "id": "OwaNOprEYmbj"
      },
      "outputs": [],
      "source": [
        "# View the first 10 rows of the heart_disease DataFrame\n"
      ]
    },
    {
      "cell_type": "code",
      "execution_count": null,
      "metadata": {
        "id": "Pl2b_w_SYmbj"
      },
      "outputs": [],
      "source": [
        "# Create a histogram of the \"age\" column with 50 bins\n"
      ]
    },
    {
      "cell_type": "code",
      "execution_count": null,
      "metadata": {
        "id": "c6ws9hNNYmbj"
      },
      "outputs": [],
      "source": [
        "# Call plot.hist() on the heart_disease DataFrame and toggle the\n",
        "# \"subplots\" parameter to True\n"
      ]
    },
    {
      "cell_type": "markdown",
      "metadata": {
        "id": "hjXOFjGHYmbk"
      },
      "source": [
        "That plot looks pretty squished. Let's change the figsize."
      ]
    },
    {
      "cell_type": "code",
      "execution_count": null,
      "metadata": {
        "id": "CkyX1BPHYmbk"
      },
      "outputs": [],
      "source": [
        "# Call the same line of code from above except change the \"figsize\" parameter\n",
        "# to be (10, 30)\n"
      ]
    },
    {
      "cell_type": "markdown",
      "metadata": {
        "id": "T8ecS-3LYmbk"
      },
      "source": [
        "Now let's try comparing two variables versus the target variable.\n",
        "\n",
        "More specifially we'll see how age and cholesterol combined effect the target in **patients over 50 years old**.\n",
        "\n",
        "For this next challenge, we're going to be replicating the following plot:\n",
        "\n",
        "<img src=\"https://github.com/mrdbourke/zero-to-mastery-ml/blob/master/images/matplotlib-heart-disease-chol-age-plot.png?raw=1\"/>"
      ]
    },
    {
      "cell_type": "code",
      "execution_count": null,
      "metadata": {
        "id": "iXOPN9KfYmbl"
      },
      "outputs": [],
      "source": [
        "# Replicate the above plot in whichever way you see fit\n",
        "\n",
        "# Note: The method below is only one way of doing it, yours might be\n",
        "# slightly different\n",
        "\n",
        "# Create DataFrame with patients over 50 years old\n",
        "\n",
        "\n",
        "# Create the plot\n",
        "\n",
        "\n",
        "# Plot the data\n",
        "\n",
        "\n",
        "# Customize the plot\n",
        "\n",
        "\n",
        "# Add a meanline\n"
      ]
    },
    {
      "cell_type": "markdown",
      "metadata": {
        "id": "mkgH9ThWYmbl"
      },
      "source": [
        "Beatiful, now you've created a plot of two different variables, let's change the style."
      ]
    },
    {
      "cell_type": "code",
      "execution_count": null,
      "metadata": {
        "id": "-ncrjMbcYmbl"
      },
      "outputs": [],
      "source": [
        "# Check what styles are available under plt\n"
      ]
    },
    {
      "cell_type": "code",
      "execution_count": null,
      "metadata": {
        "id": "fXRXhvJyYmbm"
      },
      "outputs": [],
      "source": [
        "# Change the style to use \"seaborn-whitegrid\"\n"
      ]
    },
    {
      "cell_type": "markdown",
      "metadata": {
        "id": "3eE23qA6Ymbm"
      },
      "source": [
        "Now the style has been changed, we'll replot the same figure from above and see what it looks like.\n",
        "\n",
        "If you've changed the style correctly, it should look like the following:\n",
        "<img src=\"https://github.com/mrdbourke/zero-to-mastery-ml/blob/master/images/matplotlib-heart-disease-chol-age-plot-seaborn-whitegrid.png?raw=1\"/>\n"
      ]
    },
    {
      "cell_type": "code",
      "execution_count": null,
      "metadata": {
        "id": "qjugDVZFYmbn"
      },
      "outputs": [],
      "source": [
        "# Reproduce the same figure as above with the \"seaborn-whitegrid\" style\n",
        "\n",
        "# Create the plot\n",
        "\n",
        "\n",
        "# Plot the data\n",
        "\n",
        "\n",
        "# Customize the plot\n",
        "\n",
        "\n",
        "# Add a meanline\n"
      ]
    },
    {
      "cell_type": "markdown",
      "metadata": {
        "id": "BekzhaS9Ymbn"
      },
      "source": [
        "Wonderful, you've changed the style of the plots and the figure is looking different but the dots aren't a very good colour.\n",
        "\n",
        "Let's change the `cmap` parameter of `scatter()` as well as the `color` parameter of `axhline()` to fix it.\n",
        "\n",
        "Completing this step correctly should result in a figure which looks like this:\n",
        "<img src=\"https://github.com/mrdbourke/zero-to-mastery-ml/blob/master/images/matplotlib-heart-disease-chol-age-plot-cmap-change.png?raw=1\"/>"
      ]
    },
    {
      "cell_type": "code",
      "execution_count": null,
      "metadata": {
        "id": "Oe9kSUW9Ymbn"
      },
      "outputs": [],
      "source": [
        "# Replot the same figure as above except change the \"cmap\" parameter\n",
        "# of scatter() to \"winter\"\n",
        "# Also change the \"color\" parameter of axhline() to \"red\"\n",
        "\n",
        "# Create the plot\n",
        "\n",
        "\n",
        "# Plot the data\n",
        "\n",
        "\n",
        "# Customize the plot\n",
        "\n",
        "\n",
        "# Add a meanline\n"
      ]
    },
    {
      "cell_type": "markdown",
      "metadata": {
        "id": "SXIMyQl-Ymbo"
      },
      "source": [
        "Beautiful! Now our figure has an upgraded color scheme let's save it to file."
      ]
    },
    {
      "cell_type": "code",
      "execution_count": null,
      "metadata": {
        "id": "RpadesiYYmbo"
      },
      "outputs": [],
      "source": [
        "# Save the current figure using savefig(), the file name can be anything you want\n"
      ]
    },
    {
      "cell_type": "code",
      "execution_count": null,
      "metadata": {
        "id": "2WAmOTf3Ymbo"
      },
      "outputs": [],
      "source": [
        "# Reset the figure by calling plt.subplots()\n"
      ]
    },
    {
      "cell_type": "markdown",
      "metadata": {
        "id": "0lVmlPp5Ymbp"
      },
      "source": [
        "## Extensions\n",
        "\n",
        "For more exercises, check out the [Matplotlib tutorials page](https://matplotlib.org/3.1.1/tutorials/index.html). A good practice would be to read through it and for the parts you find interesting, add them into the end of this notebook.\n",
        "\n",
        "The next place you could go is the [Stack Overflow page for the top questions and answers for Matplotlib](https://stackoverflow.com/questions/tagged/matplotlib?sort=MostVotes&edited=true). Often, you'll find some of the most common and useful Matplotlib functions here. Don't forget to play around with the Stack Overflow filters! You'll likely find something helpful here.\n",
        "\n",
        "Finally, as always, remember, the best way to learn something new is to try it. And try it relentlessly. Always be asking yourself, \"is there a better way this data could be visualized so it's easier to understand?\""
      ]
    }
  ],
  "metadata": {
    "kernelspec": {
      "display_name": "Python 3",
      "language": "python",
      "name": "python3"
    },
    "language_info": {
      "codemirror_mode": {
        "name": "ipython",
        "version": 3
      },
      "file_extension": ".py",
      "mimetype": "text/x-python",
      "name": "python",
      "nbconvert_exporter": "python",
      "pygments_lexer": "ipython3",
      "version": "3.6.9"
    },
    "colab": {
      "provenance": []
    }
  },
  "nbformat": 4,
  "nbformat_minor": 0
}